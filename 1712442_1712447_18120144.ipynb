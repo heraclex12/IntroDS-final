{
 "cells": [
  {
   "cell_type": "markdown",
   "metadata": {},
   "source": [
    "## Thông tin nhóm\n",
    "\n",
    "**Thành viên thứ 1:**\n",
    "\n",
    "- Họ và tên: Trần Trung Hiếu\n",
    "- MSSV: 1712442\n",
    "\n",
    "**Thành viên thứ 2:**\n",
    "- Họ và tên: Lê Long Hồ\n",
    "- MSSV: 1712447\n",
    "\n",
    "**Thành viên thứ 3:**\n",
    "- Họ và tên: Nguyễn Đình Thiên Phúc\n",
    "- MSSV: 18120144\n",
    "\n",
    "___"
   ]
  },
  {
   "cell_type": "markdown",
   "metadata": {},
   "source": [
    "## Import"
   ]
  },
  {
   "cell_type": "code",
   "execution_count": 1,
   "metadata": {},
   "outputs": [
    {
     "name": "stdout",
     "output_type": "stream",
     "text": [
      "Collecting nltk\n",
      "Collecting click (from nltk)\n",
      "  Using cached https://files.pythonhosted.org/packages/d2/3d/fa76db83bf75c4f8d338c2fd15c8d33fdd7ad23a9b5e57eb6c5de26b430e/click-7.1.2-py2.py3-none-any.whl\n",
      "Collecting regex (from nltk)\n",
      "  Using cached https://files.pythonhosted.org/packages/5a/75/aca08032c9752a75acc60ff7f4e58f1a74164b996395f44727ffdb17ebaf/regex-2020.11.13-cp36-cp36m-manylinux1_x86_64.whl\n",
      "Collecting joblib (from nltk)\n",
      "  Using cached https://files.pythonhosted.org/packages/34/5b/bd0f0fb5564183884d8e35b81d06d7ec06a20d1a0c8b4c407f1554691dce/joblib-1.0.0-py3-none-any.whl\n",
      "Collecting tqdm (from nltk)\n",
      "  Using cached https://files.pythonhosted.org/packages/80/02/8f8880a4fd6625461833abcf679d4c12a44c76f9925f92bf212bb6cefaad/tqdm-4.56.0-py2.py3-none-any.whl\n",
      "Installing collected packages: click, regex, joblib, tqdm, nltk\n",
      "Successfully installed click-7.1.2 joblib-1.0.0 nltk-3.5 regex-2020.11.13 tqdm-4.56.0\n",
      "Collecting pyvi\n",
      "  Using cached https://files.pythonhosted.org/packages/10/e1/0e5bc6b5e3327b9385d6e0f1b0a7c0404f28b74eb6db59a778515b30fd9c/pyvi-0.1-py2.py3-none-any.whl\n",
      "Collecting scikit-learn (from pyvi)\n",
      "Collecting sklearn-crfsuite (from pyvi)\n",
      "  Using cached https://files.pythonhosted.org/packages/25/74/5b7befa513482e6dee1f3dd68171a6c9dfc14c0eaa00f885ffeba54fe9b0/sklearn_crfsuite-0.3.6-py2.py3-none-any.whl\n",
      "Collecting threadpoolctl>=2.0.0 (from scikit-learn->pyvi)\n",
      "  Using cached https://files.pythonhosted.org/packages/f7/12/ec3f2e203afa394a149911729357aa48affc59c20e2c1c8297a60f33f133/threadpoolctl-2.1.0-py3-none-any.whl\n",
      "Collecting joblib>=0.11 (from scikit-learn->pyvi)\n",
      "  Using cached https://files.pythonhosted.org/packages/34/5b/bd0f0fb5564183884d8e35b81d06d7ec06a20d1a0c8b4c407f1554691dce/joblib-1.0.0-py3-none-any.whl\n",
      "Collecting scipy>=0.19.1 (from scikit-learn->pyvi)\n",
      "  Using cached https://files.pythonhosted.org/packages/c8/89/63171228d5ced148f5ced50305c89e8576ffc695a90b58fe5bb602b910c2/scipy-1.5.4-cp36-cp36m-manylinux1_x86_64.whl\n",
      "Collecting numpy>=1.13.3 (from scikit-learn->pyvi)\n",
      "  Using cached https://files.pythonhosted.org/packages/45/b2/6c7545bb7a38754d63048c7696804a0d947328125d81bf12beaa692c3ae3/numpy-1.19.5-cp36-cp36m-manylinux1_x86_64.whl\n",
      "Collecting six (from sklearn-crfsuite->pyvi)\n",
      "  Using cached https://files.pythonhosted.org/packages/ee/ff/48bde5c0f013094d729fe4b0316ba2a24774b3ff1c52d924a8a4cb04078a/six-1.15.0-py2.py3-none-any.whl\n",
      "Collecting tqdm>=2.0 (from sklearn-crfsuite->pyvi)\n",
      "  Using cached https://files.pythonhosted.org/packages/80/02/8f8880a4fd6625461833abcf679d4c12a44c76f9925f92bf212bb6cefaad/tqdm-4.56.0-py2.py3-none-any.whl\n",
      "Collecting tabulate (from sklearn-crfsuite->pyvi)\n",
      "  Using cached https://files.pythonhosted.org/packages/c4/f4/770ae9385990f5a19a91431163d262182d3203662ea2b5739d0fcfc080f1/tabulate-0.8.7-py3-none-any.whl\n",
      "Collecting python-crfsuite>=0.8.3 (from sklearn-crfsuite->pyvi)\n",
      "  Using cached https://files.pythonhosted.org/packages/95/99/869dde6dbf3e0d07a013c8eebfb0a3d30776334e0097f8432b631a9a3a19/python_crfsuite-0.9.7-cp36-cp36m-manylinux1_x86_64.whl\n",
      "Installing collected packages: threadpoolctl, joblib, numpy, scipy, scikit-learn, six, tqdm, tabulate, python-crfsuite, sklearn-crfsuite, pyvi\n",
      "Successfully installed joblib-1.0.0 numpy-1.19.5 python-crfsuite-0.9.7 pyvi-0.1 scikit-learn-0.24.0 scipy-1.5.4 six-1.15.0 sklearn-crfsuite-0.3.6 tabulate-0.8.7 threadpoolctl-2.1.0 tqdm-4.56.0\n"
     ]
    },
    {
     "name": "stderr",
     "output_type": "stream",
     "text": [
      "[nltk_data] Downloading package punkt to\n",
      "[nltk_data]     /home/tthieu22_06/nltk_data...\n",
      "[nltk_data]   Package punkt is already up-to-date!\n"
     ]
    }
   ],
   "source": [
    "!pip3 install nltk\n",
    "!pip3 install pyvi\n",
    "\n",
    "import nltk\n",
    "nltk.download('punkt')\n",
    "from nltk.tokenize import word_tokenize\n",
    "import csv\n",
    "import json\n",
    "import pandas as pd\n",
    "import numpy as np\n",
    "import matplotlib.pyplot as plt\n",
    "from collections import Counter\n",
    "import re\n",
    "from pyvi import ViTokenizer\n",
    "from nltk.stem.porter import PorterStemmer\n",
    "import string\n",
    "\n",
    "from sklearn.linear_model import LogisticRegression\n",
    "from sklearn.model_selection import train_test_split\n",
    "from sklearn.base import BaseEstimator, TransformerMixin\n",
    "from sklearn.pipeline import Pipeline, make_pipeline\n",
    "from sklearn.feature_extraction.text import TfidfVectorizer\n",
    "\n",
    "pd.set_option('display.max_rows', 500)"
   ]
  },
  {
   "cell_type": "markdown",
   "metadata": {},
   "source": [
    "---"
   ]
  },
  {
   "cell_type": "markdown",
   "metadata": {},
   "source": [
    "## Thu thập dữ liệu"
   ]
  },
  {
   "cell_type": "markdown",
   "metadata": {},
   "source": [
    "TODO"
   ]
  },
  {
   "cell_type": "markdown",
   "metadata": {},
   "source": [
    "---"
   ]
  },
  {
   "cell_type": "markdown",
   "metadata": {},
   "source": [
    "## Khám phá dữ liệu"
   ]
  },
  {
   "cell_type": "code",
   "execution_count": 2,
   "metadata": {},
   "outputs": [
    {
     "data": {
      "text/html": [
       "<div>\n",
       "<style scoped>\n",
       "    .dataframe tbody tr th:only-of-type {\n",
       "        vertical-align: middle;\n",
       "    }\n",
       "\n",
       "    .dataframe tbody tr th {\n",
       "        vertical-align: top;\n",
       "    }\n",
       "\n",
       "    .dataframe thead th {\n",
       "        text-align: right;\n",
       "    }\n",
       "</style>\n",
       "<table border=\"1\" class=\"dataframe\">\n",
       "  <thead>\n",
       "    <tr style=\"text-align: right;\">\n",
       "      <th></th>\n",
       "      <th>url</th>\n",
       "      <th>title</th>\n",
       "      <th>score</th>\n",
       "      <th>posterImagePath</th>\n",
       "      <th>certification</th>\n",
       "      <th>overview</th>\n",
       "      <th>tagline</th>\n",
       "      <th>genres</th>\n",
       "      <th>trailerUrl</th>\n",
       "      <th>language</th>\n",
       "    </tr>\n",
       "  </thead>\n",
       "  <tbody>\n",
       "    <tr>\n",
       "      <th>5158</th>\n",
       "      <td>https://www.themoviedb.org/movie/432976</td>\n",
       "      <td>Icarus\\n(2017)</td>\n",
       "      <td>78.0</td>\n",
       "      <td>poster_final/432976.jpg</td>\n",
       "      <td>12</td>\n",
       "      <td>While investigating the furtive world of illeg...</td>\n",
       "      <td>Truth is the new banned substance</td>\n",
       "      <td>Phim Tài Liệu</td>\n",
       "      <td>NaN</td>\n",
       "      <td>en</td>\n",
       "    </tr>\n",
       "    <tr>\n",
       "      <th>2130</th>\n",
       "      <td>https://www.themoviedb.org/tv/82596</td>\n",
       "      <td>Emily in Paris\\n(2020)</td>\n",
       "      <td>81.0</td>\n",
       "      <td>poster_final/82596.jpg</td>\n",
       "      <td>TV-MA</td>\n",
       "      <td>When ambitious Chicago marketing exec Emily un...</td>\n",
       "      <td>Pardon her French.</td>\n",
       "      <td>Phim Chính Kịch, Phim Hài</td>\n",
       "      <td>NaN</td>\n",
       "      <td>en</td>\n",
       "    </tr>\n",
       "    <tr>\n",
       "      <th>1073</th>\n",
       "      <td>https://www.themoviedb.org/tv/10079</td>\n",
       "      <td>Spider-Man Unlimited\\n(1999)</td>\n",
       "      <td>73.0</td>\n",
       "      <td>poster_final/10079.jpg</td>\n",
       "      <td>NaN</td>\n",
       "      <td>Spider-Man Unlimited was a short-lived America...</td>\n",
       "      <td>NaN</td>\n",
       "      <td>Phim Hoạt Hình, Action &amp; Adventure</td>\n",
       "      <td>NaN</td>\n",
       "      <td>en</td>\n",
       "    </tr>\n",
       "    <tr>\n",
       "      <th>4889</th>\n",
       "      <td>https://www.themoviedb.org/movie/522212</td>\n",
       "      <td>Công Lý Bất Toàn\\n(2019)</td>\n",
       "      <td>80.0</td>\n",
       "      <td>poster_final/522212.jpg</td>\n",
       "      <td>PG-13</td>\n",
       "      <td>Sau khi tốt nghiệp Harvard, Bryan đến Alabama ...</td>\n",
       "      <td>Every generation has its hero. Meet ours.</td>\n",
       "      <td>Phim Chính Kịch</td>\n",
       "      <td>NaN</td>\n",
       "      <td>vi</td>\n",
       "    </tr>\n",
       "    <tr>\n",
       "      <th>1347</th>\n",
       "      <td>https://www.themoviedb.org/tv/114865</td>\n",
       "      <td>Strafrechters\\n(2021)</td>\n",
       "      <td>0.0</td>\n",
       "      <td>NaN</td>\n",
       "      <td>NaN</td>\n",
       "      <td>We don't have an overview translated in Englis...</td>\n",
       "      <td>NaN</td>\n",
       "      <td>NaN</td>\n",
       "      <td>NaN</td>\n",
       "      <td>en</td>\n",
       "    </tr>\n",
       "  </tbody>\n",
       "</table>\n",
       "</div>"
      ],
      "text/plain": [
       "                                          url                         title  \\\n",
       "5158  https://www.themoviedb.org/movie/432976                Icarus\\n(2017)   \n",
       "2130      https://www.themoviedb.org/tv/82596        Emily in Paris\\n(2020)   \n",
       "1073      https://www.themoviedb.org/tv/10079  Spider-Man Unlimited\\n(1999)   \n",
       "4889  https://www.themoviedb.org/movie/522212      Công Lý Bất Toàn\\n(2019)   \n",
       "1347     https://www.themoviedb.org/tv/114865         Strafrechters\\n(2021)   \n",
       "\n",
       "      score          posterImagePath certification  \\\n",
       "5158   78.0  poster_final/432976.jpg            12   \n",
       "2130   81.0   poster_final/82596.jpg         TV-MA   \n",
       "1073   73.0   poster_final/10079.jpg           NaN   \n",
       "4889   80.0  poster_final/522212.jpg         PG-13   \n",
       "1347    0.0                      NaN           NaN   \n",
       "\n",
       "                                               overview  \\\n",
       "5158  While investigating the furtive world of illeg...   \n",
       "2130  When ambitious Chicago marketing exec Emily un...   \n",
       "1073  Spider-Man Unlimited was a short-lived America...   \n",
       "4889  Sau khi tốt nghiệp Harvard, Bryan đến Alabama ...   \n",
       "1347  We don't have an overview translated in Englis...   \n",
       "\n",
       "                                        tagline  \\\n",
       "5158          Truth is the new banned substance   \n",
       "2130                         Pardon her French.   \n",
       "1073                                        NaN   \n",
       "4889  Every generation has its hero. Meet ours.   \n",
       "1347                                        NaN   \n",
       "\n",
       "                                  genres trailerUrl language  \n",
       "5158                       Phim Tài Liệu        NaN       en  \n",
       "2130           Phim Chính Kịch, Phim Hài        NaN       en  \n",
       "1073  Phim Hoạt Hình, Action & Adventure        NaN       en  \n",
       "4889                     Phim Chính Kịch        NaN       vi  \n",
       "1347                                 NaN        NaN       en  "
      ]
     },
     "execution_count": 2,
     "metadata": {},
     "output_type": "execute_result"
    }
   ],
   "source": [
    "movie_df = pd.read_csv('movie_final.csv')\n",
    "movie_df.sample(5)"
   ]
  },
  {
   "cell_type": "code",
   "execution_count": 3,
   "metadata": {},
   "outputs": [
    {
     "name": "stdout",
     "output_type": "stream",
     "text": [
      "<class 'pandas.core.frame.DataFrame'>\n",
      "RangeIndex: 5598 entries, 0 to 5597\n",
      "Data columns (total 10 columns):\n",
      " #   Column           Non-Null Count  Dtype  \n",
      "---  ------           --------------  -----  \n",
      " 0   url              5598 non-null   object \n",
      " 1   title            5594 non-null   object \n",
      " 2   score            5594 non-null   float64\n",
      " 3   posterImagePath  5326 non-null   object \n",
      " 4   certification    4177 non-null   object \n",
      " 5   overview         5594 non-null   object \n",
      " 6   tagline          2522 non-null   object \n",
      " 7   genres           5230 non-null   object \n",
      " 8   trailerUrl       79 non-null     object \n",
      " 9   language         5594 non-null   object \n",
      "dtypes: float64(1), object(9)\n",
      "memory usage: 437.5+ KB\n"
     ]
    }
   ],
   "source": [
    "movie_df.info()"
   ]
  },
  {
   "cell_type": "code",
   "execution_count": 4,
   "metadata": {},
   "outputs": [
    {
     "name": "stdout",
     "output_type": "stream",
     "text": [
      "Dữ liệu có số dòng: 5598\n",
      "Dữ liệu có số cột: 10\n"
     ]
    }
   ],
   "source": [
    "n_row, n_col = movie_df.shape\n",
    "print(\"Dữ liệu có số dòng:\", n_row)\n",
    "print(\"Dữ liệu có số cột:\", n_col)"
   ]
  },
  {
   "cell_type": "markdown",
   "metadata": {},
   "source": [
    "Mỗi dòng trong tập dữ liệu thể hiện vài thông tin của một bộ phim, bộ phim đó có thể là phim truyền hình hoặc phim điện ảnh. Các dòng này đều có ý nghĩa tương đương nhau. "
   ]
  },
  {
   "cell_type": "markdown",
   "metadata": {},
   "source": [
    "## Đưa ra câu hỏi cần trả lời"
   ]
  },
  {
   "cell_type": "markdown",
   "metadata": {},
   "source": [
    "Các thông tin được tải lên trên Internet hầu như không được kiểm duyệt, chính vì vậy sẽ có thể xuất hiện những nội dung không phù hợp với mọi lứa tuổi, cụ thể là những bộ phim có gán nhãn giới hạn độ tuổi người lớn không nên để những người chưa đủ tuổi, đặc biệt là trẻ nhỏ tiếp xúc. Tuy nhiên, rất nhiều các website xem phim lại không có gán nhãn giới hạn độ tuổi. Chính vì vậy, câu hỏi này được đưa ra nhằm tìm câu trả lời giải quyết vấn đề nội dung bộ phim không phù hợp với các lứa tuổi, giúp các phụ huynh có thể quản lí được trẻ nhỏ không tìm coi những bộ phim có nội dung không phù hợp.\n",
    "\n",
    "Câu hỏi này sẽ liên quan tới việc phân loại nội dung tóm tắt của một bộ phim và dự đoán độ tuổi phù hợp để coi bộ phim này là gì.\n",
    "\n",
    "- Input: overview (nội dung tóm tắt của bộ phim)\n",
    "- Output: certification (độ tuổi phù hợp)"
   ]
  },
  {
   "cell_type": "markdown",
   "metadata": {},
   "source": [
    "---"
   ]
  },
  {
   "cell_type": "markdown",
   "metadata": {},
   "source": [
    "## Khám phá dữ liệu"
   ]
  },
  {
   "cell_type": "code",
   "execution_count": 5,
   "metadata": {},
   "outputs": [
    {
     "name": "stdout",
     "output_type": "stream",
     "text": [
      "Danh sách các ngôn ngữ thể hiện nội dung tóm tắt:\n",
      "en    4304\n",
      "vi    1224\n",
      "lt      31\n",
      "fi      10\n",
      "tl       5\n",
      "pt       4\n",
      "cy       4\n",
      "ro       3\n",
      "es       2\n",
      "af       1\n",
      "cs       1\n",
      "it       1\n",
      "de       1\n",
      "fr       1\n",
      "id       1\n",
      "sk       1\n",
      "Name: language, dtype: int64\n"
     ]
    }
   ],
   "source": [
    "print(\"Danh sách các ngôn ngữ thể hiện nội dung tóm tắt:\")\n",
    "print(movie_df.language.value_counts())"
   ]
  },
  {
   "cell_type": "code",
   "execution_count": 6,
   "metadata": {},
   "outputs": [
    {
     "name": "stdout",
     "output_type": "stream",
     "text": [
      "Kiểu dữ liệu của cột cerfitication: object\n"
     ]
    }
   ],
   "source": [
    "print('Kiểu dữ liệu của cột cerfitication:', movie_df.certification.dtype)"
   ]
  },
  {
   "cell_type": "code",
   "execution_count": 7,
   "metadata": {},
   "outputs": [
    {
     "name": "stdout",
     "output_type": "stream",
     "text": [
      "Số lượng dòng bị thiếu output: 1421\n",
      "Số lượng dòng có output: 4177\n"
     ]
    }
   ],
   "source": [
    "print(\"Số lượng dòng bị thiếu output:\", movie_df.certification.isnull().sum())\n",
    "print(\"Số lượng dòng có output:\", movie_df.shape[0] - movie_df.certification.isnull().sum())"
   ]
  },
  {
   "cell_type": "code",
   "execution_count": 8,
   "metadata": {
    "scrolled": true
   },
   "outputs": [
    {
     "name": "stdout",
     "output_type": "stream",
     "text": [
      "Số lượng lớp trong certification: 88\n",
      "Tỉ lệ bộ phim của từng lớp:\n",
      " R             14.891070\n",
      "TV-14         12.401245\n",
      "PG-13         10.892985\n",
      "TV-MA          9.743835\n",
      "PG             9.743835\n",
      "TV-PG          4.907829\n",
      "G              4.141729\n",
      "12             4.045966\n",
      "NR             3.998085\n",
      "15             3.303807\n",
      "16             2.657410\n",
      "TV-Y7          2.250419\n",
      "TV-G           1.723725\n",
      "U              1.484319\n",
      "18             1.173091\n",
      "14             1.125209\n",
      "L              1.053388\n",
      "16+            0.694278\n",
      "0              0.598516\n",
      "10             0.598516\n",
      "6              0.550634\n",
      "18+            0.478813\n",
      "T              0.430931\n",
      "12+            0.406991\n",
      "MA15+          0.383050\n",
      "保護級            0.359109\n",
      "TV-Y           0.359109\n",
      "普遍級            0.335169\n",
      "AL             0.335169\n",
      "6+             0.287288\n",
      "7              0.287288\n",
      "輔12級           0.239406\n",
      "M              0.215466\n",
      "UA             0.215466\n",
      "NC-17          0.215466\n",
      "APTA           0.215466\n",
      "11             0.191525\n",
      "M/12           0.167584\n",
      "9              0.143644\n",
      "15세 이상 관람가     0.143644\n",
      "C13            0.143644\n",
      "NC16           0.143644\n",
      "ALL            0.119703\n",
      "12세 이상 관람가     0.119703\n",
      "19             0.095763\n",
      "12A            0.095763\n",
      "輔15級           0.095763\n",
      "0+             0.095763\n",
      "14+            0.095763\n",
      "C18            0.095763\n",
      "A              0.095763\n",
      "PG13           0.095763\n",
      "C8             0.095763\n",
      "13+            0.071822\n",
      "17+            0.071822\n",
      "15세이상관람가       0.071822\n",
      "PG12           0.071822\n",
      "TP             0.047881\n",
      "M/14           0.047881\n",
      "C16            0.047881\n",
      "청소년 관람불가       0.047881\n",
      "N-7            0.047881\n",
      "M/16           0.047881\n",
      "R - 17+        0.047881\n",
      "청소년관람불가        0.047881\n",
      "13             0.047881\n",
      "18A            0.023941\n",
      "E              0.023941\n",
      "M18            0.023941\n",
      "12세이상관람가       0.023941\n",
      "น 18+          0.023941\n",
      "C              0.023941\n",
      "14A            0.023941\n",
      "Exempt         0.023941\n",
      "K-12           0.023941\n",
      "e Livre        0.023941\n",
      "R21            0.023941\n",
      "ZA             0.023941\n",
      "VM14           0.023941\n",
      "S              0.023941\n",
      "N-14           0.023941\n",
      "น 15+          0.023941\n",
      "R15+           0.023941\n",
      "-              0.023941\n",
      "IIA            0.023941\n",
      "NC18           0.023941\n",
      "K-7            0.023941\n",
      "Name: certification, dtype: float64\n"
     ]
    }
   ],
   "source": [
    "print('Số lượng lớp trong certification:', len(movie_df.certification.unique()))\n",
    "print('Tỉ lệ bộ phim của từng lớp:\\n', movie_df.certification.value_counts(normalize=True)*100)"
   ]
  },
  {
   "cell_type": "markdown",
   "metadata": {},
   "source": [
    "## Tiền xử lí - tách các tập dữ liệu"
   ]
  },
  {
   "cell_type": "markdown",
   "metadata": {},
   "source": [
    "### Lọc thông tin cần thiết"
   ]
  },
  {
   "cell_type": "markdown",
   "metadata": {},
   "source": [
    "`en` và `vi` là hai ngôn ngữ có số lượng bộ phim chiếm nhiều nhất, cho nên nhóm sẽ giữ lại những bộ phim thuộc một trong hai ngôn ngữ này để thực hiện tiền xử lí và loại bỏ đi các dòng chứa các ngôn ngữ còn lại"
   ]
  },
  {
   "cell_type": "code",
   "execution_count": 9,
   "metadata": {},
   "outputs": [
    {
     "data": {
      "text/html": [
       "<div>\n",
       "<style scoped>\n",
       "    .dataframe tbody tr th:only-of-type {\n",
       "        vertical-align: middle;\n",
       "    }\n",
       "\n",
       "    .dataframe tbody tr th {\n",
       "        vertical-align: top;\n",
       "    }\n",
       "\n",
       "    .dataframe thead th {\n",
       "        text-align: right;\n",
       "    }\n",
       "</style>\n",
       "<table border=\"1\" class=\"dataframe\">\n",
       "  <thead>\n",
       "    <tr style=\"text-align: right;\">\n",
       "      <th></th>\n",
       "      <th>url</th>\n",
       "      <th>title</th>\n",
       "      <th>score</th>\n",
       "      <th>posterImagePath</th>\n",
       "      <th>certification</th>\n",
       "      <th>overview</th>\n",
       "      <th>tagline</th>\n",
       "      <th>genres</th>\n",
       "      <th>trailerUrl</th>\n",
       "      <th>language</th>\n",
       "    </tr>\n",
       "  </thead>\n",
       "  <tbody>\n",
       "    <tr>\n",
       "      <th>0</th>\n",
       "      <td>https://www.themoviedb.org/tv/44217</td>\n",
       "      <td>Huyền Thoại Vikings\\n(2013)</td>\n",
       "      <td>79.0</td>\n",
       "      <td>poster_final/44217.jpg</td>\n",
       "      <td>14+</td>\n",
       "      <td>Người Viking đưa chúng ta đến thế giới tàn khố...</td>\n",
       "      <td>NaN</td>\n",
       "      <td>Action &amp; Adventure, Phim Chính Kịch</td>\n",
       "      <td>NaN</td>\n",
       "      <td>vi</td>\n",
       "    </tr>\n",
       "    <tr>\n",
       "      <th>1</th>\n",
       "      <td>https://www.themoviedb.org/tv/82856</td>\n",
       "      <td>The Mandalorian\\n(2019)</td>\n",
       "      <td>85.0</td>\n",
       "      <td>poster_final/82856.jpg</td>\n",
       "      <td>TV-14</td>\n",
       "      <td>After the fall of the Galactic Empire, lawless...</td>\n",
       "      <td>Bounty hunting is a complicated profession.</td>\n",
       "      <td>Sci-Fi &amp; Fantasy, Action &amp; Adventure</td>\n",
       "      <td>NaN</td>\n",
       "      <td>en</td>\n",
       "    </tr>\n",
       "    <tr>\n",
       "      <th>2</th>\n",
       "      <td>https://www.themoviedb.org/tv/77169</td>\n",
       "      <td>Cobra Kai\\n(2018)</td>\n",
       "      <td>81.0</td>\n",
       "      <td>poster_final/77169.jpg</td>\n",
       "      <td>TV-14</td>\n",
       "      <td>This Karate Kid sequel series picks up 30 year...</td>\n",
       "      <td>Cobra Kai never dies.</td>\n",
       "      <td>Action &amp; Adventure, Phim Chính Kịch</td>\n",
       "      <td>NaN</td>\n",
       "      <td>en</td>\n",
       "    </tr>\n",
       "    <tr>\n",
       "      <th>3</th>\n",
       "      <td>https://www.themoviedb.org/tv/75006</td>\n",
       "      <td>Học Viện Umbrella\\n(2019)</td>\n",
       "      <td>87.0</td>\n",
       "      <td>poster_final/75006.jpg</td>\n",
       "      <td>TV-MA</td>\n",
       "      <td>Được đưa về quá khứ những năm 1960 tại Dallas,...</td>\n",
       "      <td>Super. Dysfunctional. Family.</td>\n",
       "      <td>Action &amp; Adventure, Sci-Fi &amp; Fantasy, Phim Chí...</td>\n",
       "      <td>NaN</td>\n",
       "      <td>vi</td>\n",
       "    </tr>\n",
       "    <tr>\n",
       "      <th>4</th>\n",
       "      <td>https://www.themoviedb.org/tv/71712</td>\n",
       "      <td>Bác Sĩ Thiên Tài\\n(2017)</td>\n",
       "      <td>86.0</td>\n",
       "      <td>poster_final/71712.jpg</td>\n",
       "      <td>TV-14</td>\n",
       "      <td>Một bác sĩ trẻ mắc hội chứng bác học được nhận...</td>\n",
       "      <td>His mind is a mystery, his methods are a miracle.</td>\n",
       "      <td>Phim Chính Kịch</td>\n",
       "      <td>NaN</td>\n",
       "      <td>vi</td>\n",
       "    </tr>\n",
       "  </tbody>\n",
       "</table>\n",
       "</div>"
      ],
      "text/plain": [
       "                                   url                        title  score  \\\n",
       "0  https://www.themoviedb.org/tv/44217  Huyền Thoại Vikings\\n(2013)   79.0   \n",
       "1  https://www.themoviedb.org/tv/82856      The Mandalorian\\n(2019)   85.0   \n",
       "2  https://www.themoviedb.org/tv/77169            Cobra Kai\\n(2018)   81.0   \n",
       "3  https://www.themoviedb.org/tv/75006    Học Viện Umbrella\\n(2019)   87.0   \n",
       "4  https://www.themoviedb.org/tv/71712     Bác Sĩ Thiên Tài\\n(2017)   86.0   \n",
       "\n",
       "          posterImagePath certification  \\\n",
       "0  poster_final/44217.jpg           14+   \n",
       "1  poster_final/82856.jpg         TV-14   \n",
       "2  poster_final/77169.jpg         TV-14   \n",
       "3  poster_final/75006.jpg         TV-MA   \n",
       "4  poster_final/71712.jpg         TV-14   \n",
       "\n",
       "                                            overview  \\\n",
       "0  Người Viking đưa chúng ta đến thế giới tàn khố...   \n",
       "1  After the fall of the Galactic Empire, lawless...   \n",
       "2  This Karate Kid sequel series picks up 30 year...   \n",
       "3  Được đưa về quá khứ những năm 1960 tại Dallas,...   \n",
       "4  Một bác sĩ trẻ mắc hội chứng bác học được nhận...   \n",
       "\n",
       "                                             tagline  \\\n",
       "0                                                NaN   \n",
       "1        Bounty hunting is a complicated profession.   \n",
       "2                              Cobra Kai never dies.   \n",
       "3                      Super. Dysfunctional. Family.   \n",
       "4  His mind is a mystery, his methods are a miracle.   \n",
       "\n",
       "                                              genres trailerUrl language  \n",
       "0                Action & Adventure, Phim Chính Kịch        NaN       vi  \n",
       "1               Sci-Fi & Fantasy, Action & Adventure        NaN       en  \n",
       "2                Action & Adventure, Phim Chính Kịch        NaN       en  \n",
       "3  Action & Adventure, Sci-Fi & Fantasy, Phim Chí...        NaN       vi  \n",
       "4                                    Phim Chính Kịch        NaN       vi  "
      ]
     },
     "execution_count": 9,
     "metadata": {},
     "output_type": "execute_result"
    }
   ],
   "source": [
    "envi_movie_df = movie_df[((movie_df.language == 'vi') | (movie_df.language == 'en'))]\n",
    "envi_movie_df.reset_index(inplace=True, drop=True)\n",
    "envi_movie_df.head(5)"
   ]
  },
  {
   "cell_type": "markdown",
   "metadata": {},
   "source": [
    "Xóa các dòng bị thiếu nhãn `certification`"
   ]
  },
  {
   "cell_type": "code",
   "execution_count": 10,
   "metadata": {},
   "outputs": [
    {
     "name": "stdout",
     "output_type": "stream",
     "text": [
      "Số lượng bộ phim sau khi loại bỏ nhãn thiếu: 4171\n"
     ]
    }
   ],
   "source": [
    "notnull_envi_movie_df = envi_movie_df.dropna(subset=['certification']).reset_index(drop=True)\n",
    "print('Số lượng bộ phim sau khi loại bỏ nhãn thiếu:', notnull_envi_movie_df.shape[0])"
   ]
  },
  {
   "cell_type": "markdown",
   "metadata": {},
   "source": [
    "Vì số lượng lớp lớn và phân bố không đồng đều, thực hiện chia các lớp giới hạn tuổi thành 2 cụm là: lớn hơn 18 (>=18) và nhỏ hơn 18 (<18)\n",
    "\n",
    "Danh sách cụm này được lưu trong tệp `age_restricted.txt`"
   ]
  },
  {
   "cell_type": "code",
   "execution_count": 11,
   "metadata": {},
   "outputs": [],
   "source": [
    "# Danh sách các nhóm tuổi\n",
    "age_cert = {}\n",
    "with open('resources/age_restricted.txt', 'r') as cert_file:\n",
    "    for line in cert_file:\n",
    "        cert, age = line.strip().split(',')\n",
    "        age_cert[cert] = 1 if age == '>18' else 0\n",
    "\n",
    "notnull_envi_movie_df['is_adult'] = notnull_envi_movie_df.certification.apply(lambda c: age_cert[c])"
   ]
  },
  {
   "cell_type": "code",
   "execution_count": 12,
   "metadata": {},
   "outputs": [
    {
     "data": {
      "text/html": [
       "<div>\n",
       "<style scoped>\n",
       "    .dataframe tbody tr th:only-of-type {\n",
       "        vertical-align: middle;\n",
       "    }\n",
       "\n",
       "    .dataframe tbody tr th {\n",
       "        vertical-align: top;\n",
       "    }\n",
       "\n",
       "    .dataframe thead th {\n",
       "        text-align: right;\n",
       "    }\n",
       "</style>\n",
       "<table border=\"1\" class=\"dataframe\">\n",
       "  <thead>\n",
       "    <tr style=\"text-align: right;\">\n",
       "      <th></th>\n",
       "      <th>url</th>\n",
       "      <th>title</th>\n",
       "      <th>score</th>\n",
       "      <th>posterImagePath</th>\n",
       "      <th>certification</th>\n",
       "      <th>overview</th>\n",
       "      <th>tagline</th>\n",
       "      <th>genres</th>\n",
       "      <th>trailerUrl</th>\n",
       "      <th>language</th>\n",
       "      <th>is_adult</th>\n",
       "    </tr>\n",
       "  </thead>\n",
       "  <tbody>\n",
       "    <tr>\n",
       "      <th>1888</th>\n",
       "      <td>https://www.themoviedb.org/movie/458576</td>\n",
       "      <td>Thợ Săn Quái Vật\\n(2020)</td>\n",
       "      <td>57.0</td>\n",
       "      <td>poster_final/458576.jpg</td>\n",
       "      <td>PG-13</td>\n",
       "      <td>Monster Hunter được chuyển thể từ series game ...</td>\n",
       "      <td>Behind our world, there is another</td>\n",
       "      <td>Phim Giả Tượng, Phim Hành Động, Phim Phiêu Lưu</td>\n",
       "      <td>https://www.themoviedb.org/video/play?key=puQy...</td>\n",
       "      <td>vi</td>\n",
       "      <td>0</td>\n",
       "    </tr>\n",
       "    <tr>\n",
       "      <th>2377</th>\n",
       "      <td>https://www.themoviedb.org/movie/468816</td>\n",
       "      <td>Diều Hâu Trên Núi\\n(2019)</td>\n",
       "      <td>61.0</td>\n",
       "      <td>poster_final/468816.jpg</td>\n",
       "      <td>16</td>\n",
       "      <td>Đám người Mông Cổ, do Khan Burunda chỉ huy, di...</td>\n",
       "      <td>Freedom is my nature.</td>\n",
       "      <td>Phim Lịch Sử, Phim Chính Kịch, Phim Hành Động</td>\n",
       "      <td>NaN</td>\n",
       "      <td>vi</td>\n",
       "      <td>0</td>\n",
       "    </tr>\n",
       "    <tr>\n",
       "      <th>1194</th>\n",
       "      <td>https://www.themoviedb.org/tv/76747</td>\n",
       "      <td>On My Block\\n(2018)</td>\n",
       "      <td>86.0</td>\n",
       "      <td>poster_final/76747.jpg</td>\n",
       "      <td>TV-14</td>\n",
       "      <td>A coming of age comedy following a diverse gro...</td>\n",
       "      <td>NaN</td>\n",
       "      <td>Phim Hài</td>\n",
       "      <td>NaN</td>\n",
       "      <td>en</td>\n",
       "      <td>0</td>\n",
       "    </tr>\n",
       "    <tr>\n",
       "      <th>1804</th>\n",
       "      <td>https://www.themoviedb.org/movie/592350</td>\n",
       "      <td>Học Viện Anh Hùng: Anh Hùng Trỗi Dậy\\n(2019)</td>\n",
       "      <td>84.0</td>\n",
       "      <td>poster_final/592350.jpg</td>\n",
       "      <td>PG</td>\n",
       "      <td>Tác giả đã giải thích rằng movie thứ hai này c...</td>\n",
       "      <td>Boku no Hero Academia the Movie 2: Heroes Rising</td>\n",
       "      <td>Phim Hoạt Hình, Phim Hành Động, Phim Giả Tượng...</td>\n",
       "      <td>NaN</td>\n",
       "      <td>vi</td>\n",
       "      <td>0</td>\n",
       "    </tr>\n",
       "    <tr>\n",
       "      <th>3508</th>\n",
       "      <td>https://www.themoviedb.org/movie/20453</td>\n",
       "      <td>3 Chàng Ngốc\\n(2009)</td>\n",
       "      <td>80.0</td>\n",
       "      <td>poster_final/20453.jpg</td>\n",
       "      <td>12세 이상 관람가</td>\n",
       "      <td>Phim xoay quanh câu chuyện ăn học của 3 anh ch...</td>\n",
       "      <td>Don't be Stupid. Be an I.D.I.O.T.</td>\n",
       "      <td>Phim Chính Kịch, Phim Hài</td>\n",
       "      <td>NaN</td>\n",
       "      <td>vi</td>\n",
       "      <td>0</td>\n",
       "    </tr>\n",
       "  </tbody>\n",
       "</table>\n",
       "</div>"
      ],
      "text/plain": [
       "                                          url  \\\n",
       "1888  https://www.themoviedb.org/movie/458576   \n",
       "2377  https://www.themoviedb.org/movie/468816   \n",
       "1194      https://www.themoviedb.org/tv/76747   \n",
       "1804  https://www.themoviedb.org/movie/592350   \n",
       "3508   https://www.themoviedb.org/movie/20453   \n",
       "\n",
       "                                             title  score  \\\n",
       "1888                      Thợ Săn Quái Vật\\n(2020)   57.0   \n",
       "2377                     Diều Hâu Trên Núi\\n(2019)   61.0   \n",
       "1194                           On My Block\\n(2018)   86.0   \n",
       "1804  Học Viện Anh Hùng: Anh Hùng Trỗi Dậy\\n(2019)   84.0   \n",
       "3508                          3 Chàng Ngốc\\n(2009)   80.0   \n",
       "\n",
       "              posterImagePath certification  \\\n",
       "1888  poster_final/458576.jpg         PG-13   \n",
       "2377  poster_final/468816.jpg            16   \n",
       "1194   poster_final/76747.jpg         TV-14   \n",
       "1804  poster_final/592350.jpg            PG   \n",
       "3508   poster_final/20453.jpg    12세 이상 관람가   \n",
       "\n",
       "                                               overview  \\\n",
       "1888  Monster Hunter được chuyển thể từ series game ...   \n",
       "2377  Đám người Mông Cổ, do Khan Burunda chỉ huy, di...   \n",
       "1194  A coming of age comedy following a diverse gro...   \n",
       "1804  Tác giả đã giải thích rằng movie thứ hai này c...   \n",
       "3508  Phim xoay quanh câu chuyện ăn học của 3 anh ch...   \n",
       "\n",
       "                                               tagline  \\\n",
       "1888                Behind our world, there is another   \n",
       "2377                             Freedom is my nature.   \n",
       "1194                                               NaN   \n",
       "1804  Boku no Hero Academia the Movie 2: Heroes Rising   \n",
       "3508                 Don't be Stupid. Be an I.D.I.O.T.   \n",
       "\n",
       "                                                 genres  \\\n",
       "1888     Phim Giả Tượng, Phim Hành Động, Phim Phiêu Lưu   \n",
       "2377      Phim Lịch Sử, Phim Chính Kịch, Phim Hành Động   \n",
       "1194                                           Phim Hài   \n",
       "1804  Phim Hoạt Hình, Phim Hành Động, Phim Giả Tượng...   \n",
       "3508                          Phim Chính Kịch, Phim Hài   \n",
       "\n",
       "                                             trailerUrl language  is_adult  \n",
       "1888  https://www.themoviedb.org/video/play?key=puQy...       vi         0  \n",
       "2377                                                NaN       vi         0  \n",
       "1194                                                NaN       en         0  \n",
       "1804                                                NaN       vi         0  \n",
       "3508                                                NaN       vi         0  "
      ]
     },
     "execution_count": 12,
     "metadata": {},
     "output_type": "execute_result"
    }
   ],
   "source": [
    "notnull_envi_movie_df.sample(5)"
   ]
  },
  {
   "cell_type": "markdown",
   "metadata": {},
   "source": [
    "### Tách các tập dữ liệu"
   ]
  },
  {
   "cell_type": "markdown",
   "metadata": {},
   "source": [
    "Vì hai ngôn ngữ `en` và `vi` có đặc điểm khác nhau, để tránh chiều dữ liệu quá lớn và làm giảm hiệu quả của mô hình phân loại, ta sẽ chia `en` và `vi` ra làm 2 tập dữ liệu riêng biệt. Đồng thời, do chỉ tập trung vào `overview` cho nên sẽ loại bỏ các cột khác chỉ giữ lại `overview` và `is_adult`"
   ]
  },
  {
   "cell_type": "code",
   "execution_count": 13,
   "metadata": {},
   "outputs": [
    {
     "data": {
      "text/plain": [
       "(2968, 1203)"
      ]
     },
     "execution_count": 13,
     "metadata": {},
     "output_type": "execute_result"
    }
   ],
   "source": [
    "en_movie_df = notnull_envi_movie_df[notnull_envi_movie_df.language == 'en'][['overview', 'is_adult']]\n",
    "vi_movie_df = notnull_envi_movie_df[notnull_envi_movie_df.language == 'vi'][['overview', 'is_adult']]\n",
    "\n",
    "len(en_movie_df), len(vi_movie_df)"
   ]
  },
  {
   "cell_type": "code",
   "execution_count": 14,
   "metadata": {},
   "outputs": [
    {
     "data": {
      "text/plain": [
       "0    2255\n",
       "1     713\n",
       "Name: is_adult, dtype: int64"
      ]
     },
     "execution_count": 14,
     "metadata": {},
     "output_type": "execute_result"
    }
   ],
   "source": [
    "# Phân bố lớp trên tập tiếng Anh\n",
    "en_movie_df.is_adult.value_counts()"
   ]
  },
  {
   "cell_type": "code",
   "execution_count": 15,
   "metadata": {},
   "outputs": [
    {
     "data": {
      "text/plain": [
       "0    784\n",
       "1    419\n",
       "Name: is_adult, dtype: int64"
      ]
     },
     "execution_count": 15,
     "metadata": {},
     "output_type": "execute_result"
    }
   ],
   "source": [
    "# Phân bố lớp trên tập tiếng Việt\n",
    "vi_movie_df.is_adult.value_counts()"
   ]
  },
  {
   "cell_type": "markdown",
   "metadata": {},
   "source": [
    "Thực hiện chia thành các tập train, valid, và test với tỉ lệ lần lượt là 70/15/15"
   ]
  },
  {
   "cell_type": "code",
   "execution_count": 16,
   "metadata": {},
   "outputs": [],
   "source": [
    "# Tách tập cho tiếng Việt\n",
    "vi_y_sr = vi_movie_df.is_adult\n",
    "vi_X_df = vi_movie_df.drop(columns=['is_adult'])\n",
    "\n",
    "vi_train_X, vi_tmp_X, vi_train_y, vi_tmp_y = train_test_split(vi_X_df, vi_y_sr, stratify=vi_y_sr, random_state=42, test_size=0.3)\n",
    "vi_valid_X, vi_test_X, vi_valid_y, vi_test_y = train_test_split(vi_tmp_X, vi_tmp_y, stratify=vi_tmp_y, random_state=42, test_size=0.15)\n"
   ]
  },
  {
   "cell_type": "code",
   "execution_count": 17,
   "metadata": {},
   "outputs": [
    {
     "data": {
      "text/plain": [
       "((842, 1), (842,))"
      ]
     },
     "execution_count": 17,
     "metadata": {},
     "output_type": "execute_result"
    }
   ],
   "source": [
    "vi_train_X.shape, vi_train_y.shape"
   ]
  },
  {
   "cell_type": "code",
   "execution_count": 18,
   "metadata": {},
   "outputs": [
    {
     "data": {
      "text/plain": [
       "((306, 1), (306,))"
      ]
     },
     "execution_count": 18,
     "metadata": {},
     "output_type": "execute_result"
    }
   ],
   "source": [
    "vi_valid_X.shape, vi_valid_y.shape"
   ]
  },
  {
   "cell_type": "code",
   "execution_count": 19,
   "metadata": {},
   "outputs": [
    {
     "data": {
      "text/plain": [
       "((55, 1), (55,))"
      ]
     },
     "execution_count": 19,
     "metadata": {},
     "output_type": "execute_result"
    }
   ],
   "source": [
    "vi_test_X.shape, vi_test_y.shape"
   ]
  },
  {
   "cell_type": "code",
   "execution_count": 20,
   "metadata": {},
   "outputs": [],
   "source": [
    "# Tách tập cho tiếng Anh\n",
    "en_y_sr = en_movie_df.is_adult\n",
    "en_X_df = en_movie_df.drop(columns=['is_adult'])\n",
    "\n",
    "en_train_X, en_tmp_X, en_train_y, en_tmp_y = train_test_split(en_X_df, en_y_sr, stratify=en_y_sr, random_state=42, test_size=0.3)\n",
    "en_valid_X, en_test_X, en_valid_y, en_test_y = train_test_split(en_tmp_X, en_tmp_y, stratify=en_tmp_y, random_state=42, test_size=0.5)"
   ]
  },
  {
   "cell_type": "code",
   "execution_count": 21,
   "metadata": {},
   "outputs": [
    {
     "data": {
      "text/plain": [
       "((2077, 1), (2077,))"
      ]
     },
     "execution_count": 21,
     "metadata": {},
     "output_type": "execute_result"
    }
   ],
   "source": [
    "en_train_X.shape, en_train_y.shape"
   ]
  },
  {
   "cell_type": "code",
   "execution_count": 22,
   "metadata": {},
   "outputs": [
    {
     "data": {
      "text/plain": [
       "((445, 1), (445,))"
      ]
     },
     "execution_count": 22,
     "metadata": {},
     "output_type": "execute_result"
    }
   ],
   "source": [
    "en_valid_X.shape, en_valid_y.shape"
   ]
  },
  {
   "cell_type": "code",
   "execution_count": 23,
   "metadata": {},
   "outputs": [
    {
     "data": {
      "text/plain": [
       "((446, 1), (446,))"
      ]
     },
     "execution_count": 23,
     "metadata": {},
     "output_type": "execute_result"
    }
   ],
   "source": [
    "en_test_X.shape, en_test_y.shape"
   ]
  },
  {
   "cell_type": "markdown",
   "metadata": {},
   "source": [
    "---"
   ]
  },
  {
   "cell_type": "markdown",
   "metadata": {},
   "source": [
    "## Khám phá dữ liệu - tập huấn luyện"
   ]
  },
  {
   "cell_type": "markdown",
   "metadata": {},
   "source": [
    "Kiểm tra xem liệu có những bộ phim nào bị trùng nội dung, điều này có thể là do bộ phim có nhiều phần hay nhiều tập riêng lẻ."
   ]
  },
  {
   "cell_type": "code",
   "execution_count": 24,
   "metadata": {},
   "outputs": [
    {
     "name": "stdout",
     "output_type": "stream",
     "text": [
      "Số lượng nội dung tóm tắt bị trùng: 292\n",
      "3 nội dung tóm tắt trùng nhiều nhất:\n",
      "We don't have an overview translated in English. Help us expand our database by adding one.                                                                                                                                                                                                                73\n",
      "An emotional thrill ride through the day-to-day chaos of the city's most explosive hospital and the courageous team of doctors who hold it together. They will tackle unique new cases inspired by topical events, forging fiery relationships in the pulse-pounding pandemonium of the emergency room.     2\n",
      "Closet witch Teresa Palmer and centuries-old vampire Matthew Goode are drawn into a deadly mystery and forbidden romance when a magical book shows up in an Oxford library.                                                                                                                                 2\n",
      "Name: overview, dtype: int64\n"
     ]
    }
   ],
   "source": [
    "en_overview_dup = en_train_X.duplicated(['overview'])\n",
    "print(\"Số lượng nội dung tóm tắt bị trùng:\", en_overview_dup.sum())\n",
    "\n",
    "print(\"3 nội dung tóm tắt trùng nhiều nhất:\")\n",
    "print(en_train_X[en_overview_dup].overview.value_counts()[:3])\n",
    "    "
   ]
  },
  {
   "cell_type": "markdown",
   "metadata": {},
   "source": [
    "Như quan sát, có tương đối bộ phim có cùng nội dung là `We don't have an overview translated in English. Help us expand our database by adding one.`, tức là những bộ phim này không có nội dung tóm tắt. Việc đưa vào mô hình huấn luyện những nội dung này sẽ làm giảm khả năng chính xác của mô hình vì nó không đem lại ý nghĩa về mặt phân loại."
   ]
  },
  {
   "cell_type": "code",
   "execution_count": 25,
   "metadata": {},
   "outputs": [
    {
     "data": {
      "text/plain": [
       "(302,\n",
       " [(',', 6132),\n",
       "  ('the', 5523),\n",
       "  ('.', 4675),\n",
       "  ('a', 3547),\n",
       "  ('and', 3422),\n",
       "  ('of', 3141),\n",
       "  ('to', 2953),\n",
       "  ('in', 1876),\n",
       "  ('his', 1342),\n",
       "  ('is', 1326),\n",
       "  ('with', 907),\n",
       "  ('her', 790),\n",
       "  ('on', 785),\n",
       "  (\"'s\", 782),\n",
       "  ('an', 727),\n",
       "  ('by', 721),\n",
       "  ('their', 690),\n",
       "  ('he', 674),\n",
       "  ('for', 668),\n",
       "  ('as', 666)])"
      ]
     },
     "execution_count": 25,
     "metadata": {},
     "output_type": "execute_result"
    }
   ],
   "source": [
    "word_dict = Counter()\n",
    "max_leng = -1\n",
    "for words in en_train_X.overview.apply(lambda s: word_tokenize(s)):\n",
    "    word_dict.update(words)\n",
    "    max_leng = max(max_leng, len(words))\n",
    "\n",
    "max_leng, word_dict.most_common(20)"
   ]
  },
  {
   "cell_type": "code",
   "execution_count": 26,
   "metadata": {},
   "outputs": [
    {
     "name": "stdout",
     "output_type": "stream",
     "text": [
      "Số lượng nội dung tóm tắt bị trùng: 120\n",
      "3 nội dung tóm tắt trùng nhiều nhất:\n",
      "Ở thế giới nơi đủ loại động vật cùng tồn tại, chú sói hiền lành nhận thức được bản năng săn mồi của mình khi ngôi trường của chú ứng phó với một kẻ sát nhân đang ẩn náu.                                                                                                                                                                                                                                                                                                                                                                                                                                                                                                                                                                                                                                                                                                                                                                2\n",
      "Akira (Chúa tể Akira) Tháng bảy năm 1988, một vụ nổ bí ẩn nhấn chìm Tokyo vào biển lửa, đồng thời châm ngòi cho đại chiến thế giới lần ba. Ba mươi mốt năm sau, chiến tranh kết thúc. Tokyo vực dậy từ đống tro tàn và dần phát triển thành một trong những thành phố thịnh vượng nhất thế giới, kéo theo đó là tình trạng đạo đạo đức và nhân tính suy tàn do sự lên ngôi của tiền bạc, vật chất trong xã hội. Kaneda và Tetsuo là bạn chí cốt và cũng là thành viên của băng đua xe Capsule. Trong cái đêm định mệnh khi giao đấu với băng đảng đối địch, Tetsuo tình cờ chạm trán với một mẫu vật trốn thoát khỏi phòng thí nghiệm. Cuộc chạm trán nhanh chóng biến thành thảm họa khi cả mẫu vật lẫn Tetsuo đều bị chính phủ bắt giữ. Nhiệm vụ của Kaneda bây giờ là phải tìm mọi cách cứu Tetsuo. Thế nhưng số phận sớm đẩy cả Kaneda lẫn Tetsuo vào vòng xoáy bạo lực khi những bí mật từ hơn ba mươi năm trước dần được hé lộ.    2\n",
      "Phim Đảo Hải Tặc - One Piece là chuyện về cậu bé Monkey D. Luffy do ăn nhầm Trái Ác Quỷ, bị biến thành người cao su và sẽ không bao giờ biết bơi. 10 năm sau sự việc đó, cậu rời quê mình và kiếm đủ 10 thành viên để thành một băng hải tặc, biệt hiệu Hải tặc Mũ Rơm.Khi đó của phiêu lưu tìm kiếm kho báu One Piece bắt đầu. Trong cuộc phiêu lưu tìm kiếm One Piece, băng Hải tặc mũ rơm phải chiến đấu với nhiều băng hải tặc xấu khác cũng muốn độc chiếm One Piece và Hải quân của Chính phủ muốn diệt trừ hải tặc. Băng Hải tặc Mũ Rơm phải trải qua biết bao nhiêu khó khăn, không lùi bước với ước mơ \"Trở thành Vua Hải Tặc và chiếm được kho báu One Piece\".                                                                                                                                                                                                                                                                 2\n",
      "Name: overview, dtype: int64\n"
     ]
    }
   ],
   "source": [
    "vi_overview_dup = vi_train_X.duplicated(['overview'])\n",
    "print(\"Số lượng nội dung tóm tắt bị trùng:\", vi_overview_dup.sum())\n",
    "\n",
    "print(\"3 nội dung tóm tắt trùng nhiều nhất:\")\n",
    "print(vi_train_X[vi_overview_dup].overview.value_counts()[:3])\n",
    "    "
   ]
  },
  {
   "cell_type": "markdown",
   "metadata": {},
   "source": [
    "Nhìn chung thì dữ liệu tiếng Việt ít dữ liệu trùng hơn, có thể không có bộ phim mà không có nội dung tóm tắt cho nên ở bước tiền xử lí không cần phải xử lí trường hợp này."
   ]
  },
  {
   "cell_type": "markdown",
   "metadata": {},
   "source": [
    "Vì đặc điểm của tiếng Việt hơi khác so với tiếng Anh. Trong tiếng Anh mỗi token sẽ ngăn cách nhau bởi những khoảng trắng.\n",
    "Tuy nhiên, đối với tiếng Việt thì có chút khác biệt. Ví dụ trong tiếng Việt từ `hạnh` và `phúc` nếu đi riêng lẻ sẽ mang ý nghĩa khác với khi đi chung `hạnh_phúc`. Trong khi đó tiếng Anh chỉ là `happy`"
   ]
  },
  {
   "cell_type": "code",
   "execution_count": 27,
   "metadata": {},
   "outputs": [
    {
     "data": {
      "text/plain": [
       "(203,\n",
       " [(',', 3167),\n",
       "  ('.', 2782),\n",
       "  ('của', 1774),\n",
       "  ('một', 1575),\n",
       "  ('và', 1463),\n",
       "  ('là', 969),\n",
       "  ('người', 794),\n",
       "  ('những', 792),\n",
       "  ('trong', 664),\n",
       "  ('được', 656),\n",
       "  ('với', 643),\n",
       "  ('đã', 607),\n",
       "  ('có', 501),\n",
       "  ('khi', 478),\n",
       "  ('về', 452),\n",
       "  ('để', 450),\n",
       "  ('phim', 447),\n",
       "  (')', 422),\n",
       "  ('(', 421),\n",
       "  ('bị', 396)])"
      ]
     },
     "execution_count": 27,
     "metadata": {},
     "output_type": "execute_result"
    }
   ],
   "source": [
    "word_dict = Counter()\n",
    "max_leng = -1\n",
    "for words in vi_train_X.overview.apply(lambda s: ViTokenizer.tokenize(s).split()):\n",
    "    word_dict.update(words)\n",
    "    max_leng = max(max_leng, len(words))\n",
    "\n",
    "max_leng, word_dict.most_common(20)"
   ]
  },
  {
   "cell_type": "markdown",
   "metadata": {},
   "source": [
    "Ở cả 2 ngôn ngữ thì số lượng những từ và kí tự chiếm nhiều nhất là dấu câu (punctuation) và stopwords, để tránh những từ và kí tự không có ý nghĩa cho phân loại bài toán này ảnh hưởng lên hiệu suất phân loại, những từ và kí tự này sẽ được loại bỏ ở bước tiền xử lí."
   ]
  },
  {
   "cell_type": "markdown",
   "metadata": {},
   "source": [
    "## Tiền xử lí"
   ]
  },
  {
   "cell_type": "markdown",
   "metadata": {},
   "source": [
    "Đầu tiên sẽ loại bỏ những mẫu có cùng nội dung tóm tắt trong tiếng Anh"
   ]
  },
  {
   "cell_type": "code",
   "execution_count": 28,
   "metadata": {},
   "outputs": [],
   "source": [
    "# Remove duplicate\n",
    "most_duplicate = \"We don't have an overview translated in English. Help us expand our database by adding one.\"\n",
    "en_train_y = en_train_y[en_train_X.overview != most_duplicate]\n",
    "en_train_X = en_train_X[en_train_X.overview != most_duplicate]\n",
    "\n",
    "assert len(en_train_X) == len(en_train_y)"
   ]
  },
  {
   "cell_type": "markdown",
   "metadata": {},
   "source": [
    "Quá trình tiền xử lí nội dung của hai ngôn ngữ khá tương đồng, bao gồm loại bỏ dấu câu, chuẩn hóa in thường.\n",
    "Điều khác biệt của xử lí hai ngôn ngữ như sau:\n",
    "- Đối với tiếng Anh, việc đầu tiên là sẽ tách nội dung tóm tắt thành các token bằng hàm `word_tokenize`. Sau đó, để giảm không gian từ điển thì sẽ qua một bước xử lí `stemming` để đưa những từ giống nhau về tiền tố hay nói cách khác là có chung nguồn gốc. Ví dụ: playing, plays, played sẽ được đưa về play.\n",
    "- Đối với tiếng Việt, sử dụng đối tượng `ViTokenizer` để `tokenize` nội dung tóm tắt thành những token"
   ]
  },
  {
   "cell_type": "code",
   "execution_count": 29,
   "metadata": {},
   "outputs": [],
   "source": [
    "class FeatureTransformer(BaseEstimator, TransformerMixin):\n",
    "    def __init__(self, lang='en'):\n",
    "        self.stemmer = PorterStemmer()    # Initialize stemming object\n",
    "        self.lang = lang\n",
    "        with open('resources/en_stopwords.txt', 'r') as en_file: \n",
    "            self.en_stopwords = [line.strip() for line in en_file]\n",
    "        with open('resources/vi_stopwords.txt', 'r') as vi_file: \n",
    "            self.vi_stopwords = [line.strip() for line in vi_file]\n",
    "    \n",
    "    def fit(self, X, y=None):\n",
    "        return self\n",
    "    \n",
    "    def transform(self, X, y=None, lang=None):\n",
    "        transformed_X = X.apply(lambda s: re.sub(f'[{string.punctuation}]', ' ', s.lower()))    # remove punctuation\n",
    "        if lang is None:\n",
    "            lang = self.lang\n",
    "        if lang == 'en':\n",
    "            # remove stopword, stemming and tokenize English sentences\n",
    "            transformed_X = transformed_X.apply(lambda s: [self.stemmer.stem(word) for word in word_tokenize(s) \n",
    "                                                           if word not in self.en_stopwords])\n",
    "        elif lang == 'vi':\n",
    "            # remove stopword and tokenize Vietnamese sentences\n",
    "            transformed_X = transformed_X.apply(lambda s: [word for word in ViTokenizer.tokenize(s).split() \n",
    "                                                           if word not in self.vi_stopwords])\n",
    "        else:\n",
    "            raise Exception('we only support `en` and `vi` language')\n",
    "        \n",
    "        return transformed_X"
   ]
  },
  {
   "cell_type": "code",
   "execution_count": 30,
   "metadata": {},
   "outputs": [],
   "source": [
    "transformer = FeatureTransformer()\n",
    "transformed_en_train_X = transformer.transform(en_train_X.overview, lang='en')\n",
    "transformed_vi_train_X = transformer.transform(vi_train_X.overview, lang='vi')"
   ]
  },
  {
   "cell_type": "markdown",
   "metadata": {},
   "source": [
    "## Tiền xử lí - tập validation"
   ]
  },
  {
   "cell_type": "markdown",
   "metadata": {},
   "source": [
    "Thực hiện tiền xử lí trên tập valid tương tự với tập huấn luyện"
   ]
  },
  {
   "cell_type": "code",
   "execution_count": 31,
   "metadata": {},
   "outputs": [],
   "source": [
    "transformed_en_valid_X = transformer.transform(en_valid_X.overview, lang='en')\n",
    "transformed_vi_valid_X = transformer.transform(vi_valid_X.overview, lang='vi')"
   ]
  },
  {
   "cell_type": "markdown",
   "metadata": {},
   "source": [
    "---"
   ]
  },
  {
   "cell_type": "markdown",
   "metadata": {},
   "source": [
    "## Mô hình hóa dữ liệu"
   ]
  },
  {
   "cell_type": "markdown",
   "metadata": {},
   "source": [
    "Xây dựng và huấn luyện mô hình ngôn ngữ. `LogisticRegression` là mô hình thích hợp cho bái toán binary classification. Vậy nên mô hình này sẽ được sử dụng cho bài toán phân loại nội dung tóm tắt này."
   ]
  },
  {
   "cell_type": "markdown",
   "metadata": {},
   "source": [
    "#### Mô hình phân loại cho tiếng Anh"
   ]
  },
  {
   "cell_type": "code",
   "execution_count": 32,
   "metadata": {},
   "outputs": [
    {
     "name": "stdout",
     "output_type": "stream",
     "text": [
      "Độ chính xác tập train: 77.88317523714429\n",
      "Độ chính xác tập valid: 77.52808988764045\n"
     ]
    }
   ],
   "source": [
    "# both preprocess and classifier\n",
    "en_full_pipeline = Pipeline([\n",
    "    ('preprocess', FeatureTransformer(lang='en')),\n",
    "    ('vectorize', TfidfVectorizer(tokenizer=lambda text: text, lowercase=False, token_pattern=None)),\n",
    "    ('clf', LogisticRegression(C=1, solver='lbfgs', random_state=42, max_iter=1000))\n",
    "])\n",
    "\n",
    "# classifier pipeline\n",
    "en_clf_pipeline = Pipeline([\n",
    "    ('vectorize', TfidfVectorizer(tokenizer=lambda text: text, lowercase=False, token_pattern=None)),\n",
    "    ('clf', LogisticRegression(C=1, solver='lbfgs', random_state=42, max_iter=1000))\n",
    "])\n",
    "\n",
    "# Train\n",
    "en_clf_pipeline.fit(transformed_en_train_X, en_train_y)\n",
    "\n",
    "# Độ chính xác trên tập train\n",
    "train_pred = en_clf_pipeline.predict(transformed_en_train_X)\n",
    "train_acc = np.mean(train_pred == en_train_y)*100\n",
    "print(\"Độ chính xác tập train:\", train_acc)\n",
    "\n",
    "# Độ chính xác trên tập valid\n",
    "valid_pred = en_clf_pipeline.predict(transformed_en_valid_X)\n",
    "valid_acc = np.mean(valid_pred == en_valid_y)*100\n",
    "print(\"Độ chính xác tập valid:\", valid_acc)"
   ]
  },
  {
   "cell_type": "markdown",
   "metadata": {},
   "source": [
    "#### Mô hình phân loại cho tiếng Việt"
   ]
  },
  {
   "cell_type": "code",
   "execution_count": 33,
   "metadata": {
    "scrolled": true
   },
   "outputs": [
    {
     "name": "stdout",
     "output_type": "stream",
     "text": [
      "Độ chính xác tập train: 84.79809976247031\n",
      "Độ chính xác tập valid: 71.56862745098039\n"
     ]
    }
   ],
   "source": [
    "# both preprocess and classifier\n",
    "vi_full_pipeline = Pipeline([\n",
    "    ('preprocess', FeatureTransformer(lang='vi')),\n",
    "    ('vectorize', TfidfVectorizer(tokenizer=lambda text: text, lowercase=False, token_pattern=None)),\n",
    "    ('clf', LogisticRegression(C=1, solver='lbfgs', random_state=42, max_iter=1000))\n",
    "])\n",
    "\n",
    "# classifier pipeline\n",
    "vi_clf_pipeline = Pipeline([\n",
    "    ('vectorize', TfidfVectorizer(tokenizer=lambda text: text, lowercase=False, token_pattern=None)),\n",
    "    ('clf', LogisticRegression(C=1, solver='lbfgs', random_state=42, max_iter=1000))\n",
    "])\n",
    "\n",
    "# Train\n",
    "vi_clf_pipeline.fit(transformed_vi_train_X, vi_train_y)\n",
    "\n",
    "# Độ chính xác trên tập train\n",
    "train_pred = vi_clf_pipeline.predict(transformed_vi_train_X)\n",
    "train_acc = np.mean(train_pred == vi_train_y)*100\n",
    "print(\"Độ chính xác tập train:\", train_acc)\n",
    "\n",
    "# Độ chính xác trên tập valid\n",
    "valid_pred = vi_clf_pipeline.predict(transformed_vi_valid_X)\n",
    "valid_acc = np.mean(valid_pred == vi_valid_y)*100\n",
    "print(\"Độ chính xác tập valid:\", valid_acc)"
   ]
  },
  {
   "cell_type": "markdown",
   "metadata": {},
   "source": [
    "### Hyperparameter tuning"
   ]
  },
  {
   "cell_type": "markdown",
   "metadata": {},
   "source": [
    "Các thông số có thể được điều chỉnh để nâng hiệu suất của mô hình bao gồm:\n",
    "- `ngram_range`: là thông số của `TfidfVectorizer` thể hiện chuỗi token liên tiếp nhau. Ví dụ: đối với từ \"hạnh phúc\" khi ngram = 1 thì chuỗi sẽ là ['hạnh', 'phúc'], ngram = 2 thì chuỗi sẽ là ['hạnh phúc']\n",
    "- `max_df`: là thông số của `TfidfVectorizer`. Nếu một token có tần suất xuất hiện vượt qua ngưỡng này thì sẽ bị loại bỏ khỏi từ điển.\n",
    "- `C`: là thông số của `Logistic Regression`. Là hệ số được áp dụng để phạt giá trị của các tham số nhằm tránh overfitting."
   ]
  },
  {
   "cell_type": "code",
   "execution_count": 34,
   "metadata": {},
   "outputs": [],
   "source": [
    "# Thiết lập các siêu tham số\n",
    "ngram_ranges = [(1, 1), (1, 2)]\n",
    "max_ds = [0.8, 0.9, 1.0]\n",
    "C_param = [0.1, 1, 5, 7, 10, 100, 1000]"
   ]
  },
  {
   "cell_type": "markdown",
   "metadata": {},
   "source": [
    "#### Tìm mô hình tốt nhất cho tiếng Anh"
   ]
  },
  {
   "cell_type": "code",
   "execution_count": 35,
   "metadata": {},
   "outputs": [],
   "source": [
    "en_best_val_acc = 0\n",
    "en_best_C = None; \n",
    "en_best_ngram = None\n",
    "en_best_maxdf = None\n",
    "en_train_accs = []\n",
    "en_valid_accs = []\n",
    "\n",
    "# brute-force search\n",
    "for ngram_range in ngram_ranges:\n",
    "    for max_d in max_ds:\n",
    "        for C in C_param:\n",
    "            en_clf_pipeline.set_params(vectorize__ngram_range=ngram_range, vectorize__max_df=max_d, clf__C=C)\n",
    "            en_clf_pipeline.fit(transformed_en_train_X, en_train_y)\n",
    "            \n",
    "            # Tính độ chính xác trên tập train\n",
    "            train_pred = en_clf_pipeline.predict(transformed_en_train_X)\n",
    "            train_acc = np.mean(train_pred == en_train_y) * 100\n",
    "            en_train_accs.append(train_acc)\n",
    "            \n",
    "            # Tính độ chính xác trên tập valid\n",
    "            val_pred = en_clf_pipeline.predict(transformed_en_valid_X)\n",
    "            valid_acc = np.mean(val_pred == en_valid_y) * 100\n",
    "            en_valid_accs.append(valid_acc)\n",
    "            \n",
    "            # Tìm siêu tham số tốt nhất\n",
    "            if en_best_val_acc < valid_acc:\n",
    "                en_best_val_acc = valid_acc\n",
    "                en_best_C = C\n",
    "                en_best_ngram = ngram_range\n",
    "                en_best_maxdf = max_d"
   ]
  },
  {
   "cell_type": "code",
   "execution_count": 36,
   "metadata": {},
   "outputs": [
    {
     "data": {
      "text/plain": [
       "(1000, (1, 2), 0.8)"
      ]
     },
     "execution_count": 36,
     "metadata": {},
     "output_type": "execute_result"
    }
   ],
   "source": [
    "en_best_C, en_best_ngram, en_best_maxdf"
   ]
  },
  {
   "cell_type": "markdown",
   "metadata": {},
   "source": [
    "#### Tìm mô hình tốt nhất cho tiếng Việt"
   ]
  },
  {
   "cell_type": "code",
   "execution_count": 37,
   "metadata": {},
   "outputs": [],
   "source": [
    "vi_best_val_acc = 0\n",
    "vi_best_C = None; \n",
    "vi_best_ngram = None\n",
    "vi_best_maxdf = None\n",
    "vi_train_accs = []\n",
    "vi_valid_accs = []\n",
    "\n",
    "# brute-force search\n",
    "for ngram_range in ngram_ranges:\n",
    "    for max_d in max_ds:\n",
    "        for C in C_param:\n",
    "            vi_clf_pipeline.set_params(vectorize__ngram_range=ngram_range, vectorize__max_df=max_d, clf__C=C)\n",
    "            vi_clf_pipeline.fit(transformed_vi_train_X, vi_train_y)\n",
    "            \n",
    "            # Tính độ chính xác trên tập train\n",
    "            train_pred = vi_clf_pipeline.predict(transformed_vi_train_X)\n",
    "            train_acc = np.mean(train_pred == vi_train_y) * 100\n",
    "            vi_train_accs.append(train_acc)\n",
    "            \n",
    "            # Tính độ chính xác trên tập valid\n",
    "            val_pred = vi_clf_pipeline.predict(transformed_vi_valid_X)\n",
    "            valid_acc = np.mean(val_pred == vi_valid_y) * 100\n",
    "            vi_valid_accs.append(valid_acc)\n",
    "            \n",
    "            # Tìm siêu tham số tốt nhất\n",
    "            if vi_best_val_acc < valid_acc:\n",
    "                vi_best_val_acc = valid_acc\n",
    "                vi_best_C = C\n",
    "                vi_best_ngram = ngram_range\n",
    "                vi_best_maxdf = max_d"
   ]
  },
  {
   "cell_type": "code",
   "execution_count": 38,
   "metadata": {},
   "outputs": [
    {
     "data": {
      "text/plain": [
       "(100, (1, 1), 0.8)"
      ]
     },
     "execution_count": 38,
     "metadata": {},
     "output_type": "execute_result"
    }
   ],
   "source": [
    "vi_best_C, vi_best_ngram, vi_best_maxdf"
   ]
  },
  {
   "cell_type": "markdown",
   "metadata": {},
   "source": [
    "### Đánh giá mô hình"
   ]
  },
  {
   "cell_type": "markdown",
   "metadata": {},
   "source": [
    "Đánh giá mô hình trên tập test."
   ]
  },
  {
   "cell_type": "markdown",
   "metadata": {},
   "source": [
    "#### Hiệu suất mô hình tiếng Anh"
   ]
  },
  {
   "cell_type": "code",
   "execution_count": 39,
   "metadata": {},
   "outputs": [
    {
     "name": "stdout",
     "output_type": "stream",
     "text": [
      "Test Accuracy: 83.86\n"
     ]
    }
   ],
   "source": [
    "# Huấn luyện lại toàn bộ mô hình trên siêu tham số mới\n",
    "en_full_pipeline.set_params(vectorize__ngram_range=en_best_ngram, vectorize__max_df=en_best_maxdf, clf__C=en_best_C)\n",
    "en_full_pipeline.fit(en_train_X.overview, en_train_y)\n",
    "\n",
    "test_pred = en_full_pipeline.predict(en_test_X.overview)\n",
    "test_acc = np.mean(test_pred == en_test_y)*100\n",
    "print(\"Test Accuracy: %.2f\" % test_acc)"
   ]
  },
  {
   "cell_type": "markdown",
   "metadata": {},
   "source": [
    "#### Hiệu suất mô hình tiếng Việt"
   ]
  },
  {
   "cell_type": "code",
   "execution_count": 40,
   "metadata": {},
   "outputs": [
    {
     "name": "stdout",
     "output_type": "stream",
     "text": [
      "Test Accuracy: 65.45\n"
     ]
    }
   ],
   "source": [
    "# Huấn luyện lại toàn bộ mô hình trên siêu tham số mới\n",
    "vi_full_pipeline.set_params(vectorize__ngram_range=vi_best_ngram, vectorize__max_df=vi_best_maxdf, clf__C=vi_best_C)\n",
    "vi_full_pipeline.fit(vi_train_X.overview, vi_train_y)\n",
    "\n",
    "test_pred = vi_full_pipeline.predict(vi_test_X.overview)\n",
    "test_acc = np.mean(test_pred == vi_test_y)*100\n",
    "print(\"Test Accuracy: %.2f\" % test_acc)"
   ]
  },
  {
   "cell_type": "markdown",
   "metadata": {},
   "source": [
    "---"
   ]
  },
  {
   "cell_type": "markdown",
   "metadata": {},
   "source": [
    "## Nhìn lại quá trình làm đồ án"
   ]
  },
  {
   "cell_type": "markdown",
   "metadata": {},
   "source": [
    "### Những khó khăn"
   ]
  },
  {
   "cell_type": "markdown",
   "metadata": {},
   "source": [
    "- Giới hạn độ tuổi mà trang phim cung cấp không thống nhất, nhiều metadata khác nhau cho nên dữ liệu thu thập chứa đa dạng lớp. Để giải quyết vấn đề này, gộp các lớp lại còn 2 cụm >18 và <18 thì phải thực hiện một cách thủ công."
   ]
  },
  {
   "cell_type": "markdown",
   "metadata": {},
   "source": [
    "### Bài học rút ra"
   ]
  },
  {
   "cell_type": "markdown",
   "metadata": {},
   "source": [
    "- Cách triển khai một mô hình xử lí ngôn ngữ đơn giản sử dụng Bag of word\n",
    "- Đặc điểm khác nhau giữa xử lí ngôn ngữ tiếng Anh và tiếng Việt"
   ]
  },
  {
   "cell_type": "markdown",
   "metadata": {},
   "source": [
    "Nếu có thêm thời gian, nhóm sẽ tận dụng những thêm những đặc trưng khác để mô hình có thể xử lí được nhiều trường hợp phức tạp hơn. Đồng thời sẽ tìm hiểu thêm những mô hình nổi bật trong xử lí ngôn ngữ tự nhiên như Word2vec, BERT,... để mô hình nâng cao hơn, có thể hiểu được ngữ nghĩa và thứ tự của các từ."
   ]
  },
  {
   "cell_type": "markdown",
   "metadata": {},
   "source": [
    "## Tài liệu tham khảo"
   ]
  },
  {
   "cell_type": "markdown",
   "metadata": {},
   "source": [
    "1. [scikit-learn User Guide](https://scikit-learn.org/)\n",
    "2. [Stackoverflow](https://stackoverflow.com/)\n",
    "3. [Pandas Documentation](https://pandas.pydata.org/)\n",
    "4. [Stemming and Lemmatization in Python](https://www.datacamp.com/community/tutorials/stemming-lemmatization-python)\n",
    "5. [Vietnamese stopwords](https://github.com/stopwords/vietnamese-stopwords)"
   ]
  }
 ],
 "metadata": {
  "kernelspec": {
   "display_name": "Python 3",
   "language": "python",
   "name": "python3"
  },
  "language_info": {
   "codemirror_mode": {
    "name": "ipython",
    "version": 3
   },
   "file_extension": ".py",
   "mimetype": "text/x-python",
   "name": "python",
   "nbconvert_exporter": "python",
   "pygments_lexer": "ipython3",
   "version": "3.6.9"
  }
 },
 "nbformat": 4,
 "nbformat_minor": 2
}

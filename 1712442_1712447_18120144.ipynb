{
 "cells": [
  {
   "cell_type": "markdown",
   "metadata": {},
   "source": [
    "## Thông tin nhóm\n",
    "\n",
    "**Thành viên thứ 1:**\n",
    "\n",
    "- Họ và tên: Trần Trung Hiếu\n",
    "- MSSV: 1712442\n",
    "\n",
    "**Thành viên thứ 2:**\n",
    "- Họ và tên: Lê Long Hồ\n",
    "- MSSV: 1712447\n",
    "\n",
    "**Thành viên thứ 3:**\n",
    "- Họ và tên: Nguyễn Đình Thiên Phúc\n",
    "- MSSV: 18120144\n",
    "\n",
    "___"
   ]
  },
  {
   "cell_type": "markdown",
   "metadata": {},
   "source": [
    "## Import"
   ]
  },
  {
   "cell_type": "code",
   "execution_count": 122,
   "metadata": {},
   "outputs": [
    {
     "name": "stdout",
     "output_type": "stream",
     "text": [
      "Collecting nltk\n",
      "Collecting regex (from nltk)\n",
      "  Using cached https://files.pythonhosted.org/packages/5a/75/aca08032c9752a75acc60ff7f4e58f1a74164b996395f44727ffdb17ebaf/regex-2020.11.13-cp36-cp36m-manylinux1_x86_64.whl\n",
      "Collecting joblib (from nltk)\n",
      "  Using cached https://files.pythonhosted.org/packages/34/5b/bd0f0fb5564183884d8e35b81d06d7ec06a20d1a0c8b4c407f1554691dce/joblib-1.0.0-py3-none-any.whl\n",
      "Collecting click (from nltk)\n",
      "  Using cached https://files.pythonhosted.org/packages/d2/3d/fa76db83bf75c4f8d338c2fd15c8d33fdd7ad23a9b5e57eb6c5de26b430e/click-7.1.2-py2.py3-none-any.whl\n",
      "Collecting tqdm (from nltk)\n",
      "  Using cached https://files.pythonhosted.org/packages/80/02/8f8880a4fd6625461833abcf679d4c12a44c76f9925f92bf212bb6cefaad/tqdm-4.56.0-py2.py3-none-any.whl\n",
      "Installing collected packages: regex, joblib, click, tqdm, nltk\n",
      "Successfully installed click-7.1.2 joblib-1.0.0 nltk-3.5 regex-2020.11.13 tqdm-4.56.0\n"
     ]
    },
    {
     "name": "stderr",
     "output_type": "stream",
     "text": [
      "[nltk_data] Downloading package punkt to\n",
      "[nltk_data]     /home/tthieu22_06/nltk_data...\n",
      "[nltk_data]   Unzipping tokenizers/punkt.zip.\n"
     ]
    }
   ],
   "source": [
    "!pip3 install nltk\n",
    "import nltk\n",
    "nltk.download('punkt')\n",
    "from nltk.tokenize import word_tokenize\n",
    "import csv\n",
    "import json\n",
    "import pandas as pd\n",
    "import numpy as np\n",
    "import matplotlib.pyplot as plt\n",
    "from collections import Counter\n",
    "\n",
    "from sklearn.model_selection import train_test_split\n",
    "import re\n",
    "pd.set_option('display.max_rows', 500)"
   ]
  },
  {
   "cell_type": "markdown",
   "metadata": {},
   "source": [
    "---"
   ]
  },
  {
   "cell_type": "markdown",
   "metadata": {},
   "source": [
    "## Thu thập dữ liệu"
   ]
  },
  {
   "cell_type": "markdown",
   "metadata": {},
   "source": [
    "TODO"
   ]
  },
  {
   "cell_type": "markdown",
   "metadata": {},
   "source": [
    "---"
   ]
  },
  {
   "cell_type": "markdown",
   "metadata": {},
   "source": [
    "## Khám phá dữ liệu"
   ]
  },
  {
   "cell_type": "code",
   "execution_count": 23,
   "metadata": {},
   "outputs": [
    {
     "data": {
      "text/html": [
       "<div>\n",
       "<style scoped>\n",
       "    .dataframe tbody tr th:only-of-type {\n",
       "        vertical-align: middle;\n",
       "    }\n",
       "\n",
       "    .dataframe tbody tr th {\n",
       "        vertical-align: top;\n",
       "    }\n",
       "\n",
       "    .dataframe thead th {\n",
       "        text-align: right;\n",
       "    }\n",
       "</style>\n",
       "<table border=\"1\" class=\"dataframe\">\n",
       "  <thead>\n",
       "    <tr style=\"text-align: right;\">\n",
       "      <th></th>\n",
       "      <th>url</th>\n",
       "      <th>title</th>\n",
       "      <th>score</th>\n",
       "      <th>posterImagePath</th>\n",
       "      <th>certification</th>\n",
       "      <th>overview</th>\n",
       "      <th>tagline</th>\n",
       "      <th>genres</th>\n",
       "      <th>trailerUrl</th>\n",
       "      <th>language</th>\n",
       "    </tr>\n",
       "  </thead>\n",
       "  <tbody>\n",
       "    <tr>\n",
       "      <th>1660</th>\n",
       "      <td>https://www.themoviedb.org/tv/113879</td>\n",
       "      <td>Beyond the Clouds\\n(2020)</td>\n",
       "      <td>0.0</td>\n",
       "      <td>NaN</td>\n",
       "      <td>NaN</td>\n",
       "      <td>Beyond the Clouds takes an exclusive look insi...</td>\n",
       "      <td>NaN</td>\n",
       "      <td>Phim Tài Liệu</td>\n",
       "      <td>NaN</td>\n",
       "      <td>en</td>\n",
       "    </tr>\n",
       "    <tr>\n",
       "      <th>1642</th>\n",
       "      <td>https://www.themoviedb.org/tv/107853</td>\n",
       "      <td>Reino Animal ou Bichikids\\n(2020)</td>\n",
       "      <td>0.0</td>\n",
       "      <td>NaN</td>\n",
       "      <td>NaN</td>\n",
       "      <td>We don't have an overview translated in Englis...</td>\n",
       "      <td>NaN</td>\n",
       "      <td>NaN</td>\n",
       "      <td>NaN</td>\n",
       "      <td>en</td>\n",
       "    </tr>\n",
       "    <tr>\n",
       "      <th>2381</th>\n",
       "      <td>https://www.themoviedb.org/tv/34793</td>\n",
       "      <td>Girls Bravo\\n(2004)</td>\n",
       "      <td>77.0</td>\n",
       "      <td>poster_final/34793.jpg</td>\n",
       "      <td>NaN</td>\n",
       "      <td>A high school boy, Yukinari, has been bullied ...</td>\n",
       "      <td>NaN</td>\n",
       "      <td>Phim Hoạt Hình, Sci-Fi &amp; Fantasy, Phim Hài</td>\n",
       "      <td>NaN</td>\n",
       "      <td>en</td>\n",
       "    </tr>\n",
       "    <tr>\n",
       "      <th>3883</th>\n",
       "      <td>https://www.themoviedb.org/movie/596247</td>\n",
       "      <td>Pacto de Fuga\\n(2020)</td>\n",
       "      <td>83.0</td>\n",
       "      <td>poster_final/596247.jpg</td>\n",
       "      <td>PG</td>\n",
       "      <td>During the last years of Pinochet's military r...</td>\n",
       "      <td>NaN</td>\n",
       "      <td>Phim Chính Kịch, Phim Gây Cấn</td>\n",
       "      <td>NaN</td>\n",
       "      <td>en</td>\n",
       "    </tr>\n",
       "    <tr>\n",
       "      <th>2890</th>\n",
       "      <td>https://www.themoviedb.org/movie/9651</td>\n",
       "      <td>Supergirl\\n(1984)</td>\n",
       "      <td>54.0</td>\n",
       "      <td>poster_final/9651.jpg</td>\n",
       "      <td>PG</td>\n",
       "      <td>After losing a powerful orb, Kara, Superman's ...</td>\n",
       "      <td>From out of another galaxy and into your heart...</td>\n",
       "      <td>Phim Phiêu Lưu, Phim Giả Tượng, Phim Hành Động...</td>\n",
       "      <td>NaN</td>\n",
       "      <td>en</td>\n",
       "    </tr>\n",
       "  </tbody>\n",
       "</table>\n",
       "</div>"
      ],
      "text/plain": [
       "                                          url  \\\n",
       "1660     https://www.themoviedb.org/tv/113879   \n",
       "1642     https://www.themoviedb.org/tv/107853   \n",
       "2381      https://www.themoviedb.org/tv/34793   \n",
       "3883  https://www.themoviedb.org/movie/596247   \n",
       "2890    https://www.themoviedb.org/movie/9651   \n",
       "\n",
       "                                  title  score          posterImagePath  \\\n",
       "1660          Beyond the Clouds\\n(2020)    0.0                      NaN   \n",
       "1642  Reino Animal ou Bichikids\\n(2020)    0.0                      NaN   \n",
       "2381                Girls Bravo\\n(2004)   77.0   poster_final/34793.jpg   \n",
       "3883              Pacto de Fuga\\n(2020)   83.0  poster_final/596247.jpg   \n",
       "2890                  Supergirl\\n(1984)   54.0    poster_final/9651.jpg   \n",
       "\n",
       "     certification                                           overview  \\\n",
       "1660           NaN  Beyond the Clouds takes an exclusive look insi...   \n",
       "1642           NaN  We don't have an overview translated in Englis...   \n",
       "2381           NaN  A high school boy, Yukinari, has been bullied ...   \n",
       "3883            PG  During the last years of Pinochet's military r...   \n",
       "2890            PG  After losing a powerful orb, Kara, Superman's ...   \n",
       "\n",
       "                                                tagline  \\\n",
       "1660                                                NaN   \n",
       "1642                                                NaN   \n",
       "2381                                                NaN   \n",
       "3883                                                NaN   \n",
       "2890  From out of another galaxy and into your heart...   \n",
       "\n",
       "                                                 genres trailerUrl language  \n",
       "1660                                      Phim Tài Liệu        NaN       en  \n",
       "1642                                                NaN        NaN       en  \n",
       "2381         Phim Hoạt Hình, Sci-Fi & Fantasy, Phim Hài        NaN       en  \n",
       "3883                      Phim Chính Kịch, Phim Gây Cấn        NaN       en  \n",
       "2890  Phim Phiêu Lưu, Phim Giả Tượng, Phim Hành Động...        NaN       en  "
      ]
     },
     "execution_count": 23,
     "metadata": {},
     "output_type": "execute_result"
    }
   ],
   "source": [
    "movie_df = pd.read_csv('movie_final.csv')\n",
    "movie_df.sample(5)"
   ]
  },
  {
   "cell_type": "code",
   "execution_count": 24,
   "metadata": {},
   "outputs": [
    {
     "name": "stdout",
     "output_type": "stream",
     "text": [
      "<class 'pandas.core.frame.DataFrame'>\n",
      "RangeIndex: 5598 entries, 0 to 5597\n",
      "Data columns (total 10 columns):\n",
      " #   Column           Non-Null Count  Dtype  \n",
      "---  ------           --------------  -----  \n",
      " 0   url              5598 non-null   object \n",
      " 1   title            5594 non-null   object \n",
      " 2   score            5594 non-null   float64\n",
      " 3   posterImagePath  5326 non-null   object \n",
      " 4   certification    4177 non-null   object \n",
      " 5   overview         5594 non-null   object \n",
      " 6   tagline          2522 non-null   object \n",
      " 7   genres           5230 non-null   object \n",
      " 8   trailerUrl       79 non-null     object \n",
      " 9   language         5594 non-null   object \n",
      "dtypes: float64(1), object(9)\n",
      "memory usage: 437.5+ KB\n"
     ]
    }
   ],
   "source": [
    "movie_df.info()"
   ]
  },
  {
   "cell_type": "code",
   "execution_count": 25,
   "metadata": {},
   "outputs": [
    {
     "name": "stdout",
     "output_type": "stream",
     "text": [
      "Dữ liệu có số dòng: 5598\n",
      "Dữ liệu có số cột: 10\n"
     ]
    }
   ],
   "source": [
    "n_row, n_col = movie_df.shape\n",
    "print(\"Dữ liệu có số dòng:\", n_row)\n",
    "print(\"Dữ liệu có số cột:\", n_col)"
   ]
  },
  {
   "cell_type": "markdown",
   "metadata": {},
   "source": [
    "Mỗi dòng trong tập dữ liệu thể hiện vài thông tin của một bộ phim, bộ phim đó có thể là phim truyền hình hoặc phim điện ảnh. Các dòng này đều có ý nghĩa tương đương nhau. "
   ]
  },
  {
   "cell_type": "markdown",
   "metadata": {},
   "source": [
    "## Đưa ra câu hỏi cần trả lời"
   ]
  },
  {
   "cell_type": "markdown",
   "metadata": {},
   "source": [
    "Các thông tin được tải lên trên Internet hầu như không được kiểm duyệt, chính vì vậy sẽ có thể xuất hiện những nội dung không phù hợp với mọi lứa tuổi, cụ thể là những bộ phim có gán nhãn giới hạn độ tuổi người lớn không nên để những người chưa đủ tuổi, đặc biệt là trẻ nhỏ tiếp xúc. Tuy nhiên, rất nhiều các website xem phim lại không có gán nhãn giới hạn độ tuổi. Chính vì vậy, câu hỏi này được đưa ra nhằm tìm câu trả lời giải quyết vấn đề nội dung bộ phim không phù hợp với các lứa tuổi, giúp các phụ huynh có thể quản lí được trẻ nhỏ không tìm coi những bộ phim có nội dung không phù hợp.\n",
    "\n",
    "Câu hỏi này sẽ liên quan tới việc phân loại nội dung tóm tắt của một bộ phim và dự đoán độ tuổi phù hợp để coi bộ phim này là gì.\n",
    "\n",
    "- Input: overview (nội dung tóm tắt của bộ phim)\n",
    "- Output: certification (độ tuổi phù hợp)"
   ]
  },
  {
   "cell_type": "markdown",
   "metadata": {},
   "source": [
    "---"
   ]
  },
  {
   "cell_type": "markdown",
   "metadata": {},
   "source": [
    "## Khám phá dữ liệu"
   ]
  },
  {
   "cell_type": "code",
   "execution_count": 26,
   "metadata": {},
   "outputs": [
    {
     "name": "stdout",
     "output_type": "stream",
     "text": [
      "Danh sách các ngôn ngữ thể hiện nội dung tóm tắt:\n",
      "en    4304\n",
      "vi    1224\n",
      "lt      31\n",
      "fi      10\n",
      "tl       5\n",
      "pt       4\n",
      "cy       4\n",
      "ro       3\n",
      "es       2\n",
      "de       1\n",
      "fr       1\n",
      "it       1\n",
      "af       1\n",
      "cs       1\n",
      "id       1\n",
      "sk       1\n",
      "Name: language, dtype: int64\n"
     ]
    }
   ],
   "source": [
    "print(\"Danh sách các ngôn ngữ thể hiện nội dung tóm tắt:\")\n",
    "print(movie_df.language.value_counts())"
   ]
  },
  {
   "cell_type": "code",
   "execution_count": 27,
   "metadata": {},
   "outputs": [
    {
     "name": "stdout",
     "output_type": "stream",
     "text": [
      "Kiểu dữ liệu của cột cerfitication: object\n"
     ]
    }
   ],
   "source": [
    "print('Kiểu dữ liệu của cột cerfitication:', movie_df.certification.dtype)"
   ]
  },
  {
   "cell_type": "code",
   "execution_count": 28,
   "metadata": {},
   "outputs": [
    {
     "name": "stdout",
     "output_type": "stream",
     "text": [
      "Số lượng dòng bị thiếu output: 1421\n",
      "Số lượng dòng có output: 4177\n"
     ]
    }
   ],
   "source": [
    "print(\"Số lượng dòng bị thiếu output:\", movie_df.certification.isnull().sum())\n",
    "print(\"Số lượng dòng có output:\", movie_df.shape[0] - movie_df.certification.isnull().sum())"
   ]
  },
  {
   "cell_type": "code",
   "execution_count": 29,
   "metadata": {
    "scrolled": true
   },
   "outputs": [
    {
     "name": "stdout",
     "output_type": "stream",
     "text": [
      "Số lượng lớp trong certification: 88\n",
      "Tỉ lệ bộ phim của từng lớp:\n",
      " R             14.891070\n",
      "TV-14         12.401245\n",
      "PG-13         10.892985\n",
      "PG             9.743835\n",
      "TV-MA          9.743835\n",
      "TV-PG          4.907829\n",
      "G              4.141729\n",
      "12             4.045966\n",
      "NR             3.998085\n",
      "15             3.303807\n",
      "16             2.657410\n",
      "TV-Y7          2.250419\n",
      "TV-G           1.723725\n",
      "U              1.484319\n",
      "18             1.173091\n",
      "14             1.125209\n",
      "L              1.053388\n",
      "16+            0.694278\n",
      "10             0.598516\n",
      "0              0.598516\n",
      "6              0.550634\n",
      "18+            0.478813\n",
      "T              0.430931\n",
      "12+            0.406991\n",
      "MA15+          0.383050\n",
      "保護級            0.359109\n",
      "TV-Y           0.359109\n",
      "普遍級            0.335169\n",
      "AL             0.335169\n",
      "6+             0.287288\n",
      "7              0.287288\n",
      "輔12級           0.239406\n",
      "UA             0.215466\n",
      "M              0.215466\n",
      "NC-17          0.215466\n",
      "APTA           0.215466\n",
      "11             0.191525\n",
      "M/12           0.167584\n",
      "15세 이상 관람가     0.143644\n",
      "NC16           0.143644\n",
      "C13            0.143644\n",
      "9              0.143644\n",
      "ALL            0.119703\n",
      "12세 이상 관람가     0.119703\n",
      "0+             0.095763\n",
      "12A            0.095763\n",
      "C18            0.095763\n",
      "A              0.095763\n",
      "19             0.095763\n",
      "輔15級           0.095763\n",
      "14+            0.095763\n",
      "C8             0.095763\n",
      "PG13           0.095763\n",
      "PG12           0.071822\n",
      "13+            0.071822\n",
      "17+            0.071822\n",
      "15세이상관람가       0.071822\n",
      "C16            0.047881\n",
      "M/16           0.047881\n",
      "청소년 관람불가       0.047881\n",
      "TP             0.047881\n",
      "M/14           0.047881\n",
      "N-7            0.047881\n",
      "청소년관람불가        0.047881\n",
      "13             0.047881\n",
      "R - 17+        0.047881\n",
      "14A            0.023941\n",
      "M18            0.023941\n",
      "12세이상관람가       0.023941\n",
      "ZA             0.023941\n",
      "K-7            0.023941\n",
      "น 15+          0.023941\n",
      "R21            0.023941\n",
      "e Livre        0.023941\n",
      "N-14           0.023941\n",
      "-              0.023941\n",
      "S              0.023941\n",
      "NC18           0.023941\n",
      "น 18+          0.023941\n",
      "Exempt         0.023941\n",
      "C              0.023941\n",
      "IIA            0.023941\n",
      "E              0.023941\n",
      "K-12           0.023941\n",
      "R15+           0.023941\n",
      "VM14           0.023941\n",
      "18A            0.023941\n",
      "Name: certification, dtype: float64\n"
     ]
    }
   ],
   "source": [
    "print('Số lượng lớp trong certification:', len(movie_df.certification.unique()))\n",
    "print('Tỉ lệ bộ phim của từng lớp:\\n', movie_df.certification.value_counts(normalize=True)*100)"
   ]
  },
  {
   "cell_type": "markdown",
   "metadata": {},
   "source": [
    "## Tiền xử lí - tách các tập dữ liệu"
   ]
  },
  {
   "cell_type": "markdown",
   "metadata": {},
   "source": [
    "### Lọc thông tin cần thiết"
   ]
  },
  {
   "cell_type": "markdown",
   "metadata": {},
   "source": [
    "`en` và `vi` là hai ngôn ngữ có số lượng bộ phim chiếm nhiều nhất, cho nên nhóm sẽ giữ lại những bộ phim thuộc một trong hai ngôn ngữ này để thực hiện tiền xử lí và loại bỏ đi các dòng chứa các ngôn ngữ còn lại"
   ]
  },
  {
   "cell_type": "code",
   "execution_count": 30,
   "metadata": {},
   "outputs": [
    {
     "data": {
      "text/html": [
       "<div>\n",
       "<style scoped>\n",
       "    .dataframe tbody tr th:only-of-type {\n",
       "        vertical-align: middle;\n",
       "    }\n",
       "\n",
       "    .dataframe tbody tr th {\n",
       "        vertical-align: top;\n",
       "    }\n",
       "\n",
       "    .dataframe thead th {\n",
       "        text-align: right;\n",
       "    }\n",
       "</style>\n",
       "<table border=\"1\" class=\"dataframe\">\n",
       "  <thead>\n",
       "    <tr style=\"text-align: right;\">\n",
       "      <th></th>\n",
       "      <th>url</th>\n",
       "      <th>title</th>\n",
       "      <th>score</th>\n",
       "      <th>posterImagePath</th>\n",
       "      <th>certification</th>\n",
       "      <th>overview</th>\n",
       "      <th>tagline</th>\n",
       "      <th>genres</th>\n",
       "      <th>trailerUrl</th>\n",
       "      <th>language</th>\n",
       "    </tr>\n",
       "  </thead>\n",
       "  <tbody>\n",
       "    <tr>\n",
       "      <th>0</th>\n",
       "      <td>https://www.themoviedb.org/tv/44217</td>\n",
       "      <td>Huyền Thoại Vikings\\n(2013)</td>\n",
       "      <td>79.0</td>\n",
       "      <td>poster_final/44217.jpg</td>\n",
       "      <td>14+</td>\n",
       "      <td>Người Viking đưa chúng ta đến thế giới tàn khố...</td>\n",
       "      <td>NaN</td>\n",
       "      <td>Action &amp; Adventure, Phim Chính Kịch</td>\n",
       "      <td>NaN</td>\n",
       "      <td>vi</td>\n",
       "    </tr>\n",
       "    <tr>\n",
       "      <th>1</th>\n",
       "      <td>https://www.themoviedb.org/tv/82856</td>\n",
       "      <td>The Mandalorian\\n(2019)</td>\n",
       "      <td>85.0</td>\n",
       "      <td>poster_final/82856.jpg</td>\n",
       "      <td>TV-14</td>\n",
       "      <td>After the fall of the Galactic Empire, lawless...</td>\n",
       "      <td>Bounty hunting is a complicated profession.</td>\n",
       "      <td>Sci-Fi &amp; Fantasy, Action &amp; Adventure</td>\n",
       "      <td>NaN</td>\n",
       "      <td>en</td>\n",
       "    </tr>\n",
       "    <tr>\n",
       "      <th>2</th>\n",
       "      <td>https://www.themoviedb.org/tv/77169</td>\n",
       "      <td>Cobra Kai\\n(2018)</td>\n",
       "      <td>81.0</td>\n",
       "      <td>poster_final/77169.jpg</td>\n",
       "      <td>TV-14</td>\n",
       "      <td>This Karate Kid sequel series picks up 30 year...</td>\n",
       "      <td>Cobra Kai never dies.</td>\n",
       "      <td>Action &amp; Adventure, Phim Chính Kịch</td>\n",
       "      <td>NaN</td>\n",
       "      <td>en</td>\n",
       "    </tr>\n",
       "    <tr>\n",
       "      <th>3</th>\n",
       "      <td>https://www.themoviedb.org/tv/75006</td>\n",
       "      <td>Học Viện Umbrella\\n(2019)</td>\n",
       "      <td>87.0</td>\n",
       "      <td>poster_final/75006.jpg</td>\n",
       "      <td>TV-MA</td>\n",
       "      <td>Được đưa về quá khứ những năm 1960 tại Dallas,...</td>\n",
       "      <td>Super. Dysfunctional. Family.</td>\n",
       "      <td>Action &amp; Adventure, Sci-Fi &amp; Fantasy, Phim Chí...</td>\n",
       "      <td>NaN</td>\n",
       "      <td>vi</td>\n",
       "    </tr>\n",
       "    <tr>\n",
       "      <th>4</th>\n",
       "      <td>https://www.themoviedb.org/tv/71712</td>\n",
       "      <td>Bác Sĩ Thiên Tài\\n(2017)</td>\n",
       "      <td>86.0</td>\n",
       "      <td>poster_final/71712.jpg</td>\n",
       "      <td>TV-14</td>\n",
       "      <td>Một bác sĩ trẻ mắc hội chứng bác học được nhận...</td>\n",
       "      <td>His mind is a mystery, his methods are a miracle.</td>\n",
       "      <td>Phim Chính Kịch</td>\n",
       "      <td>NaN</td>\n",
       "      <td>vi</td>\n",
       "    </tr>\n",
       "  </tbody>\n",
       "</table>\n",
       "</div>"
      ],
      "text/plain": [
       "                                   url                        title  score  \\\n",
       "0  https://www.themoviedb.org/tv/44217  Huyền Thoại Vikings\\n(2013)   79.0   \n",
       "1  https://www.themoviedb.org/tv/82856      The Mandalorian\\n(2019)   85.0   \n",
       "2  https://www.themoviedb.org/tv/77169            Cobra Kai\\n(2018)   81.0   \n",
       "3  https://www.themoviedb.org/tv/75006    Học Viện Umbrella\\n(2019)   87.0   \n",
       "4  https://www.themoviedb.org/tv/71712     Bác Sĩ Thiên Tài\\n(2017)   86.0   \n",
       "\n",
       "          posterImagePath certification  \\\n",
       "0  poster_final/44217.jpg           14+   \n",
       "1  poster_final/82856.jpg         TV-14   \n",
       "2  poster_final/77169.jpg         TV-14   \n",
       "3  poster_final/75006.jpg         TV-MA   \n",
       "4  poster_final/71712.jpg         TV-14   \n",
       "\n",
       "                                            overview  \\\n",
       "0  Người Viking đưa chúng ta đến thế giới tàn khố...   \n",
       "1  After the fall of the Galactic Empire, lawless...   \n",
       "2  This Karate Kid sequel series picks up 30 year...   \n",
       "3  Được đưa về quá khứ những năm 1960 tại Dallas,...   \n",
       "4  Một bác sĩ trẻ mắc hội chứng bác học được nhận...   \n",
       "\n",
       "                                             tagline  \\\n",
       "0                                                NaN   \n",
       "1        Bounty hunting is a complicated profession.   \n",
       "2                              Cobra Kai never dies.   \n",
       "3                      Super. Dysfunctional. Family.   \n",
       "4  His mind is a mystery, his methods are a miracle.   \n",
       "\n",
       "                                              genres trailerUrl language  \n",
       "0                Action & Adventure, Phim Chính Kịch        NaN       vi  \n",
       "1               Sci-Fi & Fantasy, Action & Adventure        NaN       en  \n",
       "2                Action & Adventure, Phim Chính Kịch        NaN       en  \n",
       "3  Action & Adventure, Sci-Fi & Fantasy, Phim Chí...        NaN       vi  \n",
       "4                                    Phim Chính Kịch        NaN       vi  "
      ]
     },
     "execution_count": 30,
     "metadata": {},
     "output_type": "execute_result"
    }
   ],
   "source": [
    "envi_movie_df = movie_df[((movie_df.language == 'vi') | (movie_df.language == 'en'))]\n",
    "envi_movie_df.reset_index(inplace=True, drop=True)\n",
    "envi_movie_df.head(5)"
   ]
  },
  {
   "cell_type": "markdown",
   "metadata": {},
   "source": [
    "Xóa các dòng bị thiếu nhãn `certification`"
   ]
  },
  {
   "cell_type": "code",
   "execution_count": 31,
   "metadata": {},
   "outputs": [
    {
     "name": "stdout",
     "output_type": "stream",
     "text": [
      "Số lượng bộ phim sau khi loại bỏ nhãn thiếu: 4171\n"
     ]
    }
   ],
   "source": [
    "notnull_envi_movie_df = envi_movie_df.dropna(subset=['certification']).reset_index(drop=True)\n",
    "print('Số lượng bộ phim sau khi loại bỏ nhãn thiếu:', notnull_envi_movie_df.shape[0])"
   ]
  },
  {
   "cell_type": "markdown",
   "metadata": {},
   "source": [
    "Vì số lượng lớp lớn và phân bố không đồng đều, thực hiện chia các lớp giới hạn tuổi thành 2 cụm là: lớn hơn 18 (>=18) và nhỏ hơn 18 (<18)\n",
    "\n",
    "Danh sách cụm này được lưu trong tệp `age_restricted.txt`"
   ]
  },
  {
   "cell_type": "code",
   "execution_count": 32,
   "metadata": {},
   "outputs": [],
   "source": [
    "# Danh sách các nhóm tuổi\n",
    "age_cert = {}\n",
    "with open('age_restricted.txt', 'r') as cert_file:\n",
    "    for line in cert_file:\n",
    "        cert, age = line.strip().split(',')\n",
    "        age_cert[cert] = 1 if age == '>18' else 0\n",
    "\n",
    "notnull_envi_movie_df['is_adult'] = notnull_envi_movie_df.certification.apply(lambda c: age_cert[c])"
   ]
  },
  {
   "cell_type": "code",
   "execution_count": 33,
   "metadata": {},
   "outputs": [
    {
     "data": {
      "text/html": [
       "<div>\n",
       "<style scoped>\n",
       "    .dataframe tbody tr th:only-of-type {\n",
       "        vertical-align: middle;\n",
       "    }\n",
       "\n",
       "    .dataframe tbody tr th {\n",
       "        vertical-align: top;\n",
       "    }\n",
       "\n",
       "    .dataframe thead th {\n",
       "        text-align: right;\n",
       "    }\n",
       "</style>\n",
       "<table border=\"1\" class=\"dataframe\">\n",
       "  <thead>\n",
       "    <tr style=\"text-align: right;\">\n",
       "      <th></th>\n",
       "      <th>url</th>\n",
       "      <th>title</th>\n",
       "      <th>score</th>\n",
       "      <th>posterImagePath</th>\n",
       "      <th>certification</th>\n",
       "      <th>overview</th>\n",
       "      <th>tagline</th>\n",
       "      <th>genres</th>\n",
       "      <th>trailerUrl</th>\n",
       "      <th>language</th>\n",
       "      <th>is_adult</th>\n",
       "    </tr>\n",
       "  </thead>\n",
       "  <tbody>\n",
       "    <tr>\n",
       "      <th>3282</th>\n",
       "      <td>https://www.themoviedb.org/movie/335</td>\n",
       "      <td>Miền Viễn Tây Thuở Ấy\\n(1968)</td>\n",
       "      <td>83.0</td>\n",
       "      <td>poster_final/335.jpg</td>\n",
       "      <td>PG-13</td>\n",
       "      <td>Một thị trấn nhỏ ở miền Tây bắt đầu trở nên bấ...</td>\n",
       "      <td>There were three men in her life. One to take ...</td>\n",
       "      <td>Phim Miền Tây</td>\n",
       "      <td>NaN</td>\n",
       "      <td>vi</td>\n",
       "      <td>0</td>\n",
       "    </tr>\n",
       "    <tr>\n",
       "      <th>3958</th>\n",
       "      <td>https://www.themoviedb.org/movie/26280</td>\n",
       "      <td>I Killed My Mother\\n(2009)</td>\n",
       "      <td>76.0</td>\n",
       "      <td>poster_final/26280.jpg</td>\n",
       "      <td>14A</td>\n",
       "      <td>Hubert, a brash 17-year-old, is confused and t...</td>\n",
       "      <td>Sons forget their mothers can die</td>\n",
       "      <td>Phim Chính Kịch</td>\n",
       "      <td>NaN</td>\n",
       "      <td>en</td>\n",
       "      <td>0</td>\n",
       "    </tr>\n",
       "    <tr>\n",
       "      <th>4005</th>\n",
       "      <td>https://www.themoviedb.org/movie/57158</td>\n",
       "      <td>Người Hobbit 2: Đại Chiến Với Rồng Lửa\\n(2013)</td>\n",
       "      <td>76.0</td>\n",
       "      <td>poster_final/57158.jpg</td>\n",
       "      <td>PG-13</td>\n",
       "      <td>Phim \"Người Hobbit: Đại Chiến Với Rồng Lửa\" ti...</td>\n",
       "      <td>Beyond darkness... beyond desolation... lies t...</td>\n",
       "      <td>Phim Phiêu Lưu, Phim Giả Tượng, Phim Hành Động</td>\n",
       "      <td>NaN</td>\n",
       "      <td>vi</td>\n",
       "      <td>0</td>\n",
       "    </tr>\n",
       "    <tr>\n",
       "      <th>3139</th>\n",
       "      <td>https://www.themoviedb.org/movie/500854</td>\n",
       "      <td>Hard Paint\\n(2018)</td>\n",
       "      <td>69.0</td>\n",
       "      <td>poster_final/500854.jpg</td>\n",
       "      <td>NR</td>\n",
       "      <td>Pedro earns a living in chat rooms. He transfo...</td>\n",
       "      <td>NaN</td>\n",
       "      <td>Phim Chính Kịch</td>\n",
       "      <td>NaN</td>\n",
       "      <td>en</td>\n",
       "      <td>0</td>\n",
       "    </tr>\n",
       "    <tr>\n",
       "      <th>445</th>\n",
       "      <td>https://www.themoviedb.org/tv/1338</td>\n",
       "      <td>Alarm for Cobra 11: The Motorway Police\\n(1996)</td>\n",
       "      <td>59.0</td>\n",
       "      <td>poster_final/1338.jpg</td>\n",
       "      <td>12</td>\n",
       "      <td>A long-running German television series about ...</td>\n",
       "      <td>NaN</td>\n",
       "      <td>Phim Chính Kịch, Phim Hài, Action &amp; Adventure</td>\n",
       "      <td>NaN</td>\n",
       "      <td>en</td>\n",
       "      <td>0</td>\n",
       "    </tr>\n",
       "  </tbody>\n",
       "</table>\n",
       "</div>"
      ],
      "text/plain": [
       "                                          url  \\\n",
       "3282     https://www.themoviedb.org/movie/335   \n",
       "3958   https://www.themoviedb.org/movie/26280   \n",
       "4005   https://www.themoviedb.org/movie/57158   \n",
       "3139  https://www.themoviedb.org/movie/500854   \n",
       "445        https://www.themoviedb.org/tv/1338   \n",
       "\n",
       "                                                title  score  \\\n",
       "3282                    Miền Viễn Tây Thuở Ấy\\n(1968)   83.0   \n",
       "3958                       I Killed My Mother\\n(2009)   76.0   \n",
       "4005   Người Hobbit 2: Đại Chiến Với Rồng Lửa\\n(2013)   76.0   \n",
       "3139                               Hard Paint\\n(2018)   69.0   \n",
       "445   Alarm for Cobra 11: The Motorway Police\\n(1996)   59.0   \n",
       "\n",
       "              posterImagePath certification  \\\n",
       "3282     poster_final/335.jpg         PG-13   \n",
       "3958   poster_final/26280.jpg           14A   \n",
       "4005   poster_final/57158.jpg         PG-13   \n",
       "3139  poster_final/500854.jpg            NR   \n",
       "445     poster_final/1338.jpg            12   \n",
       "\n",
       "                                               overview  \\\n",
       "3282  Một thị trấn nhỏ ở miền Tây bắt đầu trở nên bấ...   \n",
       "3958  Hubert, a brash 17-year-old, is confused and t...   \n",
       "4005  Phim \"Người Hobbit: Đại Chiến Với Rồng Lửa\" ti...   \n",
       "3139  Pedro earns a living in chat rooms. He transfo...   \n",
       "445   A long-running German television series about ...   \n",
       "\n",
       "                                                tagline  \\\n",
       "3282  There were three men in her life. One to take ...   \n",
       "3958                  Sons forget their mothers can die   \n",
       "4005  Beyond darkness... beyond desolation... lies t...   \n",
       "3139                                                NaN   \n",
       "445                                                 NaN   \n",
       "\n",
       "                                              genres trailerUrl language  \\\n",
       "3282                                   Phim Miền Tây        NaN       vi   \n",
       "3958                                 Phim Chính Kịch        NaN       en   \n",
       "4005  Phim Phiêu Lưu, Phim Giả Tượng, Phim Hành Động        NaN       vi   \n",
       "3139                                 Phim Chính Kịch        NaN       en   \n",
       "445    Phim Chính Kịch, Phim Hài, Action & Adventure        NaN       en   \n",
       "\n",
       "      is_adult  \n",
       "3282         0  \n",
       "3958         0  \n",
       "4005         0  \n",
       "3139         0  \n",
       "445          0  "
      ]
     },
     "execution_count": 33,
     "metadata": {},
     "output_type": "execute_result"
    }
   ],
   "source": [
    "notnull_envi_movie_df.sample(5)"
   ]
  },
  {
   "cell_type": "markdown",
   "metadata": {},
   "source": [
    "### Tách các tập dữ liệu"
   ]
  },
  {
   "cell_type": "markdown",
   "metadata": {},
   "source": [
    "Vì hai ngôn ngữ `en` và `vi` có đặc điểm khác nhau, để tránh chiều dữ liệu quá lớn và làm giảm hiệu quả của mô hình phân loại, ta sẽ chia `en` và `vi` ra làm 2 tập dữ liệu riêng biệt. Đồng thời, do chỉ tập trung vào `overview` cho nên sẽ loại bỏ các cột khác chỉ giữ lại `overview` và `is_adult`"
   ]
  },
  {
   "cell_type": "code",
   "execution_count": 83,
   "metadata": {},
   "outputs": [
    {
     "data": {
      "text/plain": [
       "(2968, 1203)"
      ]
     },
     "execution_count": 83,
     "metadata": {},
     "output_type": "execute_result"
    }
   ],
   "source": [
    "en_movie_df = notnull_envi_movie_df[notnull_envi_movie_df.language == 'en'][['overview', 'is_adult']]\n",
    "vi_movie_df = notnull_envi_movie_df[notnull_envi_movie_df.language == 'vi'][['overview', 'is_adult']]\n",
    "\n",
    "len(en_movie_df), len(vi_movie_df)"
   ]
  },
  {
   "cell_type": "markdown",
   "metadata": {},
   "source": [
    "Thực hiện chia thành các tập train, valid, và test với tỉ lệ lần lượt là 70/15/15"
   ]
  },
  {
   "cell_type": "code",
   "execution_count": 108,
   "metadata": {},
   "outputs": [],
   "source": [
    "# Tách tập cho tiếng Việt\n",
    "vi_y_sr = vi_movie_df.is_adult\n",
    "vi_X_df = vi_movie_df.drop(columns=['is_adult'])\n",
    "\n",
    "vi_train_X, vi_tmp_X, vi_train_y, vi_tmp_y = train_test_split(vi_X_df, vi_y_sr, stratify=vi_y_sr, random_state=42, test_size=0.3)\n",
    "vi_valid_X, vi_test_X, vi_valid_y, vi_test_y = train_test_split(vi_tmp_X, vi_tmp_y, stratify=vi_tmp_y, random_state=42, test_size=0.15)\n"
   ]
  },
  {
   "cell_type": "code",
   "execution_count": 109,
   "metadata": {},
   "outputs": [
    {
     "data": {
      "text/plain": [
       "((842, 1), (842,))"
      ]
     },
     "execution_count": 109,
     "metadata": {},
     "output_type": "execute_result"
    }
   ],
   "source": [
    "vi_train_X.shape, vi_train_y.shape"
   ]
  },
  {
   "cell_type": "code",
   "execution_count": 110,
   "metadata": {},
   "outputs": [
    {
     "data": {
      "text/plain": [
       "((306, 1), (306,))"
      ]
     },
     "execution_count": 110,
     "metadata": {},
     "output_type": "execute_result"
    }
   ],
   "source": [
    "vi_valid_X.shape, vi_valid_y.shape"
   ]
  },
  {
   "cell_type": "code",
   "execution_count": 111,
   "metadata": {},
   "outputs": [
    {
     "data": {
      "text/plain": [
       "((55, 1), (55,))"
      ]
     },
     "execution_count": 111,
     "metadata": {},
     "output_type": "execute_result"
    }
   ],
   "source": [
    "vi_test_X.shape, vi_test_y.shape"
   ]
  },
  {
   "cell_type": "code",
   "execution_count": 112,
   "metadata": {},
   "outputs": [],
   "source": [
    "# Tách tập cho tiếng Anh\n",
    "en_y_sr = en_movie_df.is_adult\n",
    "en_X_df = en_movie_df.drop(columns=['is_adult'])\n",
    "\n",
    "en_train_X, en_tmp_X, en_train_y, en_tmp_y = train_test_split(en_X_df, en_y_sr, stratify=en_y_sr, random_state=42, test_size=0.3)\n",
    "en_valid_X, en_test_X, en_valid_y, en_test_y = train_test_split(en_tmp_X, en_tmp_y, stratify=en_tmp_y, random_state=42, test_size=0.5)"
   ]
  },
  {
   "cell_type": "code",
   "execution_count": 113,
   "metadata": {},
   "outputs": [
    {
     "data": {
      "text/plain": [
       "((2077, 1), (2077,))"
      ]
     },
     "execution_count": 113,
     "metadata": {},
     "output_type": "execute_result"
    }
   ],
   "source": [
    "en_train_X.shape, en_train_y.shape"
   ]
  },
  {
   "cell_type": "code",
   "execution_count": 114,
   "metadata": {},
   "outputs": [
    {
     "data": {
      "text/plain": [
       "((445, 1), (445,))"
      ]
     },
     "execution_count": 114,
     "metadata": {},
     "output_type": "execute_result"
    }
   ],
   "source": [
    "en_valid_X.shape, en_valid_y.shape"
   ]
  },
  {
   "cell_type": "code",
   "execution_count": 115,
   "metadata": {},
   "outputs": [
    {
     "data": {
      "text/plain": [
       "((446, 1), (446,))"
      ]
     },
     "execution_count": 115,
     "metadata": {},
     "output_type": "execute_result"
    }
   ],
   "source": [
    "en_test_X.shape, en_test_y.shape"
   ]
  },
  {
   "cell_type": "markdown",
   "metadata": {},
   "source": [
    "---"
   ]
  },
  {
   "cell_type": "markdown",
   "metadata": {},
   "source": [
    "## Khám phá dữ liệu - tập huấn luyện"
   ]
  },
  {
   "cell_type": "code",
   "execution_count": 116,
   "metadata": {},
   "outputs": [
    {
     "name": "stdout",
     "output_type": "stream",
     "text": [
      "Số lượng nội dung tóm tắt bị trùng: 292\n",
      "3 nội dung tóm tắt trùng nhiều nhất:\n",
      "We don't have an overview translated in English. Help us expand our database by adding one.                                                                                                                                                                                                                73\n",
      "Closet witch Teresa Palmer and centuries-old vampire Matthew Goode are drawn into a deadly mystery and forbidden romance when a magical book shows up in an Oxford library.                                                                                                                                 2\n",
      "An emotional thrill ride through the day-to-day chaos of the city's most explosive hospital and the courageous team of doctors who hold it together. They will tackle unique new cases inspired by topical events, forging fiery relationships in the pulse-pounding pandemonium of the emergency room.     2\n",
      "Name: overview, dtype: int64\n"
     ]
    }
   ],
   "source": [
    "en_overview_dup = en_train_X.duplicated(['overview'])\n",
    "print(\"Số lượng nội dung tóm tắt bị trùng:\", en_overview_dup.sum())\n",
    "\n",
    "print(\"3 nội dung tóm tắt trùng nhiều nhất:\")\n",
    "print(en_train_X[en_overview_dup].overview.value_counts()[:3])\n",
    "    "
   ]
  },
  {
   "cell_type": "code",
   "execution_count": 139,
   "metadata": {},
   "outputs": [
    {
     "data": {
      "text/plain": [
       "(302,\n",
       " [(',', 6132),\n",
       "  ('the', 5523),\n",
       "  ('.', 4675),\n",
       "  ('a', 3547),\n",
       "  ('and', 3422),\n",
       "  ('of', 3141),\n",
       "  ('to', 2953),\n",
       "  ('in', 1876),\n",
       "  ('his', 1342),\n",
       "  ('is', 1326),\n",
       "  ('with', 907),\n",
       "  ('her', 790),\n",
       "  ('on', 785),\n",
       "  (\"'s\", 782),\n",
       "  ('an', 727),\n",
       "  ('by', 721),\n",
       "  ('their', 690),\n",
       "  ('he', 674),\n",
       "  ('for', 668),\n",
       "  ('as', 666)])"
      ]
     },
     "execution_count": 139,
     "metadata": {},
     "output_type": "execute_result"
    }
   ],
   "source": [
    "word_dict = Counter()\n",
    "for words in en_train_X.overview.apply(lambda s: word_tokenize(s)):\n",
    "    word_dict.update(words)\n",
    "    max_leng = max(max_leng, len(words))\n",
    "\n",
    "max_leng, word_dict.most_common(20)"
   ]
  },
  {
   "cell_type": "code",
   "execution_count": 118,
   "metadata": {},
   "outputs": [
    {
     "name": "stdout",
     "output_type": "stream",
     "text": [
      "Số lượng nội dung tóm tắt bị trùng: 120\n",
      "3 nội dung tóm tắt trùng nhiều nhất:\n",
      "Phim Đảo Hải Tặc - One Piece là chuyện về cậu bé Monkey D. Luffy do ăn nhầm Trái Ác Quỷ, bị biến thành người cao su và sẽ không bao giờ biết bơi. 10 năm sau sự việc đó, cậu rời quê mình và kiếm đủ 10 thành viên để thành một băng hải tặc, biệt hiệu Hải tặc Mũ Rơm.Khi đó của phiêu lưu tìm kiếm kho báu One Piece bắt đầu. Trong cuộc phiêu lưu tìm kiếm One Piece, băng Hải tặc mũ rơm phải chiến đấu với nhiều băng hải tặc xấu khác cũng muốn độc chiếm One Piece và Hải quân của Chính phủ muốn diệt trừ hải tặc. Băng Hải tặc Mũ Rơm phải trải qua biết bao nhiêu khó khăn, không lùi bước với ước mơ \"Trở thành Vua Hải Tặc và chiếm được kho báu One Piece\".    2\n",
      "Diễn viên từng được đề cử giải Oscar William H. Macy đóng vai Frank Gallagher, một người cha độc thân của sáu người dành phần lớn thời gian rảnh của mình để uống rượu tại các quán bar. Những đứa trẻ Gallagher - dẫn đầu bởi cô con gái lớn nhất Fiona (Emmy Rossum), người đảm nhận phần lớn trách nhiệm nuôi dạy con do vắng mặt mẹ - cố gắng tự nuôi mình mặc dù Frank không có cách nuôi dạy con cái và cách nuôi dạy khác thường khi anh làm chọn hành động như một người cha. Bộ phim là bộ phim chuyển thể từ chương trình cùng tên của người Anh từng đoạt giải BAFTA.                                                                                            2\n",
      "Ở thế giới nơi đủ loại động vật cùng tồn tại, chú sói hiền lành nhận thức được bản năng săn mồi của mình khi ngôi trường của chú ứng phó với một kẻ sát nhân đang ẩn náu.                                                                                                                                                                                                                                                                                                                                                                                                                                                                                                   2\n",
      "Name: overview, dtype: int64\n"
     ]
    }
   ],
   "source": [
    "vi_overview_dup = vi_train_X.duplicated(['overview'])\n",
    "print(\"Số lượng nội dung tóm tắt bị trùng:\", vi_overview_dup.sum())\n",
    "\n",
    "print(\"3 nội dung tóm tắt trùng nhiều nhất:\")\n",
    "print(vi_train_X[vi_overview_dup].overview.value_counts()[:3])\n",
    "    "
   ]
  },
  {
   "cell_type": "code",
   "execution_count": 138,
   "metadata": {},
   "outputs": [
    {
     "data": {
      "text/plain": [
       "(240,\n",
       " [(',', 3166),\n",
       "  ('.', 2720),\n",
       "  ('của', 1756),\n",
       "  ('một', 1617),\n",
       "  ('và', 1440),\n",
       "  ('là', 974),\n",
       "  ('người', 965),\n",
       "  ('những', 775),\n",
       "  ('trong', 673),\n",
       "  ('với', 646),\n",
       "  ('được', 641),\n",
       "  ('có', 635),\n",
       "  ('đã', 597),\n",
       "  ('khi', 485),\n",
       "  ('phim', 459),\n",
       "  ('về', 451),\n",
       "  ('để', 448),\n",
       "  ('thành', 444),\n",
       "  ('anh', 441),\n",
       "  (')', 422)])"
      ]
     },
     "execution_count": 138,
     "metadata": {},
     "output_type": "execute_result"
    }
   ],
   "source": [
    "word_dict = Counter()\n",
    "max_leng = -1\n",
    "for words in vi_train_X.overview.apply(lambda s: word_tokenize(s)):\n",
    "    word_dict.update(words)\n",
    "    max_leng = max(max_leng, len(words))\n",
    "\n",
    "max_leng, word_dict.most_common(20)"
   ]
  },
  {
   "cell_type": "markdown",
   "metadata": {},
   "source": [
    "## Tiền xử lí"
   ]
  },
  {
   "cell_type": "code",
   "execution_count": null,
   "metadata": {},
   "outputs": [],
   "source": [
    "movie_df[movie_df.score == 0.0]"
   ]
  },
  {
   "cell_type": "markdown",
   "metadata": {},
   "source": [
    "## Tiền xử lí - tập validation"
   ]
  },
  {
   "cell_type": "markdown",
   "metadata": {},
   "source": [
    "TODO"
   ]
  },
  {
   "cell_type": "markdown",
   "metadata": {},
   "source": [
    "---"
   ]
  },
  {
   "cell_type": "markdown",
   "metadata": {},
   "source": [
    "## Mô hình hóa dữ liệu"
   ]
  },
  {
   "cell_type": "markdown",
   "metadata": {},
   "source": [
    "Huấn luyện mô hình"
   ]
  },
  {
   "cell_type": "code",
   "execution_count": null,
   "metadata": {},
   "outputs": [],
   "source": []
  },
  {
   "cell_type": "markdown",
   "metadata": {},
   "source": [
    "### Hyperparameter tuning"
   ]
  },
  {
   "cell_type": "markdown",
   "metadata": {},
   "source": [
    "TODO"
   ]
  },
  {
   "cell_type": "markdown",
   "metadata": {},
   "source": [
    "### Đánh giá mô hình"
   ]
  },
  {
   "cell_type": "markdown",
   "metadata": {},
   "source": [
    "TODO"
   ]
  },
  {
   "cell_type": "markdown",
   "metadata": {},
   "source": [
    "---"
   ]
  },
  {
   "cell_type": "markdown",
   "metadata": {},
   "source": [
    "## Kết luận"
   ]
  },
  {
   "cell_type": "markdown",
   "metadata": {},
   "source": [
    "TODO"
   ]
  },
  {
   "cell_type": "code",
   "execution_count": null,
   "metadata": {},
   "outputs": [],
   "source": []
  }
 ],
 "metadata": {
  "kernelspec": {
   "display_name": "Python 3",
   "language": "python",
   "name": "python3"
  },
  "language_info": {
   "codemirror_mode": {
    "name": "ipython",
    "version": 3
   },
   "file_extension": ".py",
   "mimetype": "text/x-python",
   "name": "python",
   "nbconvert_exporter": "python",
   "pygments_lexer": "ipython3",
   "version": "3.6.9"
  }
 },
 "nbformat": 4,
 "nbformat_minor": 2
}

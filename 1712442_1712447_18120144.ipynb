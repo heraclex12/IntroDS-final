{
 "cells": [
  {
   "cell_type": "markdown",
   "metadata": {},
   "source": [
    "## Thông tin nhóm\n",
    "\n",
    "**Thành viên thứ 1:**\n",
    "\n",
    "- Họ và tên: Trần Trung Hiếu\n",
    "- MSSV: 1712442\n",
    "\n",
    "**Thành viên thứ 2:**\n",
    "- Họ và tên: Lê Long Hồ\n",
    "- MSSV: 1712447\n",
    "\n",
    "**Thành viên thứ 3:**\n",
    "- Họ và tên: Nguyễn Đình Thiên Phúc\n",
    "- MSSV: 18120144\n",
    "\n",
    "___"
   ]
  },
  {
   "cell_type": "markdown",
   "metadata": {},
   "source": [
    "## Import"
   ]
  },
  {
   "cell_type": "code",
   "execution_count": 1,
   "metadata": {},
   "outputs": [
    {
     "name": "stderr",
     "output_type": "stream",
     "text": [
      "[nltk_data] Downloading package punkt to\n",
      "[nltk_data]     /home/tthieu22_06/nltk_data...\n",
      "[nltk_data]   Package punkt is already up-to-date!\n"
     ]
    }
   ],
   "source": [
    "!pip3 install -q cython nltk pyvi\n",
    "\n",
    "import nltk\n",
    "nltk.download('punkt')\n",
    "from nltk.tokenize import word_tokenize\n",
    "import csv\n",
    "import json\n",
    "import pandas as pd\n",
    "import numpy as np\n",
    "import matplotlib.pyplot as plt\n",
    "import seaborn as sns\n",
    "from collections import Counter\n",
    "import re\n",
    "from pyvi import ViTokenizer\n",
    "from nltk.stem.porter import PorterStemmer\n",
    "import string\n",
    "\n",
    "from sklearn.linear_model import LogisticRegression\n",
    "from sklearn.model_selection import train_test_split\n",
    "from sklearn.base import BaseEstimator, TransformerMixin\n",
    "from sklearn.pipeline import Pipeline, make_pipeline\n",
    "from sklearn.feature_extraction.text import TfidfVectorizer\n",
    "\n",
    "pd.set_option('display.max_rows', 500)"
   ]
  },
  {
   "cell_type": "markdown",
   "metadata": {},
   "source": [
    "---"
   ]
  },
  {
   "cell_type": "markdown",
   "metadata": {},
   "source": [
    "## Thu thập dữ liệu"
   ]
  },
  {
   "cell_type": "markdown",
   "metadata": {},
   "source": [
    "Phần thu thập dữ liệu được code trong file movieCrawling.py. Cần install các thư viện bs4, selenium, time, urllib. Tải file chromedriver.exe và đặt trong cùng folder và chạy file movieCrawling.py"
   ]
  },
  {
   "cell_type": "markdown",
   "metadata": {},
   "source": [
    "Đầu tiên thu thập url của các phim thuộc các danh mục sau:\n",
    "- https://www.themoviedb.org/tv\n",
    "- https://www.themoviedb.org/tv/on-the-air\n",
    "- https://www.themoviedb.org/tv/top-rated\n",
    "- https://www.themoviedb.org/movie\n",
    "- https://www.themoviedb.org/movie/now-playing\n",
    "- https://www.themoviedb.org/movie/top-rated\n",
    "\n",
    "Bước này được thực hiện qua hàm getMovieUrl. Sẽ lần lượt truy cập vào các url danh mục trên, thu thập tất cả url chi tiết phim có trong đó bằng cách scroll đến khi hết trang. Mỗi danh mục sẽ có gần 2k phim. Tổng cộng thu thập gần 6k url của phim và ghi vào file movie_url.csv"
   ]
  },
  {
   "cell_type": "markdown",
   "metadata": {},
   "source": [
    "---"
   ]
  },
  {
   "cell_type": "markdown",
   "metadata": {},
   "source": [
    "Phần sau cùng tiến hành thu thập thông tin chi tiết của mỗi trong file movie_url.csv bằng hàm crawlMovieInfomation thông qua cách parse html. Các thông tin được lấy là:\n",
    "- url: url của phim\n",
    "- title: tên phim\n",
    "- score: điểm \n",
    "- posterImagePath: đường dẫn chứa poster phim\n",
    "- certification: nhãn phim (độ tuổi)\n",
    "- overview: tóm tắt phim\n",
    "- tagline\n",
    "- genres: Thể loại\n",
    "- trailerUrl: url trailer của phim\n",
    "- language: ngôn ngữ của phần overview\n",
    "\n",
    "Poster của phim được download bằng urllib và lưu ở posterImagePath"
   ]
  },
  {
   "cell_type": "markdown",
   "metadata": {},
   "source": [
    "## Khám phá dữ liệu"
   ]
  },
  {
   "cell_type": "code",
   "execution_count": 2,
   "metadata": {},
   "outputs": [
    {
     "data": {
      "text/html": [
       "<div>\n",
       "<style scoped>\n",
       "    .dataframe tbody tr th:only-of-type {\n",
       "        vertical-align: middle;\n",
       "    }\n",
       "\n",
       "    .dataframe tbody tr th {\n",
       "        vertical-align: top;\n",
       "    }\n",
       "\n",
       "    .dataframe thead th {\n",
       "        text-align: right;\n",
       "    }\n",
       "</style>\n",
       "<table border=\"1\" class=\"dataframe\">\n",
       "  <thead>\n",
       "    <tr style=\"text-align: right;\">\n",
       "      <th></th>\n",
       "      <th>url</th>\n",
       "      <th>title</th>\n",
       "      <th>score</th>\n",
       "      <th>posterImagePath</th>\n",
       "      <th>certification</th>\n",
       "      <th>overview</th>\n",
       "      <th>tagline</th>\n",
       "      <th>genres</th>\n",
       "      <th>trailerUrl</th>\n",
       "      <th>language</th>\n",
       "    </tr>\n",
       "  </thead>\n",
       "  <tbody>\n",
       "    <tr>\n",
       "      <th>4864</th>\n",
       "      <td>https://www.themoviedb.org/movie/15383</td>\n",
       "      <td>Army of Shadows\\n(1969)</td>\n",
       "      <td>80.0</td>\n",
       "      <td>poster_final/15383.jpg</td>\n",
       "      <td>16</td>\n",
       "      <td>Betrayed by an informant, Philippe Gerbier fin...</td>\n",
       "      <td>Betrayal. Loyalty. Collaboration. Resistance.</td>\n",
       "      <td>Phim Chiến Tranh, Phim Chính Kịch, Phim Gây Cấn</td>\n",
       "      <td>NaN</td>\n",
       "      <td>en</td>\n",
       "    </tr>\n",
       "    <tr>\n",
       "      <th>4663</th>\n",
       "      <td>https://www.themoviedb.org/movie/1891</td>\n",
       "      <td>Chiến Tranh Giữa Các Vì Sao 5: Đế Chế Phản Côn...</td>\n",
       "      <td>84.0</td>\n",
       "      <td>poster_final/1891.jpg</td>\n",
       "      <td>PG</td>\n",
       "      <td>Trước sự truy đuổi gắt gao của quân đội đế quố...</td>\n",
       "      <td>The Adventure Continues...</td>\n",
       "      <td>Phim Phiêu Lưu, Phim Hành Động, Phim Khoa Học ...</td>\n",
       "      <td>NaN</td>\n",
       "      <td>vi</td>\n",
       "    </tr>\n",
       "    <tr>\n",
       "      <th>1690</th>\n",
       "      <td>https://www.themoviedb.org/tv/93406</td>\n",
       "      <td>EFL on Quest\\n(2018)</td>\n",
       "      <td>60.0</td>\n",
       "      <td>poster_final/93406.jpg</td>\n",
       "      <td>NaN</td>\n",
       "      <td>Match highlights of all the action from the EF...</td>\n",
       "      <td>NaN</td>\n",
       "      <td>NaN</td>\n",
       "      <td>NaN</td>\n",
       "      <td>en</td>\n",
       "    </tr>\n",
       "    <tr>\n",
       "      <th>4615</th>\n",
       "      <td>https://www.themoviedb.org/movie/557499</td>\n",
       "      <td>Kung Food\\n(2018)</td>\n",
       "      <td>70.0</td>\n",
       "      <td>poster_final/557499.jpg</td>\n",
       "      <td>NaN</td>\n",
       "      <td>Super Bao, an innocent and passionate steamed ...</td>\n",
       "      <td>NaN</td>\n",
       "      <td>Phim Hoạt Hình, Phim Gia Đình</td>\n",
       "      <td>NaN</td>\n",
       "      <td>en</td>\n",
       "    </tr>\n",
       "    <tr>\n",
       "      <th>3555</th>\n",
       "      <td>https://www.themoviedb.org/movie/61927</td>\n",
       "      <td>Porno Unplugged\\n(2009)</td>\n",
       "      <td>61.0</td>\n",
       "      <td>poster_final/61927.jpg</td>\n",
       "      <td>NaN</td>\n",
       "      <td>Journalist Fabian Burstein looks behind the cu...</td>\n",
       "      <td>NaN</td>\n",
       "      <td>Phim Tài Liệu</td>\n",
       "      <td>NaN</td>\n",
       "      <td>en</td>\n",
       "    </tr>\n",
       "  </tbody>\n",
       "</table>\n",
       "</div>"
      ],
      "text/plain": [
       "                                          url  \\\n",
       "4864   https://www.themoviedb.org/movie/15383   \n",
       "4663    https://www.themoviedb.org/movie/1891   \n",
       "1690      https://www.themoviedb.org/tv/93406   \n",
       "4615  https://www.themoviedb.org/movie/557499   \n",
       "3555   https://www.themoviedb.org/movie/61927   \n",
       "\n",
       "                                                  title  score  \\\n",
       "4864                            Army of Shadows\\n(1969)   80.0   \n",
       "4663  Chiến Tranh Giữa Các Vì Sao 5: Đế Chế Phản Côn...   84.0   \n",
       "1690                               EFL on Quest\\n(2018)   60.0   \n",
       "4615                                  Kung Food\\n(2018)   70.0   \n",
       "3555                            Porno Unplugged\\n(2009)   61.0   \n",
       "\n",
       "              posterImagePath certification  \\\n",
       "4864   poster_final/15383.jpg            16   \n",
       "4663    poster_final/1891.jpg            PG   \n",
       "1690   poster_final/93406.jpg           NaN   \n",
       "4615  poster_final/557499.jpg           NaN   \n",
       "3555   poster_final/61927.jpg           NaN   \n",
       "\n",
       "                                               overview  \\\n",
       "4864  Betrayed by an informant, Philippe Gerbier fin...   \n",
       "4663  Trước sự truy đuổi gắt gao của quân đội đế quố...   \n",
       "1690  Match highlights of all the action from the EF...   \n",
       "4615  Super Bao, an innocent and passionate steamed ...   \n",
       "3555  Journalist Fabian Burstein looks behind the cu...   \n",
       "\n",
       "                                            tagline  \\\n",
       "4864  Betrayal. Loyalty. Collaboration. Resistance.   \n",
       "4663                     The Adventure Continues...   \n",
       "1690                                            NaN   \n",
       "4615                                            NaN   \n",
       "3555                                            NaN   \n",
       "\n",
       "                                                 genres trailerUrl language  \n",
       "4864    Phim Chiến Tranh, Phim Chính Kịch, Phim Gây Cấn        NaN       en  \n",
       "4663  Phim Phiêu Lưu, Phim Hành Động, Phim Khoa Học ...        NaN       vi  \n",
       "1690                                                NaN        NaN       en  \n",
       "4615                      Phim Hoạt Hình, Phim Gia Đình        NaN       en  \n",
       "3555                                      Phim Tài Liệu        NaN       en  "
      ]
     },
     "execution_count": 2,
     "metadata": {},
     "output_type": "execute_result"
    }
   ],
   "source": [
    "movie_df = pd.read_csv('movie_final.csv')\n",
    "movie_df.sample(5)"
   ]
  },
  {
   "cell_type": "code",
   "execution_count": 3,
   "metadata": {},
   "outputs": [
    {
     "name": "stdout",
     "output_type": "stream",
     "text": [
      "<class 'pandas.core.frame.DataFrame'>\n",
      "RangeIndex: 5598 entries, 0 to 5597\n",
      "Data columns (total 10 columns):\n",
      " #   Column           Non-Null Count  Dtype  \n",
      "---  ------           --------------  -----  \n",
      " 0   url              5598 non-null   object \n",
      " 1   title            5594 non-null   object \n",
      " 2   score            5594 non-null   float64\n",
      " 3   posterImagePath  5326 non-null   object \n",
      " 4   certification    4177 non-null   object \n",
      " 5   overview         5594 non-null   object \n",
      " 6   tagline          2522 non-null   object \n",
      " 7   genres           5230 non-null   object \n",
      " 8   trailerUrl       79 non-null     object \n",
      " 9   language         5594 non-null   object \n",
      "dtypes: float64(1), object(9)\n",
      "memory usage: 437.5+ KB\n"
     ]
    }
   ],
   "source": [
    "movie_df.info()"
   ]
  },
  {
   "cell_type": "code",
   "execution_count": 4,
   "metadata": {},
   "outputs": [
    {
     "name": "stdout",
     "output_type": "stream",
     "text": [
      "Dữ liệu có số dòng: 5598\n",
      "Dữ liệu có số cột: 10\n"
     ]
    }
   ],
   "source": [
    "n_row, n_col = movie_df.shape\n",
    "print(\"Dữ liệu có số dòng:\", n_row)\n",
    "print(\"Dữ liệu có số cột:\", n_col)"
   ]
  },
  {
   "cell_type": "markdown",
   "metadata": {},
   "source": [
    "Mỗi dòng trong tập dữ liệu thể hiện vài thông tin của một bộ phim, bộ phim đó có thể là phim truyền hình hoặc phim điện ảnh. Các dòng này đều có ý nghĩa tương đương nhau. "
   ]
  },
  {
   "cell_type": "markdown",
   "metadata": {},
   "source": [
    "## Đưa ra câu hỏi cần trả lời"
   ]
  },
  {
   "cell_type": "markdown",
   "metadata": {},
   "source": [
    "Các thông tin được tải lên trên Internet hầu như không được kiểm duyệt, chính vì vậy sẽ có thể xuất hiện những nội dung không phù hợp với mọi lứa tuổi, cụ thể là những bộ phim có gán nhãn giới hạn độ tuổi người lớn không nên để những người chưa đủ tuổi, đặc biệt là trẻ nhỏ tiếp xúc. Tuy nhiên, rất nhiều các website xem phim lại không có gán nhãn giới hạn độ tuổi. Chính vì vậy, câu hỏi này được đưa ra nhằm tìm câu trả lời giải quyết vấn đề nội dung bộ phim không phù hợp với các lứa tuổi, giúp các phụ huynh có thể quản lí được trẻ nhỏ không tìm coi những bộ phim có nội dung không phù hợp.\n",
    "\n",
    "Câu hỏi này sẽ liên quan tới việc phân loại nội dung tóm tắt và ảnh poster của một bộ phim và dự đoán độ tuổi phù hợp để coi bộ phim này là gì.\n",
    "\n",
    "- Input: overview (nội dung tóm tắt của bộ phim), posterImagePath (ảnh poster của bộ phim)\n",
    "- Output: certification (độ tuổi phù hợp)"
   ]
  },
  {
   "cell_type": "markdown",
   "metadata": {},
   "source": [
    "---"
   ]
  },
  {
   "cell_type": "markdown",
   "metadata": {},
   "source": [
    "## Khám phá dữ liệu"
   ]
  },
  {
   "cell_type": "code",
   "execution_count": 5,
   "metadata": {},
   "outputs": [
    {
     "name": "stdout",
     "output_type": "stream",
     "text": [
      "Danh sách các ngôn ngữ thể hiện nội dung tóm tắt:\n",
      "en    4304\n",
      "vi    1224\n",
      "lt      31\n",
      "fi      10\n",
      "tl       5\n",
      "cy       4\n",
      "pt       4\n",
      "ro       3\n",
      "es       2\n",
      "fr       1\n",
      "it       1\n",
      "sk       1\n",
      "de       1\n",
      "af       1\n",
      "cs       1\n",
      "id       1\n",
      "Name: language, dtype: int64\n"
     ]
    }
   ],
   "source": [
    "print(\"Danh sách các ngôn ngữ thể hiện nội dung tóm tắt:\")\n",
    "print(movie_df.language.value_counts())"
   ]
  },
  {
   "cell_type": "code",
   "execution_count": 6,
   "metadata": {},
   "outputs": [
    {
     "name": "stdout",
     "output_type": "stream",
     "text": [
      "Kiểu dữ liệu của cột cerfitication: object\n"
     ]
    }
   ],
   "source": [
    "print('Kiểu dữ liệu của cột cerfitication:', movie_df.certification.dtype)"
   ]
  },
  {
   "cell_type": "code",
   "execution_count": 7,
   "metadata": {},
   "outputs": [
    {
     "name": "stdout",
     "output_type": "stream",
     "text": [
      "Số lượng dòng bị thiếu output: 1421\n",
      "Số lượng dòng có output: 4177\n"
     ]
    }
   ],
   "source": [
    "print(\"Số lượng dòng bị thiếu output:\", movie_df.certification.isnull().sum())\n",
    "print(\"Số lượng dòng có output:\", movie_df.shape[0] - movie_df.certification.isnull().sum())"
   ]
  },
  {
   "cell_type": "code",
   "execution_count": 8,
   "metadata": {
    "scrolled": true
   },
   "outputs": [
    {
     "name": "stdout",
     "output_type": "stream",
     "text": [
      "Số lượng lớp trong certification: 88\n",
      "Tỉ lệ bộ phim của từng lớp:\n",
      " R             14.891070\n",
      "TV-14         12.401245\n",
      "PG-13         10.892985\n",
      "TV-MA          9.743835\n",
      "PG             9.743835\n",
      "TV-PG          4.907829\n",
      "G              4.141729\n",
      "12             4.045966\n",
      "NR             3.998085\n",
      "15             3.303807\n",
      "16             2.657410\n",
      "TV-Y7          2.250419\n",
      "TV-G           1.723725\n",
      "U              1.484319\n",
      "18             1.173091\n",
      "14             1.125209\n",
      "L              1.053388\n",
      "16+            0.694278\n",
      "0              0.598516\n",
      "10             0.598516\n",
      "6              0.550634\n",
      "18+            0.478813\n",
      "T              0.430931\n",
      "12+            0.406991\n",
      "MA15+          0.383050\n",
      "TV-Y           0.359109\n",
      "保護級            0.359109\n",
      "普遍級            0.335169\n",
      "AL             0.335169\n",
      "7              0.287288\n",
      "6+             0.287288\n",
      "輔12級           0.239406\n",
      "UA             0.215466\n",
      "NC-17          0.215466\n",
      "APTA           0.215466\n",
      "M              0.215466\n",
      "11             0.191525\n",
      "M/12           0.167584\n",
      "C13            0.143644\n",
      "15세 이상 관람가     0.143644\n",
      "9              0.143644\n",
      "NC16           0.143644\n",
      "12세 이상 관람가     0.119703\n",
      "ALL            0.119703\n",
      "12A            0.095763\n",
      "PG13           0.095763\n",
      "14+            0.095763\n",
      "C8             0.095763\n",
      "A              0.095763\n",
      "C18            0.095763\n",
      "0+             0.095763\n",
      "19             0.095763\n",
      "輔15級           0.095763\n",
      "PG12           0.071822\n",
      "13+            0.071822\n",
      "17+            0.071822\n",
      "15세이상관람가       0.071822\n",
      "R - 17+        0.047881\n",
      "N-7            0.047881\n",
      "C16            0.047881\n",
      "M/16           0.047881\n",
      "M/14           0.047881\n",
      "청소년 관람불가       0.047881\n",
      "TP             0.047881\n",
      "청소년관람불가        0.047881\n",
      "13             0.047881\n",
      "NC18           0.023941\n",
      "12세이상관람가       0.023941\n",
      "K-7            0.023941\n",
      "IIA            0.023941\n",
      "S              0.023941\n",
      "R21            0.023941\n",
      "น 15+          0.023941\n",
      "VM14           0.023941\n",
      "N-14           0.023941\n",
      "Exempt         0.023941\n",
      "M18            0.023941\n",
      "-              0.023941\n",
      "E              0.023941\n",
      "e Livre        0.023941\n",
      "14A            0.023941\n",
      "18A            0.023941\n",
      "ZA             0.023941\n",
      "C              0.023941\n",
      "K-12           0.023941\n",
      "R15+           0.023941\n",
      "น 18+          0.023941\n",
      "Name: certification, dtype: float64\n"
     ]
    }
   ],
   "source": [
    "print('Số lượng lớp trong certification:', len(movie_df.certification.unique()))\n",
    "print('Tỉ lệ bộ phim của từng lớp:\\n', movie_df.certification.value_counts(normalize=True)*100)"
   ]
  },
  {
   "cell_type": "markdown",
   "metadata": {},
   "source": [
    "## Tiền xử lí - tách các tập dữ liệu"
   ]
  },
  {
   "cell_type": "markdown",
   "metadata": {},
   "source": [
    "### Lọc thông tin cần thiết"
   ]
  },
  {
   "cell_type": "markdown",
   "metadata": {},
   "source": [
    "`en` và `vi` là hai ngôn ngữ có số lượng bộ phim chiếm nhiều nhất, cho nên nhóm sẽ giữ lại những bộ phim thuộc một trong hai ngôn ngữ này để thực hiện tiền xử lí và loại bỏ đi các dòng chứa các ngôn ngữ còn lại"
   ]
  },
  {
   "cell_type": "code",
   "execution_count": 9,
   "metadata": {},
   "outputs": [
    {
     "data": {
      "text/html": [
       "<div>\n",
       "<style scoped>\n",
       "    .dataframe tbody tr th:only-of-type {\n",
       "        vertical-align: middle;\n",
       "    }\n",
       "\n",
       "    .dataframe tbody tr th {\n",
       "        vertical-align: top;\n",
       "    }\n",
       "\n",
       "    .dataframe thead th {\n",
       "        text-align: right;\n",
       "    }\n",
       "</style>\n",
       "<table border=\"1\" class=\"dataframe\">\n",
       "  <thead>\n",
       "    <tr style=\"text-align: right;\">\n",
       "      <th></th>\n",
       "      <th>url</th>\n",
       "      <th>title</th>\n",
       "      <th>score</th>\n",
       "      <th>posterImagePath</th>\n",
       "      <th>certification</th>\n",
       "      <th>overview</th>\n",
       "      <th>tagline</th>\n",
       "      <th>genres</th>\n",
       "      <th>trailerUrl</th>\n",
       "      <th>language</th>\n",
       "    </tr>\n",
       "  </thead>\n",
       "  <tbody>\n",
       "    <tr>\n",
       "      <th>0</th>\n",
       "      <td>https://www.themoviedb.org/tv/44217</td>\n",
       "      <td>Huyền Thoại Vikings\\n(2013)</td>\n",
       "      <td>79.0</td>\n",
       "      <td>poster_final/44217.jpg</td>\n",
       "      <td>14+</td>\n",
       "      <td>Người Viking đưa chúng ta đến thế giới tàn khố...</td>\n",
       "      <td>NaN</td>\n",
       "      <td>Action &amp; Adventure, Phim Chính Kịch</td>\n",
       "      <td>NaN</td>\n",
       "      <td>vi</td>\n",
       "    </tr>\n",
       "    <tr>\n",
       "      <th>1</th>\n",
       "      <td>https://www.themoviedb.org/tv/82856</td>\n",
       "      <td>The Mandalorian\\n(2019)</td>\n",
       "      <td>85.0</td>\n",
       "      <td>poster_final/82856.jpg</td>\n",
       "      <td>TV-14</td>\n",
       "      <td>After the fall of the Galactic Empire, lawless...</td>\n",
       "      <td>Bounty hunting is a complicated profession.</td>\n",
       "      <td>Sci-Fi &amp; Fantasy, Action &amp; Adventure</td>\n",
       "      <td>NaN</td>\n",
       "      <td>en</td>\n",
       "    </tr>\n",
       "    <tr>\n",
       "      <th>2</th>\n",
       "      <td>https://www.themoviedb.org/tv/77169</td>\n",
       "      <td>Cobra Kai\\n(2018)</td>\n",
       "      <td>81.0</td>\n",
       "      <td>poster_final/77169.jpg</td>\n",
       "      <td>TV-14</td>\n",
       "      <td>This Karate Kid sequel series picks up 30 year...</td>\n",
       "      <td>Cobra Kai never dies.</td>\n",
       "      <td>Action &amp; Adventure, Phim Chính Kịch</td>\n",
       "      <td>NaN</td>\n",
       "      <td>en</td>\n",
       "    </tr>\n",
       "    <tr>\n",
       "      <th>3</th>\n",
       "      <td>https://www.themoviedb.org/tv/75006</td>\n",
       "      <td>Học Viện Umbrella\\n(2019)</td>\n",
       "      <td>87.0</td>\n",
       "      <td>poster_final/75006.jpg</td>\n",
       "      <td>TV-MA</td>\n",
       "      <td>Được đưa về quá khứ những năm 1960 tại Dallas,...</td>\n",
       "      <td>Super. Dysfunctional. Family.</td>\n",
       "      <td>Action &amp; Adventure, Sci-Fi &amp; Fantasy, Phim Chí...</td>\n",
       "      <td>NaN</td>\n",
       "      <td>vi</td>\n",
       "    </tr>\n",
       "    <tr>\n",
       "      <th>4</th>\n",
       "      <td>https://www.themoviedb.org/tv/71712</td>\n",
       "      <td>Bác Sĩ Thiên Tài\\n(2017)</td>\n",
       "      <td>86.0</td>\n",
       "      <td>poster_final/71712.jpg</td>\n",
       "      <td>TV-14</td>\n",
       "      <td>Một bác sĩ trẻ mắc hội chứng bác học được nhận...</td>\n",
       "      <td>His mind is a mystery, his methods are a miracle.</td>\n",
       "      <td>Phim Chính Kịch</td>\n",
       "      <td>NaN</td>\n",
       "      <td>vi</td>\n",
       "    </tr>\n",
       "  </tbody>\n",
       "</table>\n",
       "</div>"
      ],
      "text/plain": [
       "                                   url                        title  score  \\\n",
       "0  https://www.themoviedb.org/tv/44217  Huyền Thoại Vikings\\n(2013)   79.0   \n",
       "1  https://www.themoviedb.org/tv/82856      The Mandalorian\\n(2019)   85.0   \n",
       "2  https://www.themoviedb.org/tv/77169            Cobra Kai\\n(2018)   81.0   \n",
       "3  https://www.themoviedb.org/tv/75006    Học Viện Umbrella\\n(2019)   87.0   \n",
       "4  https://www.themoviedb.org/tv/71712     Bác Sĩ Thiên Tài\\n(2017)   86.0   \n",
       "\n",
       "          posterImagePath certification  \\\n",
       "0  poster_final/44217.jpg           14+   \n",
       "1  poster_final/82856.jpg         TV-14   \n",
       "2  poster_final/77169.jpg         TV-14   \n",
       "3  poster_final/75006.jpg         TV-MA   \n",
       "4  poster_final/71712.jpg         TV-14   \n",
       "\n",
       "                                            overview  \\\n",
       "0  Người Viking đưa chúng ta đến thế giới tàn khố...   \n",
       "1  After the fall of the Galactic Empire, lawless...   \n",
       "2  This Karate Kid sequel series picks up 30 year...   \n",
       "3  Được đưa về quá khứ những năm 1960 tại Dallas,...   \n",
       "4  Một bác sĩ trẻ mắc hội chứng bác học được nhận...   \n",
       "\n",
       "                                             tagline  \\\n",
       "0                                                NaN   \n",
       "1        Bounty hunting is a complicated profession.   \n",
       "2                              Cobra Kai never dies.   \n",
       "3                      Super. Dysfunctional. Family.   \n",
       "4  His mind is a mystery, his methods are a miracle.   \n",
       "\n",
       "                                              genres trailerUrl language  \n",
       "0                Action & Adventure, Phim Chính Kịch        NaN       vi  \n",
       "1               Sci-Fi & Fantasy, Action & Adventure        NaN       en  \n",
       "2                Action & Adventure, Phim Chính Kịch        NaN       en  \n",
       "3  Action & Adventure, Sci-Fi & Fantasy, Phim Chí...        NaN       vi  \n",
       "4                                    Phim Chính Kịch        NaN       vi  "
      ]
     },
     "execution_count": 9,
     "metadata": {},
     "output_type": "execute_result"
    }
   ],
   "source": [
    "envi_movie_df = movie_df[((movie_df.language == 'vi') | (movie_df.language == 'en'))]\n",
    "envi_movie_df.reset_index(inplace=True, drop=True)\n",
    "envi_movie_df.head(5)"
   ]
  },
  {
   "cell_type": "markdown",
   "metadata": {},
   "source": [
    "Xóa các dòng bị thiếu nhãn `certification`"
   ]
  },
  {
   "cell_type": "code",
   "execution_count": 10,
   "metadata": {},
   "outputs": [
    {
     "name": "stdout",
     "output_type": "stream",
     "text": [
      "Số lượng bộ phim sau khi loại bỏ nhãn thiếu: 4171\n"
     ]
    }
   ],
   "source": [
    "notnull_envi_movie_df = envi_movie_df.dropna(subset=['certification']).reset_index(drop=True)\n",
    "print('Số lượng bộ phim sau khi loại bỏ nhãn thiếu:', notnull_envi_movie_df.shape[0])"
   ]
  },
  {
   "cell_type": "markdown",
   "metadata": {},
   "source": [
    "Vì số lượng lớp lớn và phân bố không đồng đều, thực hiện chia các lớp giới hạn tuổi thành 2 cụm là: lớn hơn 18 (>=18) và nhỏ hơn 18 (<18)\n",
    "\n",
    "Danh sách cụm này được lưu trong tệp `age_restricted.txt`"
   ]
  },
  {
   "cell_type": "code",
   "execution_count": 11,
   "metadata": {},
   "outputs": [],
   "source": [
    "# Danh sách các nhóm tuổi\n",
    "age_cert = {}\n",
    "with open('resources/age_restricted.txt', 'r') as cert_file:\n",
    "    for line in cert_file:\n",
    "        cert, age = line.strip().split(',')\n",
    "        age_cert[cert] = 1 if age == '>18' else 0\n",
    "\n",
    "notnull_envi_movie_df['is_adult'] = notnull_envi_movie_df.certification.apply(lambda c: age_cert[c])"
   ]
  },
  {
   "cell_type": "code",
   "execution_count": 12,
   "metadata": {},
   "outputs": [
    {
     "data": {
      "text/html": [
       "<div>\n",
       "<style scoped>\n",
       "    .dataframe tbody tr th:only-of-type {\n",
       "        vertical-align: middle;\n",
       "    }\n",
       "\n",
       "    .dataframe tbody tr th {\n",
       "        vertical-align: top;\n",
       "    }\n",
       "\n",
       "    .dataframe thead th {\n",
       "        text-align: right;\n",
       "    }\n",
       "</style>\n",
       "<table border=\"1\" class=\"dataframe\">\n",
       "  <thead>\n",
       "    <tr style=\"text-align: right;\">\n",
       "      <th></th>\n",
       "      <th>url</th>\n",
       "      <th>title</th>\n",
       "      <th>score</th>\n",
       "      <th>posterImagePath</th>\n",
       "      <th>certification</th>\n",
       "      <th>overview</th>\n",
       "      <th>tagline</th>\n",
       "      <th>genres</th>\n",
       "      <th>trailerUrl</th>\n",
       "      <th>language</th>\n",
       "      <th>is_adult</th>\n",
       "    </tr>\n",
       "  </thead>\n",
       "  <tbody>\n",
       "    <tr>\n",
       "      <th>2884</th>\n",
       "      <td>https://www.themoviedb.org/movie/664297</td>\n",
       "      <td>She Dies Tomorrow\\n(2020)</td>\n",
       "      <td>60.0</td>\n",
       "      <td>poster_final/664297.jpg</td>\n",
       "      <td>R</td>\n",
       "      <td>Amy is ravaged by the notion that she is going...</td>\n",
       "      <td>Your deepest fear is spreading</td>\n",
       "      <td>Phim Chính Kịch</td>\n",
       "      <td>NaN</td>\n",
       "      <td>en</td>\n",
       "      <td>1</td>\n",
       "    </tr>\n",
       "    <tr>\n",
       "      <th>2253</th>\n",
       "      <td>https://www.themoviedb.org/movie/321303</td>\n",
       "      <td>1944\\n(2015)</td>\n",
       "      <td>67.0</td>\n",
       "      <td>poster_final/321303.jpg</td>\n",
       "      <td>16</td>\n",
       "      <td>The events of the war in 1944, from the Blue H...</td>\n",
       "      <td>The first casualty of war is truth</td>\n",
       "      <td>Phim Chính Kịch, Phim Chiến Tranh</td>\n",
       "      <td>NaN</td>\n",
       "      <td>en</td>\n",
       "      <td>0</td>\n",
       "    </tr>\n",
       "    <tr>\n",
       "      <th>998</th>\n",
       "      <td>https://www.themoviedb.org/tv/76075</td>\n",
       "      <td>Laid-Back Camp\\n(2018)</td>\n",
       "      <td>77.0</td>\n",
       "      <td>poster_final/76075.jpg</td>\n",
       "      <td>TV-PG</td>\n",
       "      <td>Nadeshiko, a high school student who had moved...</td>\n",
       "      <td>NaN</td>\n",
       "      <td>Phim Hoạt Hình, Phim Hài</td>\n",
       "      <td>NaN</td>\n",
       "      <td>en</td>\n",
       "      <td>0</td>\n",
       "    </tr>\n",
       "    <tr>\n",
       "      <th>3263</th>\n",
       "      <td>https://www.themoviedb.org/movie/18491</td>\n",
       "      <td>Neon Genesis Evangelion: The End of Evangelion...</td>\n",
       "      <td>83.0</td>\n",
       "      <td>poster_final/18491.jpg</td>\n",
       "      <td>MA15+</td>\n",
       "      <td>The second of two theatrically released follow...</td>\n",
       "      <td>The fate of destruction is also the joy of reb...</td>\n",
       "      <td>Phim Chính Kịch, Phim Khoa Học Viễn Tưởng, Phi...</td>\n",
       "      <td>NaN</td>\n",
       "      <td>en</td>\n",
       "      <td>0</td>\n",
       "    </tr>\n",
       "    <tr>\n",
       "      <th>782</th>\n",
       "      <td>https://www.themoviedb.org/tv/2394</td>\n",
       "      <td>This Old House\\n(1979)</td>\n",
       "      <td>54.0</td>\n",
       "      <td>poster_final/2394.jpg</td>\n",
       "      <td>TV-G</td>\n",
       "      <td>TV's original home-improvement show, following...</td>\n",
       "      <td>NaN</td>\n",
       "      <td>Phim Tài Liệu</td>\n",
       "      <td>NaN</td>\n",
       "      <td>en</td>\n",
       "      <td>0</td>\n",
       "    </tr>\n",
       "  </tbody>\n",
       "</table>\n",
       "</div>"
      ],
      "text/plain": [
       "                                          url  \\\n",
       "2884  https://www.themoviedb.org/movie/664297   \n",
       "2253  https://www.themoviedb.org/movie/321303   \n",
       "998       https://www.themoviedb.org/tv/76075   \n",
       "3263   https://www.themoviedb.org/movie/18491   \n",
       "782        https://www.themoviedb.org/tv/2394   \n",
       "\n",
       "                                                  title  score  \\\n",
       "2884                          She Dies Tomorrow\\n(2020)   60.0   \n",
       "2253                                       1944\\n(2015)   67.0   \n",
       "998                              Laid-Back Camp\\n(2018)   77.0   \n",
       "3263  Neon Genesis Evangelion: The End of Evangelion...   83.0   \n",
       "782                              This Old House\\n(1979)   54.0   \n",
       "\n",
       "              posterImagePath certification  \\\n",
       "2884  poster_final/664297.jpg             R   \n",
       "2253  poster_final/321303.jpg            16   \n",
       "998    poster_final/76075.jpg         TV-PG   \n",
       "3263   poster_final/18491.jpg         MA15+   \n",
       "782     poster_final/2394.jpg          TV-G   \n",
       "\n",
       "                                               overview  \\\n",
       "2884  Amy is ravaged by the notion that she is going...   \n",
       "2253  The events of the war in 1944, from the Blue H...   \n",
       "998   Nadeshiko, a high school student who had moved...   \n",
       "3263  The second of two theatrically released follow...   \n",
       "782   TV's original home-improvement show, following...   \n",
       "\n",
       "                                                tagline  \\\n",
       "2884                     Your deepest fear is spreading   \n",
       "2253                 The first casualty of war is truth   \n",
       "998                                                 NaN   \n",
       "3263  The fate of destruction is also the joy of reb...   \n",
       "782                                                 NaN   \n",
       "\n",
       "                                                 genres trailerUrl language  \\\n",
       "2884                                    Phim Chính Kịch        NaN       en   \n",
       "2253                  Phim Chính Kịch, Phim Chiến Tranh        NaN       en   \n",
       "998                            Phim Hoạt Hình, Phim Hài        NaN       en   \n",
       "3263  Phim Chính Kịch, Phim Khoa Học Viễn Tưởng, Phi...        NaN       en   \n",
       "782                                       Phim Tài Liệu        NaN       en   \n",
       "\n",
       "      is_adult  \n",
       "2884         1  \n",
       "2253         0  \n",
       "998          0  \n",
       "3263         0  \n",
       "782          0  "
      ]
     },
     "execution_count": 12,
     "metadata": {},
     "output_type": "execute_result"
    }
   ],
   "source": [
    "notnull_envi_movie_df.sample(5)"
   ]
  },
  {
   "cell_type": "markdown",
   "metadata": {},
   "source": [
    "Ngoài ngôn ngữ thì thông tin về ảnh cũng cung cấp những nhân chứng quan trọng để mô hình phân loại được giới hạn độ tuổi của bộ phim. Nhóm đã thực hiện việc lấy những poster của bộ phim và sau đó thực hiện nhiệm vụ chuyển từ ảnh qua histogram. Histogram này có 256 cột là giá trị màu từ 0-255, được đếm số lần xuất hiện giá trị màu trong ảnh. Sau đó để giảm chi phí tính toán của mô hình, histogram này sẽ được chuẩn hóa về dạng giá trị nằm trong khoảng (0, 1).\n",
    "\n",
    "Vì số lượng ảnh lớn cho nên việc xử lí sẽ gây tốn nhiều thời gian cho nên nhóm đã thực hiện xử lí trước là lưu lại tệp `poster_img_pixels.csv`\n",
    "\n",
    "Nội dung đoạn mã thực hiện nhiệm vụ trên như sau (nội dung đoạn mã trong tệp `img_preprocess.py`):\n",
    "\n",
    "```\n",
    "import matplotlib.image as mpimg\n",
    "import numpy as np\n",
    "import pandas as pd\n",
    "import csv\n",
    "import os\n",
    "from joblib import Parallel, delayed\n",
    "\n",
    "img_path = 'poster_final/'\n",
    "def parse_img(filename):\n",
    "    img = mpimg.imread(img_path + filename).reshape(-1)\n",
    "    hist_img, _ = np.histogram(img, bins=256)\n",
    "    return (filename, hist_img/len(img))\n",
    "\n",
    "imgs = Parallel(n_jobs=-1)(delayed(parse_img)(filename) for filename in os.listdir(img_path))\n",
    "with open('poster_img_pixels.csv', 'w') as img_file:\n",
    "    writer = csv.writer(img_file)\n",
    "    writer.writerow(['posterImagePath', 'imagePixels'])\n",
    "    for img in imgs:\n",
    "        writer.writerow(['poster_final/' + img[0], ' '.join(map(str, img[1]))])\n",
    "```"
   ]
  },
  {
   "cell_type": "code",
   "execution_count": 13,
   "metadata": {},
   "outputs": [
    {
     "name": "stdout",
     "output_type": "stream",
     "text": [
      "Dữ liệu có số dòng: 4526\n",
      "Dữ liệu có số cột: 2\n"
     ]
    },
    {
     "data": {
      "text/html": [
       "<div>\n",
       "<style scoped>\n",
       "    .dataframe tbody tr th:only-of-type {\n",
       "        vertical-align: middle;\n",
       "    }\n",
       "\n",
       "    .dataframe tbody tr th {\n",
       "        vertical-align: top;\n",
       "    }\n",
       "\n",
       "    .dataframe thead th {\n",
       "        text-align: right;\n",
       "    }\n",
       "</style>\n",
       "<table border=\"1\" class=\"dataframe\">\n",
       "  <thead>\n",
       "    <tr style=\"text-align: right;\">\n",
       "      <th></th>\n",
       "      <th>posterImagePath</th>\n",
       "      <th>imagePixels</th>\n",
       "    </tr>\n",
       "  </thead>\n",
       "  <tbody>\n",
       "    <tr>\n",
       "      <th>0</th>\n",
       "      <td>poster_final/762.jpg</td>\n",
       "      <td>0.012871604938271605 0.0022833333333333334 0.0...</td>\n",
       "    </tr>\n",
       "    <tr>\n",
       "      <th>1</th>\n",
       "      <td>poster_final/72305.jpg</td>\n",
       "      <td>0.020496296296296297 0.04708333333333333 0.008...</td>\n",
       "    </tr>\n",
       "    <tr>\n",
       "      <th>2</th>\n",
       "      <td>poster_final/106646.jpg</td>\n",
       "      <td>0.19893827160493827 0.08151296296296297 0.0430...</td>\n",
       "    </tr>\n",
       "    <tr>\n",
       "      <th>3</th>\n",
       "      <td>poster_final/13654.jpg</td>\n",
       "      <td>0.01280925925925926 0.005760493827160494 0.006...</td>\n",
       "    </tr>\n",
       "    <tr>\n",
       "      <th>4</th>\n",
       "      <td>poster_final/471707.jpg</td>\n",
       "      <td>0.0002154320987654321 0.00010925925925925926 0...</td>\n",
       "    </tr>\n",
       "  </tbody>\n",
       "</table>\n",
       "</div>"
      ],
      "text/plain": [
       "           posterImagePath                                        imagePixels\n",
       "0     poster_final/762.jpg  0.012871604938271605 0.0022833333333333334 0.0...\n",
       "1   poster_final/72305.jpg  0.020496296296296297 0.04708333333333333 0.008...\n",
       "2  poster_final/106646.jpg  0.19893827160493827 0.08151296296296297 0.0430...\n",
       "3   poster_final/13654.jpg  0.01280925925925926 0.005760493827160494 0.006...\n",
       "4  poster_final/471707.jpg  0.0002154320987654321 0.00010925925925925926 0..."
      ]
     },
     "execution_count": 13,
     "metadata": {},
     "output_type": "execute_result"
    }
   ],
   "source": [
    "img_pixels_df = pd.read_csv('poster_img_pixels.csv')\n",
    "n_row, n_col = img_pixels_df.shape\n",
    "print(\"Dữ liệu có số dòng:\", n_row)\n",
    "print(\"Dữ liệu có số cột:\", n_col)\n",
    "\n",
    "img_pixels_df.head(5)\n"
   ]
  },
  {
   "cell_type": "code",
   "execution_count": 14,
   "metadata": {},
   "outputs": [
    {
     "data": {
      "text/html": [
       "<div>\n",
       "<style scoped>\n",
       "    .dataframe tbody tr th:only-of-type {\n",
       "        vertical-align: middle;\n",
       "    }\n",
       "\n",
       "    .dataframe tbody tr th {\n",
       "        vertical-align: top;\n",
       "    }\n",
       "\n",
       "    .dataframe thead th {\n",
       "        text-align: right;\n",
       "    }\n",
       "</style>\n",
       "<table border=\"1\" class=\"dataframe\">\n",
       "  <thead>\n",
       "    <tr style=\"text-align: right;\">\n",
       "      <th></th>\n",
       "      <th>url</th>\n",
       "      <th>title</th>\n",
       "      <th>score</th>\n",
       "      <th>posterImagePath</th>\n",
       "      <th>certification</th>\n",
       "      <th>overview</th>\n",
       "      <th>tagline</th>\n",
       "      <th>genres</th>\n",
       "      <th>trailerUrl</th>\n",
       "      <th>language</th>\n",
       "      <th>is_adult</th>\n",
       "      <th>imagePixels</th>\n",
       "    </tr>\n",
       "  </thead>\n",
       "  <tbody>\n",
       "    <tr>\n",
       "      <th>0</th>\n",
       "      <td>https://www.themoviedb.org/tv/44217</td>\n",
       "      <td>Huyền Thoại Vikings\\n(2013)</td>\n",
       "      <td>79.0</td>\n",
       "      <td>poster_final/44217.jpg</td>\n",
       "      <td>14+</td>\n",
       "      <td>Người Viking đưa chúng ta đến thế giới tàn khố...</td>\n",
       "      <td>NaN</td>\n",
       "      <td>Action &amp; Adventure, Phim Chính Kịch</td>\n",
       "      <td>NaN</td>\n",
       "      <td>vi</td>\n",
       "      <td>0</td>\n",
       "      <td>0.012048765432098766 0.011246296296296296 0.01...</td>\n",
       "    </tr>\n",
       "    <tr>\n",
       "      <th>1</th>\n",
       "      <td>https://www.themoviedb.org/tv/44217</td>\n",
       "      <td>Huyền Thoại Vikings\\n(2013)</td>\n",
       "      <td>79.0</td>\n",
       "      <td>poster_final/44217.jpg</td>\n",
       "      <td>14+</td>\n",
       "      <td>Người Viking đưa chúng ta đến thế giới tàn khố...</td>\n",
       "      <td>NaN</td>\n",
       "      <td>Action &amp; Adventure, Phim Chính Kịch</td>\n",
       "      <td>NaN</td>\n",
       "      <td>vi</td>\n",
       "      <td>0</td>\n",
       "      <td>0.012048765432098766 0.011246296296296296 0.01...</td>\n",
       "    </tr>\n",
       "    <tr>\n",
       "      <th>2</th>\n",
       "      <td>https://www.themoviedb.org/tv/82856</td>\n",
       "      <td>The Mandalorian\\n(2019)</td>\n",
       "      <td>85.0</td>\n",
       "      <td>poster_final/82856.jpg</td>\n",
       "      <td>TV-14</td>\n",
       "      <td>After the fall of the Galactic Empire, lawless...</td>\n",
       "      <td>Bounty hunting is a complicated profession.</td>\n",
       "      <td>Sci-Fi &amp; Fantasy, Action &amp; Adventure</td>\n",
       "      <td>NaN</td>\n",
       "      <td>en</td>\n",
       "      <td>0</td>\n",
       "      <td>0.0006685185185185185 0.00035925925925925925 0...</td>\n",
       "    </tr>\n",
       "    <tr>\n",
       "      <th>3</th>\n",
       "      <td>https://www.themoviedb.org/tv/82856</td>\n",
       "      <td>The Mandalorian\\n(2019)</td>\n",
       "      <td>85.0</td>\n",
       "      <td>poster_final/82856.jpg</td>\n",
       "      <td>TV-14</td>\n",
       "      <td>After the fall of the Galactic Empire, lawless...</td>\n",
       "      <td>Bounty hunting is a complicated profession.</td>\n",
       "      <td>Sci-Fi &amp; Fantasy, Action &amp; Adventure</td>\n",
       "      <td>NaN</td>\n",
       "      <td>en</td>\n",
       "      <td>0</td>\n",
       "      <td>0.0006685185185185185 0.00035925925925925925 0...</td>\n",
       "    </tr>\n",
       "    <tr>\n",
       "      <th>4</th>\n",
       "      <td>https://www.themoviedb.org/tv/77169</td>\n",
       "      <td>Cobra Kai\\n(2018)</td>\n",
       "      <td>81.0</td>\n",
       "      <td>poster_final/77169.jpg</td>\n",
       "      <td>TV-14</td>\n",
       "      <td>This Karate Kid sequel series picks up 30 year...</td>\n",
       "      <td>Cobra Kai never dies.</td>\n",
       "      <td>Action &amp; Adventure, Phim Chính Kịch</td>\n",
       "      <td>NaN</td>\n",
       "      <td>en</td>\n",
       "      <td>0</td>\n",
       "      <td>0.020614814814814815 0.11640246913580247 0.036...</td>\n",
       "    </tr>\n",
       "  </tbody>\n",
       "</table>\n",
       "</div>"
      ],
      "text/plain": [
       "                                   url                        title  score  \\\n",
       "0  https://www.themoviedb.org/tv/44217  Huyền Thoại Vikings\\n(2013)   79.0   \n",
       "1  https://www.themoviedb.org/tv/44217  Huyền Thoại Vikings\\n(2013)   79.0   \n",
       "2  https://www.themoviedb.org/tv/82856      The Mandalorian\\n(2019)   85.0   \n",
       "3  https://www.themoviedb.org/tv/82856      The Mandalorian\\n(2019)   85.0   \n",
       "4  https://www.themoviedb.org/tv/77169            Cobra Kai\\n(2018)   81.0   \n",
       "\n",
       "          posterImagePath certification  \\\n",
       "0  poster_final/44217.jpg           14+   \n",
       "1  poster_final/44217.jpg           14+   \n",
       "2  poster_final/82856.jpg         TV-14   \n",
       "3  poster_final/82856.jpg         TV-14   \n",
       "4  poster_final/77169.jpg         TV-14   \n",
       "\n",
       "                                            overview  \\\n",
       "0  Người Viking đưa chúng ta đến thế giới tàn khố...   \n",
       "1  Người Viking đưa chúng ta đến thế giới tàn khố...   \n",
       "2  After the fall of the Galactic Empire, lawless...   \n",
       "3  After the fall of the Galactic Empire, lawless...   \n",
       "4  This Karate Kid sequel series picks up 30 year...   \n",
       "\n",
       "                                       tagline  \\\n",
       "0                                          NaN   \n",
       "1                                          NaN   \n",
       "2  Bounty hunting is a complicated profession.   \n",
       "3  Bounty hunting is a complicated profession.   \n",
       "4                        Cobra Kai never dies.   \n",
       "\n",
       "                                 genres trailerUrl language  is_adult  \\\n",
       "0   Action & Adventure, Phim Chính Kịch        NaN       vi         0   \n",
       "1   Action & Adventure, Phim Chính Kịch        NaN       vi         0   \n",
       "2  Sci-Fi & Fantasy, Action & Adventure        NaN       en         0   \n",
       "3  Sci-Fi & Fantasy, Action & Adventure        NaN       en         0   \n",
       "4   Action & Adventure, Phim Chính Kịch        NaN       en         0   \n",
       "\n",
       "                                         imagePixels  \n",
       "0  0.012048765432098766 0.011246296296296296 0.01...  \n",
       "1  0.012048765432098766 0.011246296296296296 0.01...  \n",
       "2  0.0006685185185185185 0.00035925925925925925 0...  \n",
       "3  0.0006685185185185185 0.00035925925925925925 0...  \n",
       "4  0.020614814814814815 0.11640246913580247 0.036...  "
      ]
     },
     "execution_count": 14,
     "metadata": {},
     "output_type": "execute_result"
    }
   ],
   "source": [
    "notnull_enviimg_movie_df = pd.merge(notnull_envi_movie_df, img_pixels_df, on='posterImagePath')\n",
    "notnull_enviimg_movie_df.head()"
   ]
  },
  {
   "cell_type": "markdown",
   "metadata": {},
   "source": [
    "### Tách các tập dữ liệu"
   ]
  },
  {
   "cell_type": "markdown",
   "metadata": {},
   "source": [
    "Vì hai ngôn ngữ `en` và `vi` có đặc điểm khác nhau, để tránh chiều dữ liệu quá lớn và làm giảm hiệu quả của mô hình phân loại, ta sẽ chia `en` và `vi` ra làm 2 tập dữ liệu riêng biệt. Đồng thời, do chỉ tập trung vào `overview` cho nên sẽ loại bỏ các cột khác chỉ giữ lại `overview` và `is_adult`"
   ]
  },
  {
   "cell_type": "code",
   "execution_count": 15,
   "metadata": {},
   "outputs": [
    {
     "data": {
      "text/plain": [
       "(2954, 1203)"
      ]
     },
     "execution_count": 15,
     "metadata": {},
     "output_type": "execute_result"
    }
   ],
   "source": [
    "en_movie_df = notnull_enviimg_movie_df[notnull_enviimg_movie_df.language == 'en'] \\\n",
    "                                                    [['overview', 'imagePixels', 'is_adult']]\n",
    "vi_movie_df = notnull_enviimg_movie_df[notnull_enviimg_movie_df.language == 'vi'] \\\n",
    "                                                    [['overview', 'imagePixels', 'is_adult']]\n",
    "\n",
    "len(en_movie_df), len(vi_movie_df)"
   ]
  },
  {
   "cell_type": "code",
   "execution_count": 16,
   "metadata": {},
   "outputs": [
    {
     "data": {
      "text/plain": [
       "0    2243\n",
       "1     711\n",
       "Name: is_adult, dtype: int64"
      ]
     },
     "execution_count": 16,
     "metadata": {},
     "output_type": "execute_result"
    }
   ],
   "source": [
    "# Phân bố lớp trên tập tiếng Anh\n",
    "en_movie_df.is_adult.value_counts()"
   ]
  },
  {
   "cell_type": "code",
   "execution_count": 17,
   "metadata": {},
   "outputs": [
    {
     "data": {
      "text/plain": [
       "0    784\n",
       "1    419\n",
       "Name: is_adult, dtype: int64"
      ]
     },
     "execution_count": 17,
     "metadata": {},
     "output_type": "execute_result"
    }
   ],
   "source": [
    "# Phân bố lớp trên tập tiếng Việt\n",
    "vi_movie_df.is_adult.value_counts()"
   ]
  },
  {
   "cell_type": "markdown",
   "metadata": {},
   "source": [
    "Thực hiện chia thành các tập train, valid, và test với tỉ lệ lần lượt là 70/15/15"
   ]
  },
  {
   "cell_type": "code",
   "execution_count": 18,
   "metadata": {},
   "outputs": [],
   "source": [
    "# Tách tập cho tiếng Việt\n",
    "vi_y_sr = vi_movie_df.is_adult\n",
    "vi_X_df = vi_movie_df.drop(columns=['is_adult'])\n",
    "\n",
    "vi_train_X, vi_tmp_X, vi_train_y, vi_tmp_y = train_test_split(vi_X_df, vi_y_sr, stratify=vi_y_sr, random_state=42, test_size=0.3)\n",
    "vi_valid_X, vi_test_X, vi_valid_y, vi_test_y = train_test_split(vi_tmp_X, vi_tmp_y, stratify=vi_tmp_y, random_state=42, test_size=0.15)\n"
   ]
  },
  {
   "cell_type": "code",
   "execution_count": 19,
   "metadata": {},
   "outputs": [
    {
     "data": {
      "text/plain": [
       "((842, 2), (842,))"
      ]
     },
     "execution_count": 19,
     "metadata": {},
     "output_type": "execute_result"
    }
   ],
   "source": [
    "vi_train_X.shape, vi_train_y.shape"
   ]
  },
  {
   "cell_type": "code",
   "execution_count": 20,
   "metadata": {},
   "outputs": [
    {
     "data": {
      "text/plain": [
       "((306, 2), (306,))"
      ]
     },
     "execution_count": 20,
     "metadata": {},
     "output_type": "execute_result"
    }
   ],
   "source": [
    "vi_valid_X.shape, vi_valid_y.shape"
   ]
  },
  {
   "cell_type": "code",
   "execution_count": 21,
   "metadata": {},
   "outputs": [
    {
     "data": {
      "text/plain": [
       "((55, 2), (55,))"
      ]
     },
     "execution_count": 21,
     "metadata": {},
     "output_type": "execute_result"
    }
   ],
   "source": [
    "vi_test_X.shape, vi_test_y.shape"
   ]
  },
  {
   "cell_type": "code",
   "execution_count": 22,
   "metadata": {},
   "outputs": [],
   "source": [
    "# Tách tập cho tiếng Anh\n",
    "en_y_sr = en_movie_df.is_adult\n",
    "en_X_df = en_movie_df.drop(columns=['is_adult'])\n",
    "\n",
    "en_train_X, en_tmp_X, en_train_y, en_tmp_y = train_test_split(en_X_df, en_y_sr, stratify=en_y_sr, random_state=42, test_size=0.3)\n",
    "en_valid_X, en_test_X, en_valid_y, en_test_y = train_test_split(en_tmp_X, en_tmp_y, stratify=en_tmp_y, random_state=42, test_size=0.5)"
   ]
  },
  {
   "cell_type": "code",
   "execution_count": 23,
   "metadata": {},
   "outputs": [
    {
     "data": {
      "text/plain": [
       "((2067, 2), (2067,))"
      ]
     },
     "execution_count": 23,
     "metadata": {},
     "output_type": "execute_result"
    }
   ],
   "source": [
    "en_train_X.shape, en_train_y.shape"
   ]
  },
  {
   "cell_type": "code",
   "execution_count": 24,
   "metadata": {},
   "outputs": [
    {
     "data": {
      "text/plain": [
       "((443, 2), (443,))"
      ]
     },
     "execution_count": 24,
     "metadata": {},
     "output_type": "execute_result"
    }
   ],
   "source": [
    "en_valid_X.shape, en_valid_y.shape"
   ]
  },
  {
   "cell_type": "code",
   "execution_count": 25,
   "metadata": {},
   "outputs": [
    {
     "data": {
      "text/plain": [
       "((444, 2), (444,))"
      ]
     },
     "execution_count": 25,
     "metadata": {},
     "output_type": "execute_result"
    }
   ],
   "source": [
    "en_test_X.shape, en_test_y.shape"
   ]
  },
  {
   "cell_type": "markdown",
   "metadata": {},
   "source": [
    "---"
   ]
  },
  {
   "cell_type": "markdown",
   "metadata": {},
   "source": [
    "## Khám phá dữ liệu - tập huấn luyện"
   ]
  },
  {
   "cell_type": "markdown",
   "metadata": {},
   "source": [
    "Kiểm tra xem liệu có những bộ phim nào bị trùng nội dung, điều này có thể là do bộ phim có nhiều phần hay nhiều tập riêng lẻ."
   ]
  },
  {
   "cell_type": "code",
   "execution_count": 26,
   "metadata": {},
   "outputs": [
    {
     "name": "stdout",
     "output_type": "stream",
     "text": [
      "Số lượng nội dung tóm tắt bị trùng: 294\n",
      "3 nội dung tóm tắt trùng nhiều nhất:\n",
      "We don't have an overview translated in English. Help us expand our database by adding one.                                                                                                66\n",
      "A tough, brilliant senior resident guides an idealistic young doctor through his first day, pulling back the curtain on what really happens, both good and bad, in modern-day medicine.     2\n",
      "Closet witch Teresa Palmer and centuries-old vampire Matthew Goode are drawn into a deadly mystery and forbidden romance when a magical book shows up in an Oxford library.                 2\n",
      "Name: overview, dtype: int64\n"
     ]
    }
   ],
   "source": [
    "en_overview_dup = en_train_X.duplicated(['overview'])\n",
    "print(\"Số lượng nội dung tóm tắt bị trùng:\", en_overview_dup.sum())\n",
    "\n",
    "print(\"3 nội dung tóm tắt trùng nhiều nhất:\")\n",
    "print(en_train_X[en_overview_dup].overview.value_counts()[:3])\n",
    "    "
   ]
  },
  {
   "cell_type": "markdown",
   "metadata": {},
   "source": [
    "Như quan sát, có tương đối bộ phim có cùng nội dung là `We don't have an overview translated in English. Help us expand our database by adding one.`, tức là những bộ phim này không có nội dung tóm tắt. Việc đưa vào mô hình huấn luyện những nội dung này sẽ làm giảm khả năng chính xác của mô hình vì nó không đem lại ý nghĩa về mặt phân loại."
   ]
  },
  {
   "cell_type": "code",
   "execution_count": 27,
   "metadata": {},
   "outputs": [
    {
     "data": {
      "text/plain": [
       "(302,\n",
       " [(',', 6255),\n",
       "  ('the', 5585),\n",
       "  ('.', 4617),\n",
       "  ('a', 3535),\n",
       "  ('and', 3480),\n",
       "  ('of', 3136),\n",
       "  ('to', 2966),\n",
       "  ('in', 1928),\n",
       "  ('is', 1367),\n",
       "  ('his', 1335),\n",
       "  ('with', 939),\n",
       "  ('her', 824),\n",
       "  (\"'s\", 776),\n",
       "  ('on', 774),\n",
       "  ('an', 737),\n",
       "  ('as', 713),\n",
       "  ('by', 700),\n",
       "  ('their', 694),\n",
       "  ('for', 680),\n",
       "  ('that', 662)])"
      ]
     },
     "execution_count": 27,
     "metadata": {},
     "output_type": "execute_result"
    }
   ],
   "source": [
    "word_dict = Counter()\n",
    "max_leng = -1\n",
    "for words in en_train_X.overview.apply(lambda s: word_tokenize(s)):\n",
    "    word_dict.update(words)\n",
    "    max_leng = max(max_leng, len(words))\n",
    "\n",
    "max_leng, word_dict.most_common(20)"
   ]
  },
  {
   "cell_type": "code",
   "execution_count": 28,
   "metadata": {},
   "outputs": [
    {
     "name": "stdout",
     "output_type": "stream",
     "text": [
      "Số lượng nội dung tóm tắt bị trùng: 115\n",
      "3 nội dung tóm tắt trùng nhiều nhất:\n",
      "Ở thế giới nơi đủ loại động vật cùng tồn tại, chú sói hiền lành nhận thức được bản năng săn mồi của mình khi ngôi trường của chú ứng phó với một kẻ sát nhân đang ẩn náu.                                                                                                                                                                                                                                                                                                                                                                                                                                                                                                   2\n",
      "Phim Đảo Hải Tặc - One Piece là chuyện về cậu bé Monkey D. Luffy do ăn nhầm Trái Ác Quỷ, bị biến thành người cao su và sẽ không bao giờ biết bơi. 10 năm sau sự việc đó, cậu rời quê mình và kiếm đủ 10 thành viên để thành một băng hải tặc, biệt hiệu Hải tặc Mũ Rơm.Khi đó của phiêu lưu tìm kiếm kho báu One Piece bắt đầu. Trong cuộc phiêu lưu tìm kiếm One Piece, băng Hải tặc mũ rơm phải chiến đấu với nhiều băng hải tặc xấu khác cũng muốn độc chiếm One Piece và Hải quân của Chính phủ muốn diệt trừ hải tặc. Băng Hải tặc Mũ Rơm phải trải qua biết bao nhiêu khó khăn, không lùi bước với ước mơ \"Trở thành Vua Hải Tặc và chiếm được kho báu One Piece\".    2\n",
      "Monster Hunter được chuyển thể từ series game nổi tiếng cùng tên của Capcom. Trong phim, đội trưởng Artemis của nữ diễn viên Milla Jovovich (Resident Evil) và đồng đội đã vô tình bước qua một cánh cửa bí ẩn dẫn tới thế giới khác. Tại đây, họ phải chiến đấu với nhiều loài quái vật khổng lồ trong hành trình trở về thế giới. Đồng hành với họ trong trận chiến là nhân vật “Thợ săn” của nam diễn viên Tony Jaa (Ong Bak). Monster Hunter hứa hẹn sẽ là bom tấn hành động với những màn săn quái vật khổng lồ hoành tráng nhất năm 2020.                                                                                                                             2\n",
      "Name: overview, dtype: int64\n"
     ]
    }
   ],
   "source": [
    "vi_overview_dup = vi_train_X.duplicated(['overview'])\n",
    "print(\"Số lượng nội dung tóm tắt bị trùng:\", vi_overview_dup.sum())\n",
    "\n",
    "print(\"3 nội dung tóm tắt trùng nhiều nhất:\")\n",
    "print(vi_train_X[vi_overview_dup].overview.value_counts()[:3])\n",
    "    "
   ]
  },
  {
   "cell_type": "markdown",
   "metadata": {},
   "source": [
    "Nhìn chung thì dữ liệu tiếng Việt ít dữ liệu trùng hơn, có thể không có bộ phim mà không có nội dung tóm tắt cho nên ở bước tiền xử lí không cần phải xử lí trường hợp này."
   ]
  },
  {
   "cell_type": "markdown",
   "metadata": {},
   "source": [
    "Vì đặc điểm của tiếng Việt hơi khác so với tiếng Anh. Trong tiếng Anh mỗi token sẽ ngăn cách nhau bởi những khoảng trắng.\n",
    "Tuy nhiên, đối với tiếng Việt thì có chút khác biệt. Ví dụ trong tiếng Việt từ `hạnh` và `phúc` nếu đi riêng lẻ sẽ mang ý nghĩa khác với khi đi chung `hạnh_phúc`. Trong khi đó tiếng Anh chỉ là `happy`"
   ]
  },
  {
   "cell_type": "code",
   "execution_count": 29,
   "metadata": {},
   "outputs": [
    {
     "data": {
      "text/plain": [
       "(203,\n",
       " [(',', 3258),\n",
       "  ('.', 2757),\n",
       "  ('của', 1753),\n",
       "  ('một', 1593),\n",
       "  ('và', 1466),\n",
       "  ('là', 981),\n",
       "  ('người', 805),\n",
       "  ('những', 778),\n",
       "  ('được', 706),\n",
       "  ('với', 659),\n",
       "  ('trong', 650),\n",
       "  ('đã', 620),\n",
       "  ('có', 524),\n",
       "  ('khi', 470),\n",
       "  ('để', 460),\n",
       "  ('phim', 446),\n",
       "  ('về', 442),\n",
       "  (')', 429),\n",
       "  ('(', 426),\n",
       "  ('bị', 407)])"
      ]
     },
     "execution_count": 29,
     "metadata": {},
     "output_type": "execute_result"
    }
   ],
   "source": [
    "word_dict = Counter()\n",
    "max_leng = -1\n",
    "for words in vi_train_X.overview.apply(lambda s: ViTokenizer.tokenize(s).split()):\n",
    "    word_dict.update(words)\n",
    "    max_leng = max(max_leng, len(words))\n",
    "\n",
    "max_leng, word_dict.most_common(20)"
   ]
  },
  {
   "cell_type": "markdown",
   "metadata": {},
   "source": [
    "Ở cả 2 ngôn ngữ thì số lượng những từ và kí tự chiếm nhiều nhất là dấu câu (punctuation) và stopwords, để tránh những từ và kí tự không có ý nghĩa cho phân loại bài toán này ảnh hưởng lên hiệu suất phân loại, những từ và kí tự này sẽ được loại bỏ ở bước tiền xử lí."
   ]
  },
  {
   "cell_type": "markdown",
   "metadata": {},
   "source": [
    "## Tiền xử lí"
   ]
  },
  {
   "cell_type": "markdown",
   "metadata": {},
   "source": [
    "Đầu tiên sẽ loại bỏ những mẫu có cùng nội dung tóm tắt trong tiếng Anh"
   ]
  },
  {
   "cell_type": "code",
   "execution_count": 30,
   "metadata": {},
   "outputs": [],
   "source": [
    "# Remove duplicate\n",
    "most_duplicate = \"We don't have an overview translated in English. Help us expand our database by adding one.\"\n",
    "en_train_y = en_train_y[en_train_X.overview != most_duplicate]\n",
    "en_train_X = en_train_X[en_train_X.overview != most_duplicate]\n",
    "\n",
    "assert len(en_train_X) == len(en_train_y)"
   ]
  },
  {
   "cell_type": "markdown",
   "metadata": {},
   "source": [
    "Quá trình tiền xử lí nội dung của hai ngôn ngữ khá tương đồng, bao gồm loại bỏ dấu câu, chuẩn hóa in thường.\n",
    "Điều khác biệt của xử lí hai ngôn ngữ như sau:\n",
    "- Đối với tiếng Anh, việc đầu tiên là sẽ tách nội dung tóm tắt thành các token bằng hàm `word_tokenize`. Sau đó, để giảm không gian từ điển thì sẽ qua một bước xử lí `stemming` để đưa những từ giống nhau về tiền tố hay nói cách khác là có chung nguồn gốc. Ví dụ: playing, plays, played sẽ được đưa về play.\n",
    "- Đối với tiếng Việt, sử dụng đối tượng `ViTokenizer` để `tokenize` nội dung tóm tắt thành những token"
   ]
  },
  {
   "cell_type": "code",
   "execution_count": 31,
   "metadata": {},
   "outputs": [],
   "source": [
    "class FeatureTransformer(BaseEstimator, TransformerMixin):\n",
    "    def __init__(self, lang='en'):\n",
    "        self.stemmer = PorterStemmer()    # Initialize stemming object\n",
    "        self.lang = lang\n",
    "        with open('resources/en_stopwords.txt', 'r') as en_file: \n",
    "            self.en_stopwords = [line.strip() for line in en_file]\n",
    "        with open('resources/vi_stopwords.txt', 'r') as vi_file: \n",
    "            self.vi_stopwords = [line.strip() for line in vi_file]\n",
    "    \n",
    "    def fit(self, X, y=None):\n",
    "        return self\n",
    "    \n",
    "    def transform(self, X, y=None, lang=None):\n",
    "        transformed_X = X.apply(lambda s: re.sub(f'[{string.punctuation}]', ' ', s.lower()))    # remove punctuation\n",
    "        if lang is None:\n",
    "            lang = self.lang\n",
    "        if lang == 'en':\n",
    "            # remove stopword, stemming and tokenize English sentences\n",
    "            transformed_X = transformed_X.apply(lambda s: [self.stemmer.stem(word) for word in word_tokenize(s) \n",
    "                                                           if word not in self.en_stopwords])\n",
    "        elif lang == 'vi':\n",
    "            # remove stopword and tokenize Vietnamese sentences\n",
    "            transformed_X = transformed_X.apply(lambda s: [word for word in ViTokenizer.tokenize(s).split() \n",
    "                                                           if word not in self.vi_stopwords])\n",
    "        else:\n",
    "            raise Exception('we only support `en` and `vi` language')\n",
    "        \n",
    "        return transformed_X"
   ]
  },
  {
   "cell_type": "code",
   "execution_count": 32,
   "metadata": {},
   "outputs": [],
   "source": [
    "transformer = FeatureTransformer()\n",
    "transformed_en_train_X = transformer.transform(en_train_X.overview, lang='en')\n",
    "transformed_vi_train_X = transformer.transform(vi_train_X.overview, lang='vi')"
   ]
  },
  {
   "cell_type": "markdown",
   "metadata": {},
   "source": [
    "## Tiền xử lí - tập validation"
   ]
  },
  {
   "cell_type": "markdown",
   "metadata": {},
   "source": [
    "Thực hiện tiền xử lí trên tập valid tương tự với tập huấn luyện"
   ]
  },
  {
   "cell_type": "code",
   "execution_count": 33,
   "metadata": {},
   "outputs": [],
   "source": [
    "transformed_en_valid_X = transformer.transform(en_valid_X.overview, lang='en')\n",
    "transformed_vi_valid_X = transformer.transform(vi_valid_X.overview, lang='vi')"
   ]
  },
  {
   "cell_type": "markdown",
   "metadata": {},
   "source": [
    "---"
   ]
  },
  {
   "cell_type": "markdown",
   "metadata": {},
   "source": [
    "Đối với mô hình xử lí ảnh, vì ảnh không biệt biệt giữa tiếng Anh và tiếng Việt cho nên các tập huấn luyện, valid và tập test sẽ được hợp thành bởi dữ liệu của 2 bản tiếng Anh và tiếng Việt đã chia ở phía trên."
   ]
  },
  {
   "cell_type": "code",
   "execution_count": 34,
   "metadata": {},
   "outputs": [],
   "source": [
    "train_data = notnull_enviimg_movie_df.iloc[[*en_train_X.index, *vi_train_X.index]][['imagePixels', 'is_adult']]\n",
    "valid_data = notnull_enviimg_movie_df.iloc[[*en_valid_X.index, *vi_valid_X.index]][['imagePixels', 'is_adult']]\n",
    "test_data = notnull_enviimg_movie_df.iloc[[*en_test_X.index, *vi_test_X.index]][['imagePixels', 'is_adult']]\n"
   ]
  },
  {
   "cell_type": "markdown",
   "metadata": {},
   "source": [
    "---"
   ]
  },
  {
   "cell_type": "markdown",
   "metadata": {},
   "source": [
    "## Mô hình hóa dữ liệu"
   ]
  },
  {
   "cell_type": "markdown",
   "metadata": {},
   "source": [
    "Xây dựng và huấn luyện mô hình ngôn ngữ. `LogisticRegression` là mô hình thích hợp cho bái toán binary classification. Vậy nên mô hình này sẽ được sử dụng cho bài toán phân loại nội dung tóm tắt này.\n",
    "\n",
    "_Nhóm đã thử nghiệm các mô hình MLPClassifier và RandomForestClassifier, tuy nhiên hiệu suất đem lại không quá khác biệt so với mô hình LogisticRegression nhưng thời gian để huấn luyện khá lâu, để tiết kiệm thời gian chạy thì nhóm sẽ không liệt kê thử nghiệm 2 mô hình này_"
   ]
  },
  {
   "cell_type": "markdown",
   "metadata": {},
   "source": [
    "### Mô hình ngôn ngữ"
   ]
  },
  {
   "cell_type": "markdown",
   "metadata": {},
   "source": [
    "#### Mô hình phân loại cho tiếng Anh"
   ]
  },
  {
   "cell_type": "code",
   "execution_count": 35,
   "metadata": {},
   "outputs": [
    {
     "name": "stdout",
     "output_type": "stream",
     "text": [
      "Độ chính xác tập train: 77.64999999999999\n",
      "Độ chính xác tập valid: 76.74943566591422\n"
     ]
    }
   ],
   "source": [
    "# both preprocess and classifier\n",
    "en_full_pipeline = Pipeline([\n",
    "    ('preprocess', FeatureTransformer(lang='en')),\n",
    "    ('vectorize', TfidfVectorizer(tokenizer=lambda text: text, lowercase=False, token_pattern=None)),\n",
    "    ('clf', LogisticRegression(C=1, solver='lbfgs', random_state=42, max_iter=1000))\n",
    "])\n",
    "\n",
    "# classifier pipeline\n",
    "en_clf_pipeline = Pipeline([\n",
    "    ('vectorize', TfidfVectorizer(tokenizer=lambda text: text, lowercase=False, token_pattern=None)),\n",
    "    ('clf', LogisticRegression(C=1, solver='lbfgs', random_state=42, max_iter=1000))\n",
    "])\n",
    "\n",
    "# Train\n",
    "en_clf_pipeline.fit(transformed_en_train_X, en_train_y)\n",
    "\n",
    "# Độ chính xác trên tập train\n",
    "train_pred = en_clf_pipeline.predict(transformed_en_train_X)\n",
    "train_acc = np.mean(train_pred == en_train_y)*100\n",
    "print(\"Độ chính xác tập train:\", train_acc)\n",
    "\n",
    "# Độ chính xác trên tập valid\n",
    "valid_pred = en_clf_pipeline.predict(transformed_en_valid_X)\n",
    "valid_acc = np.mean(valid_pred == en_valid_y)*100\n",
    "print(\"Độ chính xác tập valid:\", valid_acc)"
   ]
  },
  {
   "cell_type": "markdown",
   "metadata": {},
   "source": [
    "#### Mô hình phân loại cho tiếng Việt"
   ]
  },
  {
   "cell_type": "code",
   "execution_count": 36,
   "metadata": {
    "scrolled": true
   },
   "outputs": [
    {
     "name": "stdout",
     "output_type": "stream",
     "text": [
      "Độ chính xác tập train: 84.44180522565321\n",
      "Độ chính xác tập valid: 69.6078431372549\n"
     ]
    }
   ],
   "source": [
    "# both preprocess and classifier\n",
    "vi_full_pipeline = Pipeline([\n",
    "    ('preprocess', FeatureTransformer(lang='vi')),\n",
    "    ('vectorize', TfidfVectorizer(tokenizer=lambda text: text, lowercase=False, token_pattern=None)),\n",
    "    ('clf', LogisticRegression(C=1, solver='lbfgs', random_state=42, max_iter=1000))\n",
    "])\n",
    "\n",
    "# classifier pipeline\n",
    "vi_clf_pipeline = Pipeline([\n",
    "    ('vectorize', TfidfVectorizer(tokenizer=lambda text: text, lowercase=False, token_pattern=None)),\n",
    "    ('clf', LogisticRegression(C=1, solver='lbfgs', random_state=42, max_iter=1000))\n",
    "])\n",
    "\n",
    "# Train\n",
    "vi_clf_pipeline.fit(transformed_vi_train_X, vi_train_y)\n",
    "\n",
    "# Độ chính xác trên tập train\n",
    "train_pred = vi_clf_pipeline.predict(transformed_vi_train_X)\n",
    "train_acc = np.mean(train_pred == vi_train_y)*100\n",
    "print(\"Độ chính xác tập train:\", train_acc)\n",
    "\n",
    "# Độ chính xác trên tập valid\n",
    "valid_pred = vi_clf_pipeline.predict(transformed_vi_valid_X)\n",
    "valid_acc = np.mean(valid_pred == vi_valid_y)*100\n",
    "print(\"Độ chính xác tập valid:\", valid_acc)"
   ]
  },
  {
   "cell_type": "markdown",
   "metadata": {},
   "source": [
    "### Hyperparameter tuning"
   ]
  },
  {
   "cell_type": "markdown",
   "metadata": {},
   "source": [
    "Các thông số có thể được điều chỉnh để nâng hiệu suất của mô hình bao gồm:\n",
    "- `ngram_range`: là thông số của `TfidfVectorizer` thể hiện chuỗi token liên tiếp nhau. Ví dụ: đối với từ \"hạnh phúc\" khi ngram = 1 thì chuỗi sẽ là ['hạnh', 'phúc'], ngram = 2 thì chuỗi sẽ là ['hạnh phúc']\n",
    "- `max_df`: là thông số của `TfidfVectorizer`. Nếu một token có tần suất xuất hiện vượt qua ngưỡng này thì sẽ bị loại bỏ khỏi từ điển.\n",
    "- `C`: là thông số của `Logistic Regression`. Là hệ số được áp dụng để phạt giá trị của các tham số nhằm tránh overfitting."
   ]
  },
  {
   "cell_type": "code",
   "execution_count": 37,
   "metadata": {},
   "outputs": [],
   "source": [
    "# Thiết lập các siêu tham số\n",
    "ngram_ranges = [(1, 1), (1, 2)]\n",
    "max_ds = [0.8, 0.9, 1.0]\n",
    "C_param = [0.1, 1, 5, 7, 10, 100, 1000]"
   ]
  },
  {
   "cell_type": "markdown",
   "metadata": {},
   "source": [
    "#### Tìm mô hình tốt nhất cho tiếng Anh"
   ]
  },
  {
   "cell_type": "code",
   "execution_count": 38,
   "metadata": {},
   "outputs": [],
   "source": [
    "en_best_val_acc = 0\n",
    "en_best_C = None; \n",
    "en_best_ngram = None\n",
    "en_best_maxdf = None\n",
    "en_train_accs = []\n",
    "en_valid_accs = []\n",
    "\n",
    "# brute-force search\n",
    "for ngram_range in ngram_ranges:\n",
    "    for max_d in max_ds:\n",
    "        for C in C_param:\n",
    "            en_clf_pipeline.set_params(vectorize__ngram_range=ngram_range, vectorize__max_df=max_d, clf__C=C)\n",
    "            en_clf_pipeline.fit(transformed_en_train_X, en_train_y)\n",
    "            \n",
    "            # Tính độ chính xác trên tập train\n",
    "            train_pred = en_clf_pipeline.predict(transformed_en_train_X)\n",
    "            train_acc = np.mean(train_pred == en_train_y) * 100\n",
    "            en_train_accs.append(train_acc)\n",
    "            \n",
    "            # Tính độ chính xác trên tập valid\n",
    "            val_pred = en_clf_pipeline.predict(transformed_en_valid_X)\n",
    "            valid_acc = np.mean(val_pred == en_valid_y) * 100\n",
    "            en_valid_accs.append(valid_acc)\n",
    "            \n",
    "            # Tìm siêu tham số tốt nhất\n",
    "            if en_best_val_acc < valid_acc:\n",
    "                en_best_val_acc = valid_acc\n",
    "                en_best_C = C\n",
    "                en_best_ngram = ngram_range\n",
    "                en_best_maxdf = max_d"
   ]
  },
  {
   "cell_type": "code",
   "execution_count": 39,
   "metadata": {},
   "outputs": [
    {
     "data": {
      "text/plain": [
       "(100, (1, 2), 0.8)"
      ]
     },
     "execution_count": 39,
     "metadata": {},
     "output_type": "execute_result"
    }
   ],
   "source": [
    "en_best_C, en_best_ngram, en_best_maxdf"
   ]
  },
  {
   "cell_type": "code",
   "execution_count": 40,
   "metadata": {},
   "outputs": [
    {
     "data": {
      "text/plain": [
       "Text(570.5454545454544, 0.5, 'max_ds')"
      ]
     },
     "execution_count": 40,
     "metadata": {},
     "output_type": "execute_result"
    },
    {
     "data": {
      "image/png": "[encoded data removed]",
      "text/plain": [
       "<Figure size 1080x576 with 4 Axes>"
      ]
     },
     "metadata": {
      "needs_background": "light"
     },
     "output_type": "display_data"
    }
   ],
   "source": [
    "# Trực quan hóa kết quả\n",
    "train_acc_11_df = pd.DataFrame(data=np.array(en_train_accs[:21]).reshape(len(max_ds), -1),\n",
    "                             index=max_ds, columns=C_param)\n",
    "train_acc_12_df = pd.DataFrame(data=np.array(en_train_accs[21:]).reshape(len(max_ds), -1), \n",
    "                           index=max_ds, columns=C_param)\n",
    "valid_acc_11_df = pd.DataFrame(data=np.array(en_valid_accs[:21]).reshape(len(max_ds), -1),\n",
    "                             index=max_ds, columns=C_param)\n",
    "valid_acc_12_df = pd.DataFrame(data=np.array(en_valid_accs[21:]).reshape(len(max_ds), -1), \n",
    "                           index=max_ds, columns=C_param)\n",
    "min_acc = min(min(en_train_accs), min(en_valid_accs))\n",
    "max_acc = max(max(en_train_accs), max(en_valid_accs))\n",
    "plt.figure(figsize=(15, 8))\n",
    "plt.subplot(2, 2, 1)\n",
    "sns.heatmap(train_acc_11_df, vmin=min_acc, vmax=max_acc, square=True, annot=True, \n",
    "            cbar=False, fmt='.1f', cmap='Reds')\n",
    "plt.title('Train accuracy (ngram=(1, 1))'); plt.xlabel('C'); plt.ylabel('max_ds')\n",
    "plt.subplot(2, 2, 2)\n",
    "sns.heatmap(valid_acc_11_df, vmin=min_acc, vmax=max_acc, square=True, annot=True, \n",
    "            cbar=False, fmt='.1f', cmap='Reds')\n",
    "plt.title('Valid accuracy (ngram=(1, 1))'); plt.xlabel('C'); plt.ylabel('max_ds')\n",
    "\n",
    "plt.subplot(2, 2, 3)\n",
    "sns.heatmap(train_acc_12_df, vmin=min_acc, vmax=max_acc, square=True, annot=True, \n",
    "            cbar=False, fmt='.1f', cmap='Reds')\n",
    "plt.title('Train accuracy (ngram=(1, 2))'); plt.xlabel('C'); plt.ylabel('max_ds')\n",
    "plt.subplot(2, 2, 4)\n",
    "sns.heatmap(valid_acc_12_df, vmin=min_acc, vmax=max_acc, square=True, annot=True, \n",
    "            cbar=False, fmt='.1f', cmap='Reds')\n",
    "plt.title('Valid accuracy (ngram=(1, 2))'); plt.xlabel('C'); plt.ylabel('max_ds')"
   ]
  },
  {
   "cell_type": "markdown",
   "metadata": {},
   "source": [
    "#### Tìm mô hình tốt nhất cho tiếng Việt"
   ]
  },
  {
   "cell_type": "code",
   "execution_count": 41,
   "metadata": {},
   "outputs": [],
   "source": [
    "vi_best_val_acc = 0\n",
    "vi_best_C = None; \n",
    "vi_best_ngram = None\n",
    "vi_best_maxdf = None\n",
    "vi_train_accs = []\n",
    "vi_valid_accs = []\n",
    "\n",
    "# brute-force search\n",
    "for ngram_range in ngram_ranges:\n",
    "    for max_d in max_ds:\n",
    "        for C in C_param:\n",
    "            vi_clf_pipeline.set_params(vectorize__ngram_range=ngram_range, vectorize__max_df=max_d, clf__C=C)\n",
    "            vi_clf_pipeline.fit(transformed_vi_train_X, vi_train_y)\n",
    "            \n",
    "            # Tính độ chính xác trên tập train\n",
    "            train_pred = vi_clf_pipeline.predict(transformed_vi_train_X)\n",
    "            train_acc = np.mean(train_pred == vi_train_y) * 100\n",
    "            vi_train_accs.append(train_acc)\n",
    "            \n",
    "            # Tính độ chính xác trên tập valid\n",
    "            val_pred = vi_clf_pipeline.predict(transformed_vi_valid_X)\n",
    "            valid_acc = np.mean(val_pred == vi_valid_y) * 100\n",
    "            vi_valid_accs.append(valid_acc)\n",
    "            \n",
    "            # Tìm siêu tham số tốt nhất\n",
    "            if vi_best_val_acc < valid_acc:\n",
    "                vi_best_val_acc = valid_acc\n",
    "                vi_best_C = C\n",
    "                vi_best_ngram = ngram_range\n",
    "                vi_best_maxdf = max_d"
   ]
  },
  {
   "cell_type": "code",
   "execution_count": 42,
   "metadata": {},
   "outputs": [
    {
     "data": {
      "text/plain": [
       "(100, (1, 2), 0.8)"
      ]
     },
     "execution_count": 42,
     "metadata": {},
     "output_type": "execute_result"
    }
   ],
   "source": [
    "vi_best_C, vi_best_ngram, vi_best_maxdf"
   ]
  },
  {
   "cell_type": "code",
   "execution_count": 43,
   "metadata": {},
   "outputs": [
    {
     "data": {
      "text/plain": [
       "Text(570.5454545454544, 0.5, 'max_ds')"
      ]
     },
     "execution_count": 43,
     "metadata": {},
     "output_type": "execute_result"
    },
    {
     "data": {
      "image/png": "[encoded data removed]",
      "text/plain": [
       "<Figure size 1080x576 with 4 Axes>"
      ]
     },
     "metadata": {
      "needs_background": "light"
     },
     "output_type": "display_data"
    }
   ],
   "source": [
    "# Trực quan hóa kết quả\n",
    "train_acc_11_df = pd.DataFrame(data=np.array(vi_train_accs[:21]).reshape(len(max_ds), -1),\n",
    "                             index=max_ds, columns=C_param)\n",
    "train_acc_12_df = pd.DataFrame(data=np.array(vi_train_accs[21:]).reshape(len(max_ds), -1), \n",
    "                           index=max_ds, columns=C_param)\n",
    "valid_acc_11_df = pd.DataFrame(data=np.array(vi_valid_accs[:21]).reshape(len(max_ds), -1),\n",
    "                             index=max_ds, columns=C_param)\n",
    "valid_acc_12_df = pd.DataFrame(data=np.array(vi_valid_accs[21:]).reshape(len(max_ds), -1), \n",
    "                           index=max_ds, columns=C_param)\n",
    "min_acc = min(min(en_train_accs), min(en_valid_accs))\n",
    "max_acc = max(max(en_train_accs), max(en_valid_accs))\n",
    "plt.figure(figsize=(15, 8))\n",
    "plt.subplot(2, 2, 1)\n",
    "sns.heatmap(train_acc_11_df, vmin=min_acc, vmax=max_acc, square=True, annot=True, \n",
    "            cbar=False, fmt='.1f', cmap='Reds')\n",
    "plt.title('Train accuracy (ngram=(1, 1))'); plt.xlabel('C'); plt.ylabel('max_ds')\n",
    "plt.subplot(2, 2, 2)\n",
    "sns.heatmap(valid_acc_11_df, vmin=min_acc, vmax=max_acc, square=True, annot=True, \n",
    "            cbar=False, fmt='.1f', cmap='Reds')\n",
    "plt.title('Valid accuracy (ngram=(1, 1))'); plt.xlabel('C'); plt.ylabel('max_ds')\n",
    "\n",
    "plt.subplot(2, 2, 3)\n",
    "sns.heatmap(train_acc_12_df, vmin=min_acc, vmax=max_acc, square=True, annot=True, \n",
    "            cbar=False, fmt='.1f', cmap='Reds')\n",
    "plt.title('Train accuracy (ngram=(1, 2))'); plt.xlabel('C'); plt.ylabel('max_ds')\n",
    "plt.subplot(2, 2, 4)\n",
    "sns.heatmap(valid_acc_12_df, vmin=min_acc, vmax=max_acc, square=True, annot=True, \n",
    "            cbar=False, fmt='.1f', cmap='Reds')\n",
    "plt.title('Valid accuracy (ngram=(1, 2))'); plt.xlabel('C'); plt.ylabel('max_ds')"
   ]
  },
  {
   "cell_type": "markdown",
   "metadata": {},
   "source": [
    "### Đánh giá mô hình"
   ]
  },
  {
   "cell_type": "markdown",
   "metadata": {},
   "source": [
    "Đánh giá mô hình trên tập test."
   ]
  },
  {
   "cell_type": "markdown",
   "metadata": {},
   "source": [
    "#### Hiệu suất mô hình tiếng Anh"
   ]
  },
  {
   "cell_type": "code",
   "execution_count": 44,
   "metadata": {},
   "outputs": [
    {
     "name": "stdout",
     "output_type": "stream",
     "text": [
      "Test Accuracy: 81.76\n"
     ]
    }
   ],
   "source": [
    "# Huấn luyện lại toàn bộ mô hình trên siêu tham số mới\n",
    "en_full_pipeline.set_params(vectorize__ngram_range=en_best_ngram, vectorize__max_df=en_best_maxdf, clf__C=en_best_C)\n",
    "en_full_pipeline.fit(en_train_X.overview, en_train_y)\n",
    "\n",
    "test_pred = en_full_pipeline.predict(en_test_X.overview)\n",
    "test_acc = np.mean(test_pred == en_test_y)*100\n",
    "print(\"Test Accuracy: %.2f\" % test_acc)"
   ]
  },
  {
   "cell_type": "markdown",
   "metadata": {},
   "source": [
    "#### Hiệu suất mô hình tiếng Việt"
   ]
  },
  {
   "cell_type": "code",
   "execution_count": 45,
   "metadata": {},
   "outputs": [
    {
     "name": "stdout",
     "output_type": "stream",
     "text": [
      "Test Accuracy: 69.09\n"
     ]
    }
   ],
   "source": [
    "# Huấn luyện lại toàn bộ mô hình trên siêu tham số mới\n",
    "vi_full_pipeline.set_params(vectorize__ngram_range=vi_best_ngram, vectorize__max_df=vi_best_maxdf, clf__C=vi_best_C)\n",
    "vi_full_pipeline.fit(vi_train_X.overview, vi_train_y)\n",
    "\n",
    "test_pred = vi_full_pipeline.predict(vi_test_X.overview)\n",
    "test_acc = np.mean(test_pred == vi_test_y)*100\n",
    "print(\"Test Accuracy: %.2f\" % test_acc)"
   ]
  },
  {
   "cell_type": "markdown",
   "metadata": {},
   "source": [
    "### Mô hình xử lí ảnh"
   ]
  },
  {
   "cell_type": "markdown",
   "metadata": {},
   "source": [
    "Vì ảnh đã được chuyển sang dạng histogram nên không có quá nhiều kĩ thuật tiền xử lí."
   ]
  },
  {
   "cell_type": "markdown",
   "metadata": {},
   "source": [
    "#### Tiền xử lí"
   ]
  },
  {
   "cell_type": "code",
   "execution_count": 46,
   "metadata": {},
   "outputs": [],
   "source": [
    "class ImageParser(BaseEstimator, TransformerMixin):\n",
    "    def __init__(self):\n",
    "        pass\n",
    "    \n",
    "    def fit(self, X, y=None):\n",
    "        return self\n",
    "    \n",
    "    def transform(self, X, y=None):\n",
    "        transformed_X = X.apply(lambda pixel: [float(p) for p in pixel.split()])\n",
    "        transformed_X = np.array(transformed_X.values.tolist())\n",
    "        \n",
    "        return transformed_X"
   ]
  },
  {
   "cell_type": "code",
   "execution_count": 47,
   "metadata": {},
   "outputs": [],
   "source": [
    "img_parser = ImageParser()\n",
    "\n",
    "# Train\n",
    "X_img_train = img_parser.transform(train_data.imagePixels)\n",
    "y_img_train = train_data.is_adult\n",
    "\n",
    "# Valid\n",
    "X_img_valid = img_parser.transform(valid_data.imagePixels)\n",
    "y_img_valid = valid_data.is_adult\n"
   ]
  },
  {
   "cell_type": "markdown",
   "metadata": {},
   "source": [
    "#### Mô hình hóa"
   ]
  },
  {
   "cell_type": "markdown",
   "metadata": {},
   "source": [
    "Nhóm sẽ xây dựng mô hình phân loại ảnh đơn giản bằng Logistic Regression để hỗ trợ cho mô hình phân loại ảnh"
   ]
  },
  {
   "cell_type": "code",
   "execution_count": 48,
   "metadata": {},
   "outputs": [
    {
     "name": "stdout",
     "output_type": "stream",
     "text": [
      "Độ chính xác tập train: 73.61\n",
      "Độ chính xác tập valid: 70.76\n"
     ]
    }
   ],
   "source": [
    "img_pipeline = Pipeline([\n",
    "    ('parser', ImageParser()),\n",
    "    ('clf', LogisticRegression(C=1.0, solver='lbfgs', random_state=42, max_iter=1000))\n",
    "])\n",
    "\n",
    "clf = LogisticRegression(C=C, solver='lbfgs', random_state=42, max_iter=1000)\n",
    "clf.fit(X_img_train, y_img_train)\n",
    "\n",
    "# đánh giá tập train\n",
    "y_pred = clf.predict(X_img_train)\n",
    "train_acc = np.mean(y_pred == y_img_train)*100\n",
    "print(\"Độ chính xác tập train: %.2f\" % train_acc)\n",
    "\n",
    "# đánh giá tập valid\n",
    "y_pred = clf.predict(X_img_valid)\n",
    "valid_acc = np.mean(y_pred == y_img_valid)*100\n",
    "print(\"Độ chính xác tập valid: %.2f\" % valid_acc)\n"
   ]
  },
  {
   "cell_type": "markdown",
   "metadata": {},
   "source": [
    "#### Hyperparameter tuning"
   ]
  },
  {
   "cell_type": "markdown",
   "metadata": {},
   "source": [
    "Điều chỉnh siêu tham số C của mô hình."
   ]
  },
  {
   "cell_type": "code",
   "execution_count": 49,
   "metadata": {},
   "outputs": [
    {
     "name": "stdout",
     "output_type": "stream",
     "text": [
      "Siêu tham số C tốt nhất: 50\n",
      "Độ chính xác tập valid tốt nhất: 71.69559412550068\n",
      "Train accs: [72.23786066150598, 72.23786066150598, 72.34342012667135, 72.5545390570021, 72.97677691766363, 73.61013370865588]\n",
      "Valid accs: [71.56208277703605, 71.56208277703605, 71.56208277703605, 71.69559412550068, 71.42857142857143, 70.76101468624833]\n"
     ]
    }
   ],
   "source": [
    "best_val_acc = 0\n",
    "best_C = None; \n",
    "train_accs = []\n",
    "valid_accs = []\n",
    "# Tìm mô hình phân loại ảnh tốt nhất\n",
    "for C in [0.01, 0.1, 10, 50, 100, 1000]:\n",
    "    clf = LogisticRegression(C=C, solver='lbfgs', random_state=42, max_iter=1000)\n",
    "    clf.fit(X_img_train, y_img_train)\n",
    "    \n",
    "    # đánh giá tập train\n",
    "    y_pred = clf.predict(X_img_train)\n",
    "    train_acc = np.mean(y_pred == y_img_train)*100\n",
    "    train_accs.append(train_acc)\n",
    "\n",
    "    # đánh giá tập valid\n",
    "    y_pred = clf.predict(X_img_valid)\n",
    "    valid_acc = np.mean(y_pred == y_img_valid)*100\n",
    "    valid_accs.append(valid_acc)\n",
    "    \n",
    "    # Tìm ra hyperparameter tốt nhất\n",
    "    if valid_acc > best_val_acc:\n",
    "        best_val_acc = valid_acc\n",
    "        best_C = C\n",
    "\n",
    "print(\"Siêu tham số C tốt nhất:\", best_C)\n",
    "print(\"Độ chính xác tập valid tốt nhất:\", best_val_acc)\n",
    "print(\"Train accs:\", train_accs)\n",
    "print(\"Valid accs:\", valid_accs)"
   ]
  },
  {
   "cell_type": "markdown",
   "metadata": {},
   "source": [
    "#### Đánh giá hiệu quả mô hình trên tập test"
   ]
  },
  {
   "cell_type": "code",
   "execution_count": 50,
   "metadata": {},
   "outputs": [
    {
     "name": "stdout",
     "output_type": "stream",
     "text": [
      "Test Accuracy: 74.55\n"
     ]
    }
   ],
   "source": [
    "# Đặt siêu tham số tốt nhất\n",
    "img_pipeline.set_params(clf__C=best_C)\n",
    "\n",
    "# Huấn luyện toàn bộ lại\n",
    "img_pipeline.fit(train_data.imagePixels, train_data.is_adult)\n",
    "\n",
    "# đánh giá trên tập test\n",
    "y_pred = img_pipeline.predict(test_data.imagePixels)\n",
    "test_acc = np.mean(y_pred == test_data.is_adult)*100\n",
    "\n",
    "print(\"Test Accuracy: %.2f\" % test_acc)"
   ]
  },
  {
   "cell_type": "markdown",
   "metadata": {},
   "source": [
    "### Kết hợp kết quả của hai mô hình ngôn ngữ và ảnh"
   ]
  },
  {
   "cell_type": "markdown",
   "metadata": {},
   "source": [
    "Sau khi đã huấn luyện được 2 loại mô hình là mô hình ngôn ngữ và mô hình xử lí ảnh. Để kết hợp được sức mạnh của hai mô hình, thư viện `scikit-learn` có hàm hỗ trợ dự đoán xác suất là `predict_proba`. Việc kết hợp sẽ thực hiện bằng cách tính _trung bình_ giữa 2 kết quả của 2 loại mô hình trên để phân loại."
   ]
  },
  {
   "cell_type": "markdown",
   "metadata": {},
   "source": [
    "#### Kết hợp trên tập tiếng Anh"
   ]
  },
  {
   "cell_type": "code",
   "execution_count": 51,
   "metadata": {},
   "outputs": [
    {
     "name": "stdout",
     "output_type": "stream",
     "text": [
      "Test Accuracy: 81.53\n"
     ]
    }
   ],
   "source": [
    "en_test_pred = en_full_pipeline.predict_proba(en_test_X.overview)\n",
    "img_test_pred = img_pipeline.predict_proba(en_test_X.imagePixels)\n",
    "\n",
    "test_pred = np.argmax((en_test_pred + img_test_pred) / 2, axis=1)\n",
    "\n",
    "test_acc = np.mean(test_pred == en_test_y)*100\n",
    "\n",
    "print(\"Test Accuracy: %.2f\" % test_acc)"
   ]
  },
  {
   "cell_type": "markdown",
   "metadata": {},
   "source": [
    "#### Kết hợp trên tập tiếng Việt"
   ]
  },
  {
   "cell_type": "code",
   "execution_count": 52,
   "metadata": {},
   "outputs": [
    {
     "name": "stdout",
     "output_type": "stream",
     "text": [
      "Test Accuracy: 78.18\n"
     ]
    }
   ],
   "source": [
    "vi_test_pred = vi_full_pipeline.predict_proba(vi_test_X.overview)\n",
    "img_test_pred = img_pipeline.predict_proba(vi_test_X.imagePixels)\n",
    "\n",
    "test_pred = np.argmax((vi_test_pred + img_test_pred) / 2, axis=1)\n",
    "\n",
    "test_acc = np.mean(test_pred == vi_test_y)*100\n",
    "\n",
    "print(\"Test Accuracy: %.2f\" % test_acc)"
   ]
  },
  {
   "cell_type": "markdown",
   "metadata": {},
   "source": [
    "* **Kết luận**: Sau khi kết hợp 2 mô hình ngôn ngữ và ảnh thì kết quả trên tập test được cải thiện khá nhiều. Trên tập tiếng Việt (\\~9.1%), riêng trên tập tiếng Anh thì hiệu suất bị giảm đi một ít, không đáng kể (\\~0.23%). Để tránh việc giảm này có thể thử nghiệm cách đặt trọng số weight cho giá trị dự đoán của mỗi mô hình để giảm đi sự ảnh hưởng của 1 trong 2 mô hình phân loại trên."
   ]
  },
  {
   "cell_type": "markdown",
   "metadata": {},
   "source": [
    "---"
   ]
  },
  {
   "cell_type": "markdown",
   "metadata": {},
   "source": [
    "## Nhìn lại quá trình làm đồ án"
   ]
  },
  {
   "cell_type": "markdown",
   "metadata": {},
   "source": [
    "### Những khó khăn"
   ]
  },
  {
   "cell_type": "markdown",
   "metadata": {},
   "source": [
    "- Giới hạn độ tuổi mà trang phim cung cấp không thống nhất, nhiều metadata khác nhau cho nên dữ liệu thu thập chứa đa dạng lớp. Để giải quyết vấn đề này, gộp các lớp lại còn 2 cụm chưa đủ 18 và đủ 18 thì phải thực hiện một cách thủ công."
   ]
  },
  {
   "cell_type": "markdown",
   "metadata": {},
   "source": [
    "### Bài học rút ra"
   ]
  },
  {
   "cell_type": "markdown",
   "metadata": {},
   "source": [
    "- Cách triển khai một mô hình xử lí ngôn ngữ đơn giản sử dụng Bag of word\n",
    "- Đặc điểm khác nhau giữa xử lí ngôn ngữ tiếng Anh và tiếng Việt"
   ]
  },
  {
   "cell_type": "markdown",
   "metadata": {},
   "source": [
    "Nếu có thêm thời gian, nhóm sẽ tận dụng những thêm những đặc trưng khác để mô hình có thể xử lí được nhiều trường hợp phức tạp hơn. Đồng thời sẽ tìm hiểu thêm những mô hình nổi bật trong xử lí ngôn ngữ tự nhiên như Word2vec, BERT,... để mô hình nâng cao hơn, có thể hiểu được ngữ nghĩa và thứ tự của các từ. Cũng như tìm hiểu về các mô hình xử lí ảnh như ResNet, EfficientNet,... Ngoài ra, có thể thử nghiệm thay vì lấy trung bình kết quả dự đoán của hai mô hình ngôn ngữ và ảnh thì có thể kết hợp đặc trưng của hai mô hình lại rồi cho qua 1 mô hình phân loại."
   ]
  },
  {
   "cell_type": "markdown",
   "metadata": {},
   "source": [
    "## Tài liệu tham khảo"
   ]
  },
  {
   "cell_type": "markdown",
   "metadata": {},
   "source": [
    "1. [scikit-learn User Guide](https://scikit-learn.org/)\n",
    "2. [Stackoverflow](https://stackoverflow.com/)\n",
    "3. [Pandas Documentation](https://pandas.pydata.org/)\n",
    "4. [Stemming and Lemmatization in Python](https://www.datacamp.com/community/tutorials/stemming-lemmatization-python)\n",
    "5. [Vietnamese stopwords](https://github.com/stopwords/vietnamese-stopwords)\n",
    "6. [Joblib](https://joblib.readthedocs.io/en/latest/)"
   ]
  }
 ],
 "metadata": {
  "kernelspec": {
   "display_name": "Python 3",
   "language": "python",
   "name": "python3"
  },
  "language_info": {
   "codemirror_mode": {
    "name": "ipython",
    "version": 3
   },
   "file_extension": ".py",
   "mimetype": "text/x-python",
   "name": "python",
   "nbconvert_exporter": "python",
   "pygments_lexer": "ipython3",
   "version": "3.6.9"
  }
 },
 "nbformat": 4,
 "nbformat_minor": 2
}

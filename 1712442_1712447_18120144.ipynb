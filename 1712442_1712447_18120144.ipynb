{
 "cells": [
  {
   "cell_type": "markdown",
   "metadata": {},
   "source": [
    "## Thông tin nhóm\n",
    "\n",
    "**Thành viên thứ 1:**\n",
    "\n",
    "- Họ và tên: Trần Trung Hiếu\n",
    "- MSSV: 1712442\n",
    "\n",
    "**Thành viên thứ 2:**\n",
    "- Họ và tên: Lê Long Hồ\n",
    "- MSSV: 1712447\n",
    "\n",
    "**Thành viên thứ 3:**\n",
    "- Họ và tên: Nguyễn Đình Thiên Phúc\n",
    "- MSSV: 18120144\n",
    "\n",
    "___"
   ]
  },
  {
   "cell_type": "markdown",
   "metadata": {},
   "source": [
    "## Import"
   ]
  },
  {
   "cell_type": "code",
   "execution_count": 2,
   "metadata": {},
   "outputs": [],
   "source": [
    "import csv\n",
    "import json\n",
    "import pandas as pd\n",
    "import numpy as np\n",
    "import matplotlib.pyplot as plt\n",
    "import re\n",
    "pd.set_option('display.max_rows', 500)"
   ]
  },
  {
   "cell_type": "markdown",
   "metadata": {},
   "source": [
    "---"
   ]
  },
  {
   "cell_type": "markdown",
   "metadata": {},
   "source": [
    "## Thu thập dữ liệu"
   ]
  },
  {
   "cell_type": "markdown",
   "metadata": {},
   "source": [
    "TODO"
   ]
  },
  {
   "cell_type": "markdown",
   "metadata": {},
   "source": [
    "---"
   ]
  },
  {
   "cell_type": "markdown",
   "metadata": {},
   "source": [
    "## Khám phá dữ liệu"
   ]
  },
  {
   "cell_type": "code",
   "execution_count": 6,
   "metadata": {},
   "outputs": [
    {
     "data": {
      "text/html": [
       "<div>\n",
       "<style scoped>\n",
       "    .dataframe tbody tr th:only-of-type {\n",
       "        vertical-align: middle;\n",
       "    }\n",
       "\n",
       "    .dataframe tbody tr th {\n",
       "        vertical-align: top;\n",
       "    }\n",
       "\n",
       "    .dataframe thead th {\n",
       "        text-align: right;\n",
       "    }\n",
       "</style>\n",
       "<table border=\"1\" class=\"dataframe\">\n",
       "  <thead>\n",
       "    <tr style=\"text-align: right;\">\n",
       "      <th></th>\n",
       "      <th>url</th>\n",
       "      <th>title</th>\n",
       "      <th>score</th>\n",
       "      <th>posterImagePath</th>\n",
       "      <th>certification</th>\n",
       "      <th>overview</th>\n",
       "      <th>tagline</th>\n",
       "      <th>genres</th>\n",
       "      <th>trailerUrl</th>\n",
       "      <th>language</th>\n",
       "    </tr>\n",
       "  </thead>\n",
       "  <tbody>\n",
       "    <tr>\n",
       "      <th>5047</th>\n",
       "      <td>https://www.themoviedb.org/movie/183011</td>\n",
       "      <td>Justice League: The Flashpoint Paradox\\n(2013)</td>\n",
       "      <td>78.0</td>\n",
       "      <td>poster_final/183011.jpg</td>\n",
       "      <td>PG-13</td>\n",
       "      <td>When time travel allows a past wrong to be rig...</td>\n",
       "      <td>Fight the future.</td>\n",
       "      <td>Phim Giả Tượng, Phim Khoa Học Viễn Tưởng, Phim...</td>\n",
       "      <td>NaN</td>\n",
       "      <td>en</td>\n",
       "    </tr>\n",
       "    <tr>\n",
       "      <th>138</th>\n",
       "      <td>https://www.themoviedb.org/tv/62046</td>\n",
       "      <td>Scream Queens\\n(2015)</td>\n",
       "      <td>79.0</td>\n",
       "      <td>poster_final/62046.jpg</td>\n",
       "      <td>TV-14</td>\n",
       "      <td>The super-charged comedy-horror series is a mo...</td>\n",
       "      <td>Pretty evil.</td>\n",
       "      <td>Phim Bí Ẩn, Phim Hình Sự, Phim Hài, Phim Chính...</td>\n",
       "      <td>NaN</td>\n",
       "      <td>en</td>\n",
       "    </tr>\n",
       "    <tr>\n",
       "      <th>2282</th>\n",
       "      <td>https://www.themoviedb.org/tv/41727</td>\n",
       "      <td>Banshee\\n(2013)</td>\n",
       "      <td>79.0</td>\n",
       "      <td>poster_final/41727.jpg</td>\n",
       "      <td>TV-MA</td>\n",
       "      <td>Banshee is an American drama television series...</td>\n",
       "      <td>Small town. Big secrets.</td>\n",
       "      <td>Phim Hình Sự, Phim Chính Kịch</td>\n",
       "      <td>NaN</td>\n",
       "      <td>en</td>\n",
       "    </tr>\n",
       "    <tr>\n",
       "      <th>3969</th>\n",
       "      <td>https://www.themoviedb.org/movie/659994</td>\n",
       "      <td>Rams\\n(2020)</td>\n",
       "      <td>66.0</td>\n",
       "      <td>poster_final/659994.jpg</td>\n",
       "      <td>PG</td>\n",
       "      <td>In remote Western Australia, two estranged far...</td>\n",
       "      <td>Where there's a wool, there's a way</td>\n",
       "      <td>Phim Chính Kịch, Phim Hài</td>\n",
       "      <td>NaN</td>\n",
       "      <td>en</td>\n",
       "    </tr>\n",
       "    <tr>\n",
       "      <th>2699</th>\n",
       "      <td>https://www.themoviedb.org/movie/46429</td>\n",
       "      <td>Những Tay Súng Diệt Quỷ\\n(2012)</td>\n",
       "      <td>41.0</td>\n",
       "      <td>poster_final/46429.jpg</td>\n",
       "      <td>R</td>\n",
       "      <td>Bộ phim kể về một tay súng bí ẩn, Aman, là con...</td>\n",
       "      <td>NaN</td>\n",
       "      <td>Phim Hành Động, Phim Kinh Dị, Phim Miền Tây</td>\n",
       "      <td>NaN</td>\n",
       "      <td>vi</td>\n",
       "    </tr>\n",
       "  </tbody>\n",
       "</table>\n",
       "</div>"
      ],
      "text/plain": [
       "                                          url  \\\n",
       "5047  https://www.themoviedb.org/movie/183011   \n",
       "138       https://www.themoviedb.org/tv/62046   \n",
       "2282      https://www.themoviedb.org/tv/41727   \n",
       "3969  https://www.themoviedb.org/movie/659994   \n",
       "2699   https://www.themoviedb.org/movie/46429   \n",
       "\n",
       "                                               title  score  \\\n",
       "5047  Justice League: The Flashpoint Paradox\\n(2013)   78.0   \n",
       "138                            Scream Queens\\n(2015)   79.0   \n",
       "2282                                 Banshee\\n(2013)   79.0   \n",
       "3969                                    Rams\\n(2020)   66.0   \n",
       "2699                 Những Tay Súng Diệt Quỷ\\n(2012)   41.0   \n",
       "\n",
       "              posterImagePath certification  \\\n",
       "5047  poster_final/183011.jpg         PG-13   \n",
       "138    poster_final/62046.jpg         TV-14   \n",
       "2282   poster_final/41727.jpg         TV-MA   \n",
       "3969  poster_final/659994.jpg            PG   \n",
       "2699   poster_final/46429.jpg             R   \n",
       "\n",
       "                                               overview  \\\n",
       "5047  When time travel allows a past wrong to be rig...   \n",
       "138   The super-charged comedy-horror series is a mo...   \n",
       "2282  Banshee is an American drama television series...   \n",
       "3969  In remote Western Australia, two estranged far...   \n",
       "2699  Bộ phim kể về một tay súng bí ẩn, Aman, là con...   \n",
       "\n",
       "                                  tagline  \\\n",
       "5047                    Fight the future.   \n",
       "138                          Pretty evil.   \n",
       "2282             Small town. Big secrets.   \n",
       "3969  Where there's a wool, there's a way   \n",
       "2699                                  NaN   \n",
       "\n",
       "                                                 genres trailerUrl language  \n",
       "5047  Phim Giả Tượng, Phim Khoa Học Viễn Tưởng, Phim...        NaN       en  \n",
       "138   Phim Bí Ẩn, Phim Hình Sự, Phim Hài, Phim Chính...        NaN       en  \n",
       "2282                      Phim Hình Sự, Phim Chính Kịch        NaN       en  \n",
       "3969                          Phim Chính Kịch, Phim Hài        NaN       en  \n",
       "2699        Phim Hành Động, Phim Kinh Dị, Phim Miền Tây        NaN       vi  "
      ]
     },
     "execution_count": 6,
     "metadata": {},
     "output_type": "execute_result"
    }
   ],
   "source": [
    "movie_df = pd.read_csv('movie_final.csv')\n",
    "movie_df.sample(5)"
   ]
  },
  {
   "cell_type": "code",
   "execution_count": 27,
   "metadata": {},
   "outputs": [
    {
     "name": "stdout",
     "output_type": "stream",
     "text": [
      "Dữ liệu có số dòng: 5598\n",
      "Dữ liệu có số cột: 10\n"
     ]
    }
   ],
   "source": [
    "n_row, n_col = movie_df.shape\n",
    "print(\"Dữ liệu có số dòng:\", n_row)\n",
    "print(\"Dữ liệu có số cột:\", n_col)"
   ]
  },
  {
   "cell_type": "markdown",
   "metadata": {},
   "source": [
    "Mỗi dòng trong tập dữ liệu thể hiện vài thông tin của một bộ phim, bộ phim đó có thể là phim truyền hình hoặc phim điện ảnh. Các dòng này đều có ý nghĩa tương đương nhau. "
   ]
  },
  {
   "cell_type": "markdown",
   "metadata": {},
   "source": [
    "## Đưa ra câu hỏi cần trả lời"
   ]
  },
  {
   "cell_type": "markdown",
   "metadata": {},
   "source": [
    "TODO"
   ]
  },
  {
   "cell_type": "markdown",
   "metadata": {},
   "source": [
    "---"
   ]
  },
  {
   "cell_type": "markdown",
   "metadata": {},
   "source": [
    "## Khám phá dữ liệu"
   ]
  },
  {
   "cell_type": "markdown",
   "metadata": {},
   "source": [
    "TODO"
   ]
  },
  {
   "cell_type": "markdown",
   "metadata": {},
   "source": [
    "## Tiền xử lí - tách các tập dữ liệu"
   ]
  },
  {
   "cell_type": "markdown",
   "metadata": {},
   "source": [
    "TODO"
   ]
  },
  {
   "cell_type": "markdown",
   "metadata": {},
   "source": [
    "---"
   ]
  },
  {
   "cell_type": "markdown",
   "metadata": {},
   "source": [
    "## Khám phá dữ liệu - tập huấn luyện"
   ]
  },
  {
   "cell_type": "markdown",
   "metadata": {},
   "source": [
    "## Tiền xử lí"
   ]
  },
  {
   "cell_type": "code",
   "execution_count": 19,
   "metadata": {},
   "outputs": [
    {
     "data": {
      "text/plain": [
       "en    4304\n",
       "vi    1224\n",
       "lt      31\n",
       "fi      10\n",
       "tl       5\n",
       "pt       4\n",
       "cy       4\n",
       "ro       3\n",
       "es       2\n",
       "de       1\n",
       "cs       1\n",
       "af       1\n",
       "fr       1\n",
       "it       1\n",
       "sk       1\n",
       "id       1\n",
       "Name: language, dtype: int64"
      ]
     },
     "execution_count": 19,
     "metadata": {},
     "output_type": "execute_result"
    }
   ],
   "source": [
    "movie_df.language.value_counts()"
   ]
  },
  {
   "cell_type": "code",
   "execution_count": 25,
   "metadata": {},
   "outputs": [
    {
     "name": "stderr",
     "output_type": "stream",
     "text": [
      "F:\\Software\\Anaconda\\lib\\site-packages\\ipykernel_launcher.py:1: UserWarning: Boolean Series key will be reindexed to match DataFrame index.\n",
      "  \"\"\"Entry point for launching an IPython kernel.\n"
     ]
    },
    {
     "data": {
      "text/html": [
       "<div>\n",
       "<style scoped>\n",
       "    .dataframe tbody tr th:only-of-type {\n",
       "        vertical-align: middle;\n",
       "    }\n",
       "\n",
       "    .dataframe tbody tr th {\n",
       "        vertical-align: top;\n",
       "    }\n",
       "\n",
       "    .dataframe thead th {\n",
       "        text-align: right;\n",
       "    }\n",
       "</style>\n",
       "<table border=\"1\" class=\"dataframe\">\n",
       "  <thead>\n",
       "    <tr style=\"text-align: right;\">\n",
       "      <th></th>\n",
       "      <th>url</th>\n",
       "      <th>title</th>\n",
       "      <th>score</th>\n",
       "      <th>posterImagePath</th>\n",
       "      <th>certification</th>\n",
       "      <th>overview</th>\n",
       "      <th>tagline</th>\n",
       "      <th>genres</th>\n",
       "      <th>trailerUrl</th>\n",
       "      <th>language</th>\n",
       "    </tr>\n",
       "  </thead>\n",
       "  <tbody>\n",
       "    <tr>\n",
       "      <th>606</th>\n",
       "      <td>https://www.themoviedb.org/tv/46101</td>\n",
       "      <td>Senhora do Destino\\n(2004)</td>\n",
       "      <td>95.0</td>\n",
       "      <td>poster_final/46101.jpg</td>\n",
       "      <td>L</td>\n",
       "      <td>Senhora do Destino foi uma telenovela brasilei...</td>\n",
       "      <td>NaN</td>\n",
       "      <td>Phim Chính Kịch, Soap, Phim Gia Đình, Soap</td>\n",
       "      <td>NaN</td>\n",
       "      <td>pt</td>\n",
       "    </tr>\n",
       "    <tr>\n",
       "      <th>1687</th>\n",
       "      <td>https://www.themoviedb.org/tv/75380</td>\n",
       "      <td>Tô de Graça\\n(2017)</td>\n",
       "      <td>85.0</td>\n",
       "      <td>poster_final/75380.jpg</td>\n",
       "      <td>12</td>\n",
       "      <td>Na nova série de comédia Tô de Graça, Rodrigo ...</td>\n",
       "      <td>NaN</td>\n",
       "      <td>Phim Hài</td>\n",
       "      <td>NaN</td>\n",
       "      <td>pt</td>\n",
       "    </tr>\n",
       "  </tbody>\n",
       "</table>\n",
       "</div>"
      ],
      "text/plain": [
       "                                      url                       title  score         posterImagePath certification                                           overview tagline                                      genres trailerUrl language\n",
       "606   https://www.themoviedb.org/tv/46101  Senhora do Destino\\n(2004)   95.0  poster_final/46101.jpg             L  Senhora do Destino foi uma telenovela brasilei...     NaN  Phim Chính Kịch, Soap, Phim Gia Đình, Soap        NaN       pt\n",
       "1687  https://www.themoviedb.org/tv/75380         Tô de Graça\\n(2017)   85.0  poster_final/75380.jpg            12  Na nova série de comédia Tô de Graça, Rodrigo ...     NaN                                    Phim Hài        NaN       pt"
      ]
     },
     "execution_count": 25,
     "metadata": {},
     "output_type": "execute_result"
    }
   ],
   "source": [
    "movie_df[movie_df.score != 0.0]"
   ]
  },
  {
   "cell_type": "code",
   "execution_count": 14,
   "metadata": {},
   "outputs": [
    {
     "name": "stdout",
     "output_type": "stream",
     "text": [
      "<class 'pandas.core.frame.DataFrame'>\n",
      "RangeIndex: 5598 entries, 0 to 5597\n",
      "Data columns (total 10 columns):\n",
      " #   Column           Non-Null Count  Dtype  \n",
      "---  ------           --------------  -----  \n",
      " 0   url              5598 non-null   object \n",
      " 1   title            5594 non-null   object \n",
      " 2   score            5594 non-null   float64\n",
      " 3   posterImagePath  5326 non-null   object \n",
      " 4   certification    4177 non-null   object \n",
      " 5   overview         5594 non-null   object \n",
      " 6   tagline          2522 non-null   object \n",
      " 7   genres           5230 non-null   object \n",
      " 8   trailerUrl       79 non-null     object \n",
      " 9   language         5594 non-null   object \n",
      "dtypes: float64(1), object(9)\n",
      "memory usage: 437.5+ KB\n"
     ]
    }
   ],
   "source": [
    "movie_df.info()"
   ]
  },
  {
   "cell_type": "code",
   "execution_count": 18,
   "metadata": {
    "scrolled": true
   },
   "outputs": [
    {
     "data": {
      "text/plain": [
       "R             622\n",
       "TV-14         518\n",
       "PG-13         455\n",
       "PG            407\n",
       "TV-MA         407\n",
       "TV-PG         205\n",
       "G             173\n",
       "12            169\n",
       "NR            167\n",
       "15            138\n",
       "16            111\n",
       "TV-Y7          94\n",
       "TV-G           72\n",
       "U              62\n",
       "18             49\n",
       "14             47\n",
       "L              44\n",
       "16+            29\n",
       "10             25\n",
       "0              25\n",
       "6              23\n",
       "18+            20\n",
       "T              18\n",
       "12+            17\n",
       "MA15+          16\n",
       "保護級            15\n",
       "TV-Y           15\n",
       "普遍級            14\n",
       "AL             14\n",
       "6+             12\n",
       "7              12\n",
       "輔12級           10\n",
       "M               9\n",
       "NC-17           9\n",
       "UA              9\n",
       "APTA            9\n",
       "11              8\n",
       "M/12            7\n",
       "NC16            6\n",
       "9               6\n",
       "C13             6\n",
       "15세 이상 관람가      6\n",
       "12세 이상 관람가      5\n",
       "ALL             5\n",
       "A               4\n",
       "PG13            4\n",
       "C18             4\n",
       "0+              4\n",
       "C8              4\n",
       "輔15級            4\n",
       "12A             4\n",
       "14+             4\n",
       "19              4\n",
       "PG12            3\n",
       "17+             3\n",
       "15세이상관람가        3\n",
       "13+             3\n",
       "13              2\n",
       "청소년 관람불가        2\n",
       "N-7             2\n",
       "TP              2\n",
       "M/16            2\n",
       "M/14            2\n",
       "C16             2\n",
       "R - 17+         2\n",
       "청소년관람불가         2\n",
       "K-7             1\n",
       "R15+            1\n",
       "E               1\n",
       "-               1\n",
       "18A             1\n",
       "IIA             1\n",
       "12세이상관람가        1\n",
       "R21             1\n",
       "K-12            1\n",
       "Exempt          1\n",
       "น 18+           1\n",
       "S               1\n",
       "C               1\n",
       "e Livre         1\n",
       "NC18            1\n",
       "VM14            1\n",
       "น 15+           1\n",
       "14A             1\n",
       "M18             1\n",
       "ZA              1\n",
       "N-14            1\n",
       "Name: certification, dtype: int64"
      ]
     },
     "execution_count": 18,
     "metadata": {},
     "output_type": "execute_result"
    }
   ],
   "source": [
    "movie_df.certification.value_counts()"
   ]
  },
  {
   "cell_type": "markdown",
   "metadata": {},
   "source": [
    "## Tiền xử lí - tập validation"
   ]
  },
  {
   "cell_type": "markdown",
   "metadata": {},
   "source": [
    "TODO"
   ]
  },
  {
   "cell_type": "markdown",
   "metadata": {},
   "source": [
    "---"
   ]
  },
  {
   "cell_type": "markdown",
   "metadata": {},
   "source": [
    "## Mô hình hóa dữ liệu"
   ]
  },
  {
   "cell_type": "markdown",
   "metadata": {},
   "source": [
    "### Hyperparameter tuning"
   ]
  },
  {
   "cell_type": "markdown",
   "metadata": {},
   "source": [
    "TODO"
   ]
  },
  {
   "cell_type": "markdown",
   "metadata": {},
   "source": [
    "### Đánh giá mô hình"
   ]
  },
  {
   "cell_type": "markdown",
   "metadata": {},
   "source": [
    "TODO"
   ]
  },
  {
   "cell_type": "markdown",
   "metadata": {},
   "source": [
    "---"
   ]
  },
  {
   "cell_type": "markdown",
   "metadata": {},
   "source": [
    "## Kết luận"
   ]
  },
  {
   "cell_type": "markdown",
   "metadata": {},
   "source": [
    "TODO"
   ]
  },
  {
   "cell_type": "code",
   "execution_count": null,
   "metadata": {},
   "outputs": [],
   "source": []
  }
 ],
 "metadata": {
  "kernelspec": {
   "display_name": "Python 3",
   "language": "python",
   "name": "python3"
  },
  "language_info": {
   "codemirror_mode": {
    "name": "ipython",
    "version": 3
   },
   "file_extension": ".py",
   "mimetype": "text/x-python",
   "name": "python",
   "nbconvert_exporter": "python",
   "pygments_lexer": "ipython3",
   "version": "3.7.1"
  }
 },
 "nbformat": 4,
 "nbformat_minor": 2
}

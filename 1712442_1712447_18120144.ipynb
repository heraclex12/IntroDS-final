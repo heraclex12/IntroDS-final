{
 "cells": [
  {
   "cell_type": "markdown",
   "metadata": {},
   "source": [
    "## Thông tin nhóm\n",
    "\n",
    "**Thành viên thứ 1:**\n",
    "\n",
    "- Họ và tên: Trần Trung Hiếu\n",
    "- MSSV: 1712442\n",
    "\n",
    "**Thành viên thứ 2:**\n",
    "- Họ và tên: Lê Long Hồ\n",
    "- MSSV: 1712447\n",
    "\n",
    "**Thành viên thứ 3:**\n",
    "- Họ và tên: Nguyễn Đình Thiên Phúc\n",
    "- MSSV: 18120144\n",
    "\n",
    "___"
   ]
  },
  {
   "cell_type": "markdown",
   "metadata": {},
   "source": [
    "## Import"
   ]
  },
  {
   "cell_type": "code",
   "execution_count": 6,
   "metadata": {},
   "outputs": [],
   "source": [
    "import csv\n",
    "import json\n",
    "import pandas as pd\n",
    "import numpy as np\n",
    "import matplotlib.pyplot as plt\n",
    "\n",
    "from sklearn.model_selection import train_test_split\n",
    "import re\n",
    "pd.set_option('display.max_rows', 500)"
   ]
  },
  {
   "cell_type": "markdown",
   "metadata": {},
   "source": [
    "---"
   ]
  },
  {
   "cell_type": "markdown",
   "metadata": {},
   "source": [
    "## Thu thập dữ liệu"
   ]
  },
  {
   "cell_type": "markdown",
   "metadata": {},
   "source": [
    "TODO"
   ]
  },
  {
   "cell_type": "markdown",
   "metadata": {},
   "source": [
    "---"
   ]
  },
  {
   "cell_type": "markdown",
   "metadata": {},
   "source": [
    "## Khám phá dữ liệu"
   ]
  },
  {
   "cell_type": "code",
   "execution_count": 2,
   "metadata": {},
   "outputs": [
    {
     "data": {
      "text/html": [
       "<div>\n",
       "<style scoped>\n",
       "    .dataframe tbody tr th:only-of-type {\n",
       "        vertical-align: middle;\n",
       "    }\n",
       "\n",
       "    .dataframe tbody tr th {\n",
       "        vertical-align: top;\n",
       "    }\n",
       "\n",
       "    .dataframe thead th {\n",
       "        text-align: right;\n",
       "    }\n",
       "</style>\n",
       "<table border=\"1\" class=\"dataframe\">\n",
       "  <thead>\n",
       "    <tr style=\"text-align: right;\">\n",
       "      <th></th>\n",
       "      <th>url</th>\n",
       "      <th>title</th>\n",
       "      <th>score</th>\n",
       "      <th>posterImagePath</th>\n",
       "      <th>certification</th>\n",
       "      <th>overview</th>\n",
       "      <th>tagline</th>\n",
       "      <th>genres</th>\n",
       "      <th>trailerUrl</th>\n",
       "      <th>language</th>\n",
       "    </tr>\n",
       "  </thead>\n",
       "  <tbody>\n",
       "    <tr>\n",
       "      <th>1483</th>\n",
       "      <td>https://www.themoviedb.org/tv/78508</td>\n",
       "      <td>Druck\\n(2018)</td>\n",
       "      <td>79.0</td>\n",
       "      <td>poster_final/78508.jpg</td>\n",
       "      <td>NaN</td>\n",
       "      <td>Skam Germany</td>\n",
       "      <td>NaN</td>\n",
       "      <td>Phim Chính Kịch</td>\n",
       "      <td>NaN</td>\n",
       "      <td>id</td>\n",
       "    </tr>\n",
       "    <tr>\n",
       "      <th>903</th>\n",
       "      <td>https://www.themoviedb.org/tv/433</td>\n",
       "      <td>Terminator: The Sarah Connor Chronicles\\n(2008)</td>\n",
       "      <td>74.0</td>\n",
       "      <td>poster_final/433.jpg</td>\n",
       "      <td>TV-14</td>\n",
       "      <td>The series picks up four years after the event...</td>\n",
       "      <td>NaN</td>\n",
       "      <td>Sci-Fi &amp; Fantasy, Phim Chính Kịch</td>\n",
       "      <td>NaN</td>\n",
       "      <td>en</td>\n",
       "    </tr>\n",
       "    <tr>\n",
       "      <th>4002</th>\n",
       "      <td>https://www.themoviedb.org/movie/781301</td>\n",
       "      <td>Homeschool Musical Class Of 2020\\n(2020)</td>\n",
       "      <td>0.0</td>\n",
       "      <td>poster_final/781301.jpg</td>\n",
       "      <td>NaN</td>\n",
       "      <td>Exploring the themes of classic teen movies th...</td>\n",
       "      <td>NaN</td>\n",
       "      <td>Phim Nhạc, Phim Tài Liệu</td>\n",
       "      <td>NaN</td>\n",
       "      <td>en</td>\n",
       "    </tr>\n",
       "    <tr>\n",
       "      <th>1019</th>\n",
       "      <td>https://www.themoviedb.org/tv/2407</td>\n",
       "      <td>Dark Angel\\n(2000)</td>\n",
       "      <td>75.0</td>\n",
       "      <td>poster_final/2407.jpg</td>\n",
       "      <td>TV-14</td>\n",
       "      <td>Super soldier Max Guevera tries to live a norm...</td>\n",
       "      <td>NaN</td>\n",
       "      <td>Action &amp; Adventure, Phim Chính Kịch</td>\n",
       "      <td>NaN</td>\n",
       "      <td>en</td>\n",
       "    </tr>\n",
       "    <tr>\n",
       "      <th>2700</th>\n",
       "      <td>https://www.themoviedb.org/movie/768509</td>\n",
       "      <td>Captain Underpants: Mega Blissmas\\n(2020)</td>\n",
       "      <td>58.0</td>\n",
       "      <td>poster_final/768509.jpg</td>\n",
       "      <td>0</td>\n",
       "      <td>Christmas gets weird - really weird - after Ge...</td>\n",
       "      <td>NaN</td>\n",
       "      <td>Phim Hoạt Hình, Phim Gia Đình, Phim Hài</td>\n",
       "      <td>NaN</td>\n",
       "      <td>en</td>\n",
       "    </tr>\n",
       "  </tbody>\n",
       "</table>\n",
       "</div>"
      ],
      "text/plain": [
       "                                          url  \\\n",
       "1483      https://www.themoviedb.org/tv/78508   \n",
       "903         https://www.themoviedb.org/tv/433   \n",
       "4002  https://www.themoviedb.org/movie/781301   \n",
       "1019       https://www.themoviedb.org/tv/2407   \n",
       "2700  https://www.themoviedb.org/movie/768509   \n",
       "\n",
       "                                                title  score  \\\n",
       "1483                                    Druck\\n(2018)   79.0   \n",
       "903   Terminator: The Sarah Connor Chronicles\\n(2008)   74.0   \n",
       "4002         Homeschool Musical Class Of 2020\\n(2020)    0.0   \n",
       "1019                               Dark Angel\\n(2000)   75.0   \n",
       "2700        Captain Underpants: Mega Blissmas\\n(2020)   58.0   \n",
       "\n",
       "              posterImagePath certification  \\\n",
       "1483   poster_final/78508.jpg           NaN   \n",
       "903      poster_final/433.jpg         TV-14   \n",
       "4002  poster_final/781301.jpg           NaN   \n",
       "1019    poster_final/2407.jpg         TV-14   \n",
       "2700  poster_final/768509.jpg             0   \n",
       "\n",
       "                                               overview tagline  \\\n",
       "1483                                       Skam Germany     NaN   \n",
       "903   The series picks up four years after the event...     NaN   \n",
       "4002  Exploring the themes of classic teen movies th...     NaN   \n",
       "1019  Super soldier Max Guevera tries to live a norm...     NaN   \n",
       "2700  Christmas gets weird - really weird - after Ge...     NaN   \n",
       "\n",
       "                                       genres trailerUrl language  \n",
       "1483                          Phim Chính Kịch        NaN       id  \n",
       "903         Sci-Fi & Fantasy, Phim Chính Kịch        NaN       en  \n",
       "4002                 Phim Nhạc, Phim Tài Liệu        NaN       en  \n",
       "1019      Action & Adventure, Phim Chính Kịch        NaN       en  \n",
       "2700  Phim Hoạt Hình, Phim Gia Đình, Phim Hài        NaN       en  "
      ]
     },
     "execution_count": 2,
     "metadata": {},
     "output_type": "execute_result"
    }
   ],
   "source": [
    "movie_df = pd.read_csv('movie_final.csv')\n",
    "movie_df.sample(5)"
   ]
  },
  {
   "cell_type": "code",
   "execution_count": 10,
   "metadata": {},
   "outputs": [
    {
     "name": "stdout",
     "output_type": "stream",
     "text": [
      "<class 'pandas.core.frame.DataFrame'>\n",
      "RangeIndex: 5598 entries, 0 to 5597\n",
      "Data columns (total 10 columns):\n",
      " #   Column           Non-Null Count  Dtype  \n",
      "---  ------           --------------  -----  \n",
      " 0   url              5598 non-null   object \n",
      " 1   title            5594 non-null   object \n",
      " 2   score            5594 non-null   float64\n",
      " 3   posterImagePath  5326 non-null   object \n",
      " 4   certification    4177 non-null   object \n",
      " 5   overview         5594 non-null   object \n",
      " 6   tagline          2522 non-null   object \n",
      " 7   genres           5230 non-null   object \n",
      " 8   trailerUrl       79 non-null     object \n",
      " 9   language         5594 non-null   object \n",
      "dtypes: float64(1), object(9)\n",
      "memory usage: 437.5+ KB\n"
     ]
    }
   ],
   "source": [
    "movie_df.info()"
   ]
  },
  {
   "cell_type": "code",
   "execution_count": 3,
   "metadata": {},
   "outputs": [
    {
     "name": "stdout",
     "output_type": "stream",
     "text": [
      "Dữ liệu có số dòng: 5598\n",
      "Dữ liệu có số cột: 10\n"
     ]
    }
   ],
   "source": [
    "n_row, n_col = movie_df.shape\n",
    "print(\"Dữ liệu có số dòng:\", n_row)\n",
    "print(\"Dữ liệu có số cột:\", n_col)"
   ]
  },
  {
   "cell_type": "markdown",
   "metadata": {},
   "source": [
    "Mỗi dòng trong tập dữ liệu thể hiện vài thông tin của một bộ phim, bộ phim đó có thể là phim truyền hình hoặc phim điện ảnh. Các dòng này đều có ý nghĩa tương đương nhau. "
   ]
  },
  {
   "cell_type": "markdown",
   "metadata": {},
   "source": [
    "## Đưa ra câu hỏi cần trả lời"
   ]
  },
  {
   "cell_type": "markdown",
   "metadata": {},
   "source": [
    "Các thông tin được tải lên trên Internet hầu như không được kiểm duyệt, chính vì vậy sẽ có thể xuất hiện những nội dung không phù hợp với mọi lứa tuổi, cụ thể là những bộ phim có gán nhãn giới hạn độ tuổi người lớn không nên để những người chưa đủ tuổi, đặc biệt là trẻ nhỏ tiếp xúc. Tuy nhiên, rất nhiều các website xem phim lại không có gán nhãn giới hạn độ tuổi. Chính vì vậy, câu hỏi này được đưa ra nhằm tìm câu trả lời giải quyết vấn đề nội dung bộ phim không phù hợp với các lứa tuổi, giúp các phụ huynh có thể quản lí được trẻ nhỏ không tìm coi những bộ phim có nội dung không phù hợp.\n",
    "\n",
    "Câu hỏi này sẽ liên quan tới việc phân loại nội dung tóm tắt của một bộ phim và dự đoán độ tuổi phù hợp để coi bộ phim này là gì.\n",
    "\n",
    "- Input: overview (nội dung tóm tắt của bộ phim)\n",
    "- Output: certification (độ tuổi phù hợp)"
   ]
  },
  {
   "cell_type": "markdown",
   "metadata": {},
   "source": [
    "---"
   ]
  },
  {
   "cell_type": "markdown",
   "metadata": {},
   "source": [
    "## Khám phá dữ liệu"
   ]
  },
  {
   "cell_type": "code",
   "execution_count": 12,
   "metadata": {},
   "outputs": [
    {
     "name": "stdout",
     "output_type": "stream",
     "text": [
      "Danh sách các ngôn ngữ thể hiện nội dung tóm tắt:\n",
      "en    4304\n",
      "vi    1224\n",
      "lt      31\n",
      "fi      10\n",
      "tl       5\n",
      "pt       4\n",
      "cy       4\n",
      "ro       3\n",
      "es       2\n",
      "de       1\n",
      "af       1\n",
      "it       1\n",
      "fr       1\n",
      "sk       1\n",
      "cs       1\n",
      "id       1\n",
      "Name: language, dtype: int64\n"
     ]
    }
   ],
   "source": [
    "print(\"Danh sách các ngôn ngữ thể hiện nội dung tóm tắt:\")\n",
    "print(movie_df.language.value_counts())"
   ]
  },
  {
   "cell_type": "code",
   "execution_count": 8,
   "metadata": {},
   "outputs": [
    {
     "name": "stdout",
     "output_type": "stream",
     "text": [
      "Kiểu dữ liệu của cột cerfitication: object\n"
     ]
    }
   ],
   "source": [
    "print('Kiểu dữ liệu của cột cerfitication:', movie_df.certification.dtype)"
   ]
  },
  {
   "cell_type": "code",
   "execution_count": 11,
   "metadata": {},
   "outputs": [
    {
     "name": "stdout",
     "output_type": "stream",
     "text": [
      "Số lượng dòng bị thiếu output: 1421\n",
      "Số lượng dòng có output: 4177\n"
     ]
    }
   ],
   "source": [
    "print(\"Số lượng dòng bị thiếu output:\", movie_df.certification.isnull().sum())\n",
    "print(\"Số lượng dòng có output:\", movie_df.shape[0] - movie_df.certification.isnull().sum())"
   ]
  },
  {
   "cell_type": "code",
   "execution_count": 25,
   "metadata": {
    "scrolled": true
   },
   "outputs": [
    {
     "name": "stdout",
     "output_type": "stream",
     "text": [
      "Số lượng lớp trong certification: 88\n",
      "Tỉ lệ bộ phim của từng lớp:\n",
      " R             14.891070\n",
      "TV-14         12.401245\n",
      "PG-13         10.892985\n",
      "PG             9.743835\n",
      "TV-MA          9.743835\n",
      "TV-PG          4.907829\n",
      "G              4.141729\n",
      "12             4.045966\n",
      "NR             3.998085\n",
      "15             3.303807\n",
      "16             2.657410\n",
      "TV-Y7          2.250419\n",
      "TV-G           1.723725\n",
      "U              1.484319\n",
      "18             1.173091\n",
      "14             1.125209\n",
      "L              1.053388\n",
      "16+            0.694278\n",
      "0              0.598516\n",
      "10             0.598516\n",
      "6              0.550634\n",
      "18+            0.478813\n",
      "T              0.430931\n",
      "12+            0.406991\n",
      "MA15+          0.383050\n",
      "TV-Y           0.359109\n",
      "保護級            0.359109\n",
      "普遍級            0.335169\n",
      "AL             0.335169\n",
      "6+             0.287288\n",
      "7              0.287288\n",
      "輔12級           0.239406\n",
      "APTA           0.215466\n",
      "UA             0.215466\n",
      "NC-17          0.215466\n",
      "M              0.215466\n",
      "11             0.191525\n",
      "M/12           0.167584\n",
      "C13            0.143644\n",
      "15세 이상 관람가     0.143644\n",
      "NC16           0.143644\n",
      "9              0.143644\n",
      "12세 이상 관람가     0.119703\n",
      "ALL            0.119703\n",
      "A              0.095763\n",
      "輔15級           0.095763\n",
      "12A            0.095763\n",
      "14+            0.095763\n",
      "PG13           0.095763\n",
      "C8             0.095763\n",
      "19             0.095763\n",
      "0+             0.095763\n",
      "C18            0.095763\n",
      "15세이상관람가       0.071822\n",
      "17+            0.071822\n",
      "PG12           0.071822\n",
      "13+            0.071822\n",
      "청소년관람불가        0.047881\n",
      "N-7            0.047881\n",
      "M/14           0.047881\n",
      "M/16           0.047881\n",
      "13             0.047881\n",
      "TP             0.047881\n",
      "C16            0.047881\n",
      "R - 17+        0.047881\n",
      "청소년 관람불가       0.047881\n",
      "R21            0.023941\n",
      "E              0.023941\n",
      "-              0.023941\n",
      "14A            0.023941\n",
      "VM14           0.023941\n",
      "Exempt         0.023941\n",
      "K-12           0.023941\n",
      "C              0.023941\n",
      "e Livre        0.023941\n",
      "R15+           0.023941\n",
      "น 18+          0.023941\n",
      "12세이상관람가       0.023941\n",
      "18A            0.023941\n",
      "K-7            0.023941\n",
      "ZA             0.023941\n",
      "NC18           0.023941\n",
      "S              0.023941\n",
      "น 15+          0.023941\n",
      "N-14           0.023941\n",
      "IIA            0.023941\n",
      "M18            0.023941\n",
      "Name: certification, dtype: float64\n"
     ]
    }
   ],
   "source": [
    "print('Số lượng lớp trong certification:', len(movie_df.certification.unique()))\n",
    "print('Tỉ lệ bộ phim của từng lớp:\\n', movie_df.certification.value_counts(normalize=True)*100)"
   ]
  },
  {
   "cell_type": "markdown",
   "metadata": {},
   "source": [
    "## Tiền xử lí - tách các tập dữ liệu"
   ]
  },
  {
   "cell_type": "markdown",
   "metadata": {},
   "source": [
    "`en` và `vi` là hai ngôn ngữ có số lượng bộ phim chiếm nhiều nhất, cho nên nhóm sẽ giữ lại những bộ phim thuộc một trong hai ngôn ngữ này để thực hiện tiền xử lí và loại bỏ đi các dòng chứa các ngôn ngữ còn lại"
   ]
  },
  {
   "cell_type": "code",
   "execution_count": 40,
   "metadata": {},
   "outputs": [
    {
     "data": {
      "text/html": [
       "<div>\n",
       "<style scoped>\n",
       "    .dataframe tbody tr th:only-of-type {\n",
       "        vertical-align: middle;\n",
       "    }\n",
       "\n",
       "    .dataframe tbody tr th {\n",
       "        vertical-align: top;\n",
       "    }\n",
       "\n",
       "    .dataframe thead th {\n",
       "        text-align: right;\n",
       "    }\n",
       "</style>\n",
       "<table border=\"1\" class=\"dataframe\">\n",
       "  <thead>\n",
       "    <tr style=\"text-align: right;\">\n",
       "      <th></th>\n",
       "      <th>index</th>\n",
       "      <th>url</th>\n",
       "      <th>title</th>\n",
       "      <th>score</th>\n",
       "      <th>posterImagePath</th>\n",
       "      <th>certification</th>\n",
       "      <th>overview</th>\n",
       "      <th>tagline</th>\n",
       "      <th>genres</th>\n",
       "      <th>trailerUrl</th>\n",
       "      <th>language</th>\n",
       "    </tr>\n",
       "  </thead>\n",
       "  <tbody>\n",
       "    <tr>\n",
       "      <th>0</th>\n",
       "      <td>0</td>\n",
       "      <td>https://www.themoviedb.org/tv/44217</td>\n",
       "      <td>Huyền Thoại Vikings\\n(2013)</td>\n",
       "      <td>79.0</td>\n",
       "      <td>poster_final/44217.jpg</td>\n",
       "      <td>14+</td>\n",
       "      <td>Người Viking đưa chúng ta đến thế giới tàn khố...</td>\n",
       "      <td>NaN</td>\n",
       "      <td>Action &amp; Adventure, Phim Chính Kịch</td>\n",
       "      <td>NaN</td>\n",
       "      <td>vi</td>\n",
       "    </tr>\n",
       "    <tr>\n",
       "      <th>1</th>\n",
       "      <td>1</td>\n",
       "      <td>https://www.themoviedb.org/tv/82856</td>\n",
       "      <td>The Mandalorian\\n(2019)</td>\n",
       "      <td>85.0</td>\n",
       "      <td>poster_final/82856.jpg</td>\n",
       "      <td>TV-14</td>\n",
       "      <td>After the fall of the Galactic Empire, lawless...</td>\n",
       "      <td>Bounty hunting is a complicated profession.</td>\n",
       "      <td>Sci-Fi &amp; Fantasy, Action &amp; Adventure</td>\n",
       "      <td>NaN</td>\n",
       "      <td>en</td>\n",
       "    </tr>\n",
       "    <tr>\n",
       "      <th>2</th>\n",
       "      <td>2</td>\n",
       "      <td>https://www.themoviedb.org/tv/77169</td>\n",
       "      <td>Cobra Kai\\n(2018)</td>\n",
       "      <td>81.0</td>\n",
       "      <td>poster_final/77169.jpg</td>\n",
       "      <td>TV-14</td>\n",
       "      <td>This Karate Kid sequel series picks up 30 year...</td>\n",
       "      <td>Cobra Kai never dies.</td>\n",
       "      <td>Action &amp; Adventure, Phim Chính Kịch</td>\n",
       "      <td>NaN</td>\n",
       "      <td>en</td>\n",
       "    </tr>\n",
       "    <tr>\n",
       "      <th>3</th>\n",
       "      <td>3</td>\n",
       "      <td>https://www.themoviedb.org/tv/75006</td>\n",
       "      <td>Học Viện Umbrella\\n(2019)</td>\n",
       "      <td>87.0</td>\n",
       "      <td>poster_final/75006.jpg</td>\n",
       "      <td>TV-MA</td>\n",
       "      <td>Được đưa về quá khứ những năm 1960 tại Dallas,...</td>\n",
       "      <td>Super. Dysfunctional. Family.</td>\n",
       "      <td>Action &amp; Adventure, Sci-Fi &amp; Fantasy, Phim Chí...</td>\n",
       "      <td>NaN</td>\n",
       "      <td>vi</td>\n",
       "    </tr>\n",
       "    <tr>\n",
       "      <th>4</th>\n",
       "      <td>4</td>\n",
       "      <td>https://www.themoviedb.org/tv/71712</td>\n",
       "      <td>Bác Sĩ Thiên Tài\\n(2017)</td>\n",
       "      <td>86.0</td>\n",
       "      <td>poster_final/71712.jpg</td>\n",
       "      <td>TV-14</td>\n",
       "      <td>Một bác sĩ trẻ mắc hội chứng bác học được nhận...</td>\n",
       "      <td>His mind is a mystery, his methods are a miracle.</td>\n",
       "      <td>Phim Chính Kịch</td>\n",
       "      <td>NaN</td>\n",
       "      <td>vi</td>\n",
       "    </tr>\n",
       "  </tbody>\n",
       "</table>\n",
       "</div>"
      ],
      "text/plain": [
       "   index                                  url                        title  \\\n",
       "0      0  https://www.themoviedb.org/tv/44217  Huyền Thoại Vikings\\n(2013)   \n",
       "1      1  https://www.themoviedb.org/tv/82856      The Mandalorian\\n(2019)   \n",
       "2      2  https://www.themoviedb.org/tv/77169            Cobra Kai\\n(2018)   \n",
       "3      3  https://www.themoviedb.org/tv/75006    Học Viện Umbrella\\n(2019)   \n",
       "4      4  https://www.themoviedb.org/tv/71712     Bác Sĩ Thiên Tài\\n(2017)   \n",
       "\n",
       "   score         posterImagePath certification  \\\n",
       "0   79.0  poster_final/44217.jpg           14+   \n",
       "1   85.0  poster_final/82856.jpg         TV-14   \n",
       "2   81.0  poster_final/77169.jpg         TV-14   \n",
       "3   87.0  poster_final/75006.jpg         TV-MA   \n",
       "4   86.0  poster_final/71712.jpg         TV-14   \n",
       "\n",
       "                                            overview  \\\n",
       "0  Người Viking đưa chúng ta đến thế giới tàn khố...   \n",
       "1  After the fall of the Galactic Empire, lawless...   \n",
       "2  This Karate Kid sequel series picks up 30 year...   \n",
       "3  Được đưa về quá khứ những năm 1960 tại Dallas,...   \n",
       "4  Một bác sĩ trẻ mắc hội chứng bác học được nhận...   \n",
       "\n",
       "                                             tagline  \\\n",
       "0                                                NaN   \n",
       "1        Bounty hunting is a complicated profession.   \n",
       "2                              Cobra Kai never dies.   \n",
       "3                      Super. Dysfunctional. Family.   \n",
       "4  His mind is a mystery, his methods are a miracle.   \n",
       "\n",
       "                                              genres trailerUrl language  \n",
       "0                Action & Adventure, Phim Chính Kịch        NaN       vi  \n",
       "1               Sci-Fi & Fantasy, Action & Adventure        NaN       en  \n",
       "2                Action & Adventure, Phim Chính Kịch        NaN       en  \n",
       "3  Action & Adventure, Sci-Fi & Fantasy, Phim Chí...        NaN       vi  \n",
       "4                                    Phim Chính Kịch        NaN       vi  "
      ]
     },
     "execution_count": 40,
     "metadata": {},
     "output_type": "execute_result"
    }
   ],
   "source": [
    "envi_movie_df = movie_df[((movie_df.language == 'vi') | (movie_df.language == 'en'))]\n",
    "envi_movie_df.reset_index(inplace=True)\n",
    "envi_movie_df.head(5)"
   ]
  },
  {
   "cell_type": "code",
   "execution_count": null,
   "metadata": {},
   "outputs": [],
   "source": []
  },
  {
   "cell_type": "markdown",
   "metadata": {},
   "source": [
    "---"
   ]
  },
  {
   "cell_type": "markdown",
   "metadata": {},
   "source": [
    "## Khám phá dữ liệu - tập huấn luyện"
   ]
  },
  {
   "cell_type": "markdown",
   "metadata": {},
   "source": [
    "## Tiền xử lí"
   ]
  },
  {
   "cell_type": "code",
   "execution_count": 31,
   "metadata": {},
   "outputs": [
    {
     "data": {
      "text/html": [
       "<div>\n",
       "<style scoped>\n",
       "    .dataframe tbody tr th:only-of-type {\n",
       "        vertical-align: middle;\n",
       "    }\n",
       "\n",
       "    .dataframe tbody tr th {\n",
       "        vertical-align: top;\n",
       "    }\n",
       "\n",
       "    .dataframe thead th {\n",
       "        text-align: right;\n",
       "    }\n",
       "</style>\n",
       "<table border=\"1\" class=\"dataframe\">\n",
       "  <thead>\n",
       "    <tr style=\"text-align: right;\">\n",
       "      <th></th>\n",
       "      <th>url</th>\n",
       "      <th>title</th>\n",
       "      <th>score</th>\n",
       "      <th>posterImagePath</th>\n",
       "      <th>certification</th>\n",
       "      <th>overview</th>\n",
       "      <th>tagline</th>\n",
       "      <th>genres</th>\n",
       "      <th>trailerUrl</th>\n",
       "      <th>language</th>\n",
       "    </tr>\n",
       "  </thead>\n",
       "  <tbody>\n",
       "    <tr>\n",
       "      <th>125</th>\n",
       "      <td>https://www.themoviedb.org/tv/35674</td>\n",
       "      <td>Football Tonight\\n(1998)</td>\n",
       "      <td>0.0</td>\n",
       "      <td>NaN</td>\n",
       "      <td>NaN</td>\n",
       "      <td>We don't have an overview translated in Englis...</td>\n",
       "      <td>NaN</td>\n",
       "      <td>NaN</td>\n",
       "      <td>NaN</td>\n",
       "      <td>en</td>\n",
       "    </tr>\n",
       "    <tr>\n",
       "      <th>181</th>\n",
       "      <td>https://www.themoviedb.org/tv/9890</td>\n",
       "      <td>The Dick Cavett Show\\n(1968)</td>\n",
       "      <td>0.0</td>\n",
       "      <td>poster_final/9890.jpg</td>\n",
       "      <td>NaN</td>\n",
       "      <td>The Dick Cavett Show has been the title of sev...</td>\n",
       "      <td>NaN</td>\n",
       "      <td>Talk</td>\n",
       "      <td>NaN</td>\n",
       "      <td>en</td>\n",
       "    </tr>\n",
       "    <tr>\n",
       "      <th>192</th>\n",
       "      <td>https://www.themoviedb.org/tv/82395</td>\n",
       "      <td>The Liar\\n(2012)</td>\n",
       "      <td>0.0</td>\n",
       "      <td>poster_final/82395.jpg</td>\n",
       "      <td>NaN</td>\n",
       "      <td>We don't have an overview translated in Englis...</td>\n",
       "      <td>NaN</td>\n",
       "      <td>Reality</td>\n",
       "      <td>NaN</td>\n",
       "      <td>en</td>\n",
       "    </tr>\n",
       "    <tr>\n",
       "      <th>223</th>\n",
       "      <td>https://www.themoviedb.org/tv/23915</td>\n",
       "      <td>Markus Lanz\\n(2008)</td>\n",
       "      <td>0.0</td>\n",
       "      <td>NaN</td>\n",
       "      <td>NaN</td>\n",
       "      <td>We don't have an overview translated in Englis...</td>\n",
       "      <td>NaN</td>\n",
       "      <td>Talk</td>\n",
       "      <td>NaN</td>\n",
       "      <td>en</td>\n",
       "    </tr>\n",
       "    <tr>\n",
       "      <th>252</th>\n",
       "      <td>https://www.themoviedb.org/tv/99053</td>\n",
       "      <td>Médicos, línea de vida\\n(2020)</td>\n",
       "      <td>0.0</td>\n",
       "      <td>poster_final/99053.jpg</td>\n",
       "      <td>NaN</td>\n",
       "      <td>We don't have an overview translated in Englis...</td>\n",
       "      <td>NaN</td>\n",
       "      <td>NaN</td>\n",
       "      <td>NaN</td>\n",
       "      <td>en</td>\n",
       "    </tr>\n",
       "    <tr>\n",
       "      <th>...</th>\n",
       "      <td>...</td>\n",
       "      <td>...</td>\n",
       "      <td>...</td>\n",
       "      <td>...</td>\n",
       "      <td>...</td>\n",
       "      <td>...</td>\n",
       "      <td>...</td>\n",
       "      <td>...</td>\n",
       "      <td>...</td>\n",
       "      <td>...</td>\n",
       "    </tr>\n",
       "    <tr>\n",
       "      <th>4610</th>\n",
       "      <td>https://www.themoviedb.org/movie/619585</td>\n",
       "      <td>Matinee\\n(2019)</td>\n",
       "      <td>0.0</td>\n",
       "      <td>poster_final/619585.jpg</td>\n",
       "      <td>NaN</td>\n",
       "      <td>Satoshi Makino (Masaharu Fukuyama) is a genius...</td>\n",
       "      <td>NaN</td>\n",
       "      <td>Phim Lãng Mạn</td>\n",
       "      <td>NaN</td>\n",
       "      <td>en</td>\n",
       "    </tr>\n",
       "    <tr>\n",
       "      <th>4612</th>\n",
       "      <td>https://www.themoviedb.org/movie/606915</td>\n",
       "      <td>Sunshine Family\\n(2019)</td>\n",
       "      <td>0.0</td>\n",
       "      <td>poster_final/606915.jpg</td>\n",
       "      <td>PG</td>\n",
       "      <td>A modern Filipino family in South Korea tries ...</td>\n",
       "      <td>NaN</td>\n",
       "      <td>Phim Chính Kịch</td>\n",
       "      <td>NaN</td>\n",
       "      <td>en</td>\n",
       "    </tr>\n",
       "    <tr>\n",
       "      <th>4613</th>\n",
       "      <td>https://www.themoviedb.org/movie/587610</td>\n",
       "      <td>The Oath\\n(2020)</td>\n",
       "      <td>0.0</td>\n",
       "      <td>poster_final/587610.jpg</td>\n",
       "      <td>12+</td>\n",
       "      <td>An impressing war drama, a story of life and h...</td>\n",
       "      <td>NaN</td>\n",
       "      <td>Phim Chính Kịch, Phim Chiến Tranh, Phim Lịch Sử</td>\n",
       "      <td>NaN</td>\n",
       "      <td>en</td>\n",
       "    </tr>\n",
       "    <tr>\n",
       "      <th>4616</th>\n",
       "      <td>https://www.themoviedb.org/movie/783153</td>\n",
       "      <td>Angkara Dendam\\n(2021)</td>\n",
       "      <td>0.0</td>\n",
       "      <td>poster_final/783153.jpg</td>\n",
       "      <td>NaN</td>\n",
       "      <td>We don't have an overview translated in Englis...</td>\n",
       "      <td>NaN</td>\n",
       "      <td>Phim Chính Kịch</td>\n",
       "      <td>NaN</td>\n",
       "      <td>en</td>\n",
       "    </tr>\n",
       "    <tr>\n",
       "      <th>4617</th>\n",
       "      <td>https://www.themoviedb.org/movie/783023</td>\n",
       "      <td>Riverside - Lost 'n' Found - Live in Tilburg\\n...</td>\n",
       "      <td>0.0</td>\n",
       "      <td>poster_final/783023.jpg</td>\n",
       "      <td>AL</td>\n",
       "      <td>We don't have an overview translated in Englis...</td>\n",
       "      <td>NaN</td>\n",
       "      <td>Phim Nhạc</td>\n",
       "      <td>NaN</td>\n",
       "      <td>en</td>\n",
       "    </tr>\n",
       "  </tbody>\n",
       "</table>\n",
       "<p>919 rows × 10 columns</p>\n",
       "</div>"
      ],
      "text/plain": [
       "                                          url  \\\n",
       "125       https://www.themoviedb.org/tv/35674   \n",
       "181        https://www.themoviedb.org/tv/9890   \n",
       "192       https://www.themoviedb.org/tv/82395   \n",
       "223       https://www.themoviedb.org/tv/23915   \n",
       "252       https://www.themoviedb.org/tv/99053   \n",
       "...                                       ...   \n",
       "4610  https://www.themoviedb.org/movie/619585   \n",
       "4612  https://www.themoviedb.org/movie/606915   \n",
       "4613  https://www.themoviedb.org/movie/587610   \n",
       "4616  https://www.themoviedb.org/movie/783153   \n",
       "4617  https://www.themoviedb.org/movie/783023   \n",
       "\n",
       "                                                  title  score  \\\n",
       "125                            Football Tonight\\n(1998)    0.0   \n",
       "181                        The Dick Cavett Show\\n(1968)    0.0   \n",
       "192                                    The Liar\\n(2012)    0.0   \n",
       "223                                 Markus Lanz\\n(2008)    0.0   \n",
       "252                      Médicos, línea de vida\\n(2020)    0.0   \n",
       "...                                                 ...    ...   \n",
       "4610                                    Matinee\\n(2019)    0.0   \n",
       "4612                            Sunshine Family\\n(2019)    0.0   \n",
       "4613                                   The Oath\\n(2020)    0.0   \n",
       "4616                             Angkara Dendam\\n(2021)    0.0   \n",
       "4617  Riverside - Lost 'n' Found - Live in Tilburg\\n...    0.0   \n",
       "\n",
       "              posterImagePath certification  \\\n",
       "125                       NaN           NaN   \n",
       "181     poster_final/9890.jpg           NaN   \n",
       "192    poster_final/82395.jpg           NaN   \n",
       "223                       NaN           NaN   \n",
       "252    poster_final/99053.jpg           NaN   \n",
       "...                       ...           ...   \n",
       "4610  poster_final/619585.jpg           NaN   \n",
       "4612  poster_final/606915.jpg            PG   \n",
       "4613  poster_final/587610.jpg           12+   \n",
       "4616  poster_final/783153.jpg           NaN   \n",
       "4617  poster_final/783023.jpg            AL   \n",
       "\n",
       "                                               overview tagline  \\\n",
       "125   We don't have an overview translated in Englis...     NaN   \n",
       "181   The Dick Cavett Show has been the title of sev...     NaN   \n",
       "192   We don't have an overview translated in Englis...     NaN   \n",
       "223   We don't have an overview translated in Englis...     NaN   \n",
       "252   We don't have an overview translated in Englis...     NaN   \n",
       "...                                                 ...     ...   \n",
       "4610  Satoshi Makino (Masaharu Fukuyama) is a genius...     NaN   \n",
       "4612  A modern Filipino family in South Korea tries ...     NaN   \n",
       "4613  An impressing war drama, a story of life and h...     NaN   \n",
       "4616  We don't have an overview translated in Englis...     NaN   \n",
       "4617  We don't have an overview translated in Englis...     NaN   \n",
       "\n",
       "                                               genres trailerUrl language  \n",
       "125                                               NaN        NaN       en  \n",
       "181                                              Talk        NaN       en  \n",
       "192                                           Reality        NaN       en  \n",
       "223                                              Talk        NaN       en  \n",
       "252                                               NaN        NaN       en  \n",
       "...                                               ...        ...      ...  \n",
       "4610                                    Phim Lãng Mạn        NaN       en  \n",
       "4612                                  Phim Chính Kịch        NaN       en  \n",
       "4613  Phim Chính Kịch, Phim Chiến Tranh, Phim Lịch Sử        NaN       en  \n",
       "4616                                  Phim Chính Kịch        NaN       en  \n",
       "4617                                        Phim Nhạc        NaN       en  \n",
       "\n",
       "[919 rows x 10 columns]"
      ]
     },
     "execution_count": 31,
     "metadata": {},
     "output_type": "execute_result"
    }
   ],
   "source": [
    "movie_df[movie_df.score == 0.0]"
   ]
  },
  {
   "cell_type": "markdown",
   "metadata": {},
   "source": [
    "## Tiền xử lí - tập validation"
   ]
  },
  {
   "cell_type": "markdown",
   "metadata": {},
   "source": [
    "TODO"
   ]
  },
  {
   "cell_type": "markdown",
   "metadata": {},
   "source": [
    "---"
   ]
  },
  {
   "cell_type": "markdown",
   "metadata": {},
   "source": [
    "## Mô hình hóa dữ liệu"
   ]
  },
  {
   "cell_type": "markdown",
   "metadata": {},
   "source": [
    "### Hyperparameter tuning"
   ]
  },
  {
   "cell_type": "markdown",
   "metadata": {},
   "source": [
    "TODO"
   ]
  },
  {
   "cell_type": "markdown",
   "metadata": {},
   "source": [
    "### Đánh giá mô hình"
   ]
  },
  {
   "cell_type": "markdown",
   "metadata": {},
   "source": [
    "TODO"
   ]
  },
  {
   "cell_type": "markdown",
   "metadata": {},
   "source": [
    "---"
   ]
  },
  {
   "cell_type": "markdown",
   "metadata": {},
   "source": [
    "## Kết luận"
   ]
  },
  {
   "cell_type": "markdown",
   "metadata": {},
   "source": [
    "TODO"
   ]
  },
  {
   "cell_type": "code",
   "execution_count": null,
   "metadata": {},
   "outputs": [],
   "source": []
  }
 ],
 "metadata": {
  "kernelspec": {
   "display_name": "Python 3",
   "language": "python",
   "name": "python3"
  },
  "language_info": {
   "codemirror_mode": {
    "name": "ipython",
    "version": 3
   },
   "file_extension": ".py",
   "mimetype": "text/x-python",
   "name": "python",
   "nbconvert_exporter": "python",
   "pygments_lexer": "ipython3",
   "version": "3.6.9"
  }
 },
 "nbformat": 4,
 "nbformat_minor": 2
}
